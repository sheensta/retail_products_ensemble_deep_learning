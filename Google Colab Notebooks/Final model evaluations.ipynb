{
  "nbformat": 4,
  "nbformat_minor": 0,
  "metadata": {
    "colab": {
      "name": "model evaluations.ipynb",
      "provenance": [],
      "collapsed_sections": [],
      "machine_shape": "hm",
      "mount_file_id": "1Ck-5xbCQ6TMgEXZ2DdCvHB3OWdt5E5Ok",
      "authorship_tag": "ABX9TyO1EofHBgGYXNu+TrIahHNP",
      "include_colab_link": true
    },
    "kernelspec": {
      "name": "python3",
      "display_name": "Python 3"
    },
    "accelerator": "GPU"
  },
  "cells": [
    {
      "cell_type": "markdown",
      "metadata": {
        "id": "view-in-github",
        "colab_type": "text"
      },
      "source": [
        "<a href=\"https://colab.research.google.com/github/sheensta/retail_products_ensemble_deep_learning/blob/main/model_evaluations.ipynb\" target=\"_parent\"><img src=\"https://colab.research.google.com/assets/colab-badge.svg\" alt=\"Open In Colab\"/></a>"
      ]
    },
    {
      "cell_type": "code",
      "metadata": {
        "id": "MxSjAQEaNPiR"
      },
      "source": [
        "import numpy as np\n",
        "import pandas as pd\n",
        "\n",
        "from sklearn.model_selection import train_test_split\n",
        "from sklearn.preprocessing import LabelEncoder\n",
        "from sklearn.preprocessing import OneHotEncoder\n",
        "from sklearn.metrics import f1_score\n",
        "\n",
        "from scipy import stats\n",
        "\n",
        "import keras\n",
        "from keras.models import load_model\n",
        "from keras.preprocessing.text import Tokenizer\n",
        "from keras.preprocessing.sequence import pad_sequences\n",
        "from keras.utils import to_categorical\n",
        "\n",
        "import joblib"
      ],
      "execution_count": null,
      "outputs": []
    },
    {
      "cell_type": "code",
      "metadata": {
        "id": "YHXPqCOajJT9"
      },
      "source": [
        "#Load data\n",
        "df = pd.read_csv('/content/drive/MyDrive/Colab Notebooks/df_NLP.csv')\n",
        "df['array'] = list(np.load('/content/drive/MyDrive/Colab Notebooks/np_img_array.npy'))"
      ],
      "execution_count": null,
      "outputs": []
    },
    {
      "cell_type": "code",
      "metadata": {
        "id": "CpOuPOG-HUwn"
      },
      "source": [
        "#Label encoding\n",
        "le = LabelEncoder()\n",
        "le.fit(df['categories'])\n",
        "y = to_categorical(list(le.transform(df['categories'])))"
      ],
      "execution_count": null,
      "outputs": []
    },
    {
      "cell_type": "code",
      "metadata": {
        "id": "GLNlc-BUaowl"
      },
      "source": [
        "#Preprocessing for image models (default)\n",
        "X_img = list(df['array'])\n",
        "X_train_img, X_test_img, y_train, y_test = train_test_split(X_img, y, test_size=0.3, random_state=42)\n",
        "X_train_img = np.array(X_test_img)\n",
        "X_test_img = np.array(X_test_img)\n",
        "\n",
        "#Preprocessing for VGG16\n",
        "X_train_vgg = keras.applications.vgg16.preprocess_input(X_train_img)\n",
        "X_test_vgg = keras.applications.vgg16.preprocess_input(X_test_img)\n",
        "\n",
        "#Preprocessing for ResNet50\n",
        "X_train_resnet = keras.applications.resnet50.preprocess_input(X_train_img)\n",
        "X_test_resnet = keras.applications.resnet50.preprocess_input(X_test_img)"
      ],
      "execution_count": null,
      "outputs": []
    },
    {
      "cell_type": "code",
      "metadata": {
        "id": "45lqLyESF7vn"
      },
      "source": [
        "#Preprocessing for NLP models with w2v\n",
        "X_nlp = pd.read_csv('/content/drive/MyDrive/Colab Notebooks/w2v_feature_array_evaluation.csv')\n",
        "#X_nlp = df_nlp.loc[:,0:100]\n",
        "#y_nlp = df_nlp[]\n",
        "X_train_nlp, X_test_nlp, y_train, y_test = train_test_split(X_nlp, y, test_size=0.3, random_state=42)"
      ],
      "execution_count": null,
      "outputs": []
    },
    {
      "cell_type": "code",
      "metadata": {
        "id": "j1gisA_o5YaV"
      },
      "source": [
        "XGB_features = ['f0', 'f1', 'f2', 'f3', 'f4', 'f5', 'f6', 'f7', 'f8', 'f9', 'f10', 'f11', 'f12', 'f13', 'f14', 'f15', 'f16', 'f17', 'f18', 'f19', 'f20', 'f21', 'f22', 'f23', 'f24', 'f25', 'f26', 'f27', 'f28', 'f29', 'f30', 'f31', 'f32', 'f33', 'f34', 'f35', 'f36', 'f37', 'f38', 'f39', 'f40', 'f41', 'f42', 'f43', 'f44', 'f45', 'f46', 'f47', 'f48', 'f49', 'f50', 'f51', 'f52', 'f53', 'f54', 'f55', 'f56', 'f57', 'f58', 'f59', 'f60', 'f61', 'f62', 'f63', 'f64', 'f65', 'f66', 'f67', 'f68', 'f69', 'f70', 'f71', 'f72', 'f73', 'f74', 'f75', 'f76', 'f77', 'f78', 'f79', 'f80', 'f81', 'f82', 'f83', 'f84', 'f85', 'f86', 'f87', 'f88', 'f89', 'f90', 'f91', 'f92', 'f93', 'f94', 'f95', 'f96', 'f97', 'f98', 'f99']"
      ],
      "execution_count": null,
      "outputs": []
    },
    {
      "cell_type": "code",
      "metadata": {
        "id": "xvmNFDe16VGl"
      },
      "source": [
        "#Preprocessing for NLP deep learning models\n",
        "X_nlp_dl = pd.read_csv('/content/drive/MyDrive/Colab Notebooks/df_NLP.csv')\n",
        "X_nlp_dl['description_clean'] = X_nlp_dl['description_clean'].astype(str)\n",
        "tokenizer = Tokenizer(num_words=5000)\n",
        "tokenizer.fit_on_texts(X_nlp_dl['description_clean'])\n",
        "\n",
        "X_train_nlp_dl, X_test_nlp_dl, y_train, y_test = train_test_split(X_nlp_dl, y, test_size=0.3, random_state=42)\n",
        "X_train_nlp_dl = tokenizer.texts_to_sequences(X_train_nlp_dl['description_clean'])\n",
        "X_test_nlp_dl = tokenizer.texts_to_sequences(X_test_nlp_dl['description_clean'])\n",
        "\n",
        "maxlen = 250\n",
        "X_train_nlp_dl = pad_sequences(X_train_nlp_dl, padding='post', maxlen=maxlen)\n",
        "X_test_nlp_dl = pad_sequences(X_test_nlp_dl, padding='post', maxlen=maxlen)"
      ],
      "execution_count": null,
      "outputs": []
    },
    {
      "cell_type": "markdown",
      "metadata": {
        "id": "EHYX2hcDY58Q"
      },
      "source": [
        "Image classification models"
      ]
    },
    {
      "cell_type": "code",
      "metadata": {
        "id": "2R34Anb-U-Jq"
      },
      "source": [
        "#Baseline model (augmentation)\n",
        "model1 = load_model('/content/drive/MyDrive/models/baseline_model_with_augmentation.h5')\n",
        "#Baseline model architecture 2(augmentation)\n",
        "model2 = load_model('/content/drive/MyDrive/models/CV_architecture2.h5')\n",
        "#VGG16 model (augmentation)\n",
        "VGG16 = load_model('/content/drive/MyDrive/models/VGG_transfer_with_augmentation.h5')\n",
        "#ResNet50 model (augmentation)\n",
        "ResNet50 = load_model('/content/drive/MyDrive/models/resnet50_transfer_aug_15epochs.h5')"
      ],
      "execution_count": null,
      "outputs": []
    },
    {
      "cell_type": "markdown",
      "metadata": {
        "id": "TbZEZ1ntY8Ch"
      },
      "source": [
        "NLP models"
      ]
    },
    {
      "cell_type": "code",
      "metadata": {
        "id": "LCWsPYnPNTOv"
      },
      "source": [
        "#RandomForest\n",
        "NLP_RF = joblib.load('/content/drive/MyDrive/models/NLP_rf.pkl')\n",
        "#XGBoost\n",
        "NLP_XGB = joblib.load('/content/drive/MyDrive/models/NLP_XGB.pkl')\n",
        "#Architecture 1, custom embedding\n",
        "NLP_model1 = load_model('/content/drive/MyDrive/models/NLP_custom_trainedsimple DL.h5')\n",
        "#Architecture 1, GloVe embedding\n",
        "NLP_model_glove = load_model('/content/drive/MyDrive/models/NLP_GloVeEmbedding.h5')\n",
        "#CNN, custom embedding\n",
        "NLP_CNN = load_model('/content/drive/MyDrive/models/NLP_custom_CNN.h5')\n",
        "#CNN, GloVe embedding\n",
        "NLP_CNN_glove = load_model('/content/drive/MyDrive/models/NLP_GloVe_CNN.h5')"
      ],
      "execution_count": null,
      "outputs": []
    },
    {
      "cell_type": "markdown",
      "metadata": {
        "id": "mbk3LMl3RnH4"
      },
      "source": [
        "Get predictions from each model"
      ]
    },
    {
      "cell_type": "code",
      "metadata": {
        "id": "UnN0v2wGRquV"
      },
      "source": [
        "#Image predictions\n",
        "y_preds1 = model1.predict(X_test_img)\n",
        "y_preds2 = model2.predict(X_test_img)\n",
        "y_vgg = VGG16.predict(X_test_vgg)\n",
        "y_resnet = ResNet50.predict(X_test_resnet)"
      ],
      "execution_count": null,
      "outputs": []
    },
    {
      "cell_type": "code",
      "metadata": {
        "id": "clO6oQtGSuJr"
      },
      "source": [
        "#Text predictions - classic ML\n",
        "#y_preds_rf = NLP_RF.predict(X_test_nlp)\n",
        "y_preds_rf = np.array(pd.read_csv('/content/drive/MyDrive/Colab Notebooks/y_preds_rf.csv'))\n",
        "#y_preds_XGB = NLP_XGB.predict_proba(X_test_nlp.rename(columns=dict(zip(X_test_nlp.columns, XGB_features))))\n",
        "y_preds_XGB = pd.read_csv('/content/drive/MyDrive/Colab Notebooks/y_preds_xgb.csv')\n",
        "y_preds_XGB = np.array(y_preds_XGB.drop(columns='Unnamed: 0'))"
      ],
      "execution_count": null,
      "outputs": []
    },
    {
      "cell_type": "code",
      "metadata": {
        "id": "Bh-CuE7QTkUt"
      },
      "source": [
        "#Text predictions - Deep Learning\n",
        "y_NLP1 = NLP_model1.predict(X_test_nlp_dl)\n",
        "y_NLP1_glove = NLP_model_glove.predict(X_test_nlp_dl)\n",
        "y_CNN = NLP_CNN.predict(X_test_nlp_dl)\n",
        "y_CNN_glove = NLP_CNN_glove.predict(X_test_nlp_dl)"
      ],
      "execution_count": null,
      "outputs": []
    },
    {
      "cell_type": "markdown",
      "metadata": {
        "id": "nSaXw-DkREep"
      },
      "source": [
        "Calculate overall accuracy, F1-score"
      ]
    },
    {
      "cell_type": "code",
      "metadata": {
        "id": "OK5H9D4xZ_A4"
      },
      "source": [
        "#decode predictions\n",
        "def max_prediction(prediction):\n",
        "  predictions_list = []\n",
        "  for i in range(len(prediction)):\n",
        "    predictions_list.append(np.argmax(prediction[i]))\n",
        "  return predictions_list\n",
        "\n",
        "def decode_predictions_f1(predictions_list):\n",
        "  dict_prediction = dict(zip(le.classes_,f1_score(y_test, max_prediction(predictions_list), average = None)))\n",
        "  return dict_prediction\n",
        "\n",
        "def decode_f1_score(prediction_list):\n",
        "  weighted_f1_score = f1_score(y_test, max_prediction(prediction_list), average = 'weighted')\n",
        "  return weighted_f1_score\n",
        "\n",
        "def decode_predictions_f1_mode(predictions_list):\n",
        "  dict_prediction = dict(zip(le.classes_,f1_score(y_test, predictions_list, average = None)))\n",
        "  return dict_prediction\n",
        "\n",
        "def decode_f1_score_mode(prediction_list):\n",
        "  weighted_f1_score = f1_score(y_test, prediction_list, average = 'weighted')\n",
        "  return weighted_f1_score"
      ],
      "execution_count": null,
      "outputs": []
    },
    {
      "cell_type": "code",
      "metadata": {
        "id": "pCN2GZ54dcvo"
      },
      "source": [
        "img_models_list = [model1, model2, VGG16, ResNet50]\n",
        "NLP_models_list = [NLP_RF, NLP_XGB, NLP_model1, NLP_model_glove, NLP_CNN, NLP_CNN_glove]\n",
        "img_predictions_list = [y_preds1, y_preds2, y_vgg, y_resnet]\n",
        "NLP_predictions_list = [y_preds_rf, y_preds_XGB, y_NLP1, y_NLP1_glove, y_CNN, y_CNN_glove]"
      ],
      "execution_count": null,
      "outputs": []
    },
    {
      "cell_type": "code",
      "metadata": {
        "id": "cJCnNU0MRJl3"
      },
      "source": [
        "f1_score_imgs = [list(decode_predictions_f1(x).values()) for x in img_predictions_list]\n",
        "f1_score_NLP = [list(decode_predictions_f1(x).values()) for x in NLP_predictions_list]\n",
        "f1_scores = f1_score_imgs + f1_score_NLP"
      ],
      "execution_count": null,
      "outputs": []
    },
    {
      "cell_type": "code",
      "metadata": {
        "id": "_H9ZnejqEj7y"
      },
      "source": [
        "def highlight_max(data, color='yellow'):\n",
        "    '''\n",
        "    highlight the maximum in a Series or DataFrame\n",
        "    '''\n",
        "    attr = 'background-color: {}'.format(color)\n",
        "    #remove % and cast to float\n",
        "    data = data.replace('%','', regex=True).astype(float)\n",
        "    if data.ndim == 1:  # Series from .apply(axis=0) or axis=1\n",
        "        is_max = data == data.max()\n",
        "        return [attr if v else '' for v in is_max]\n",
        "    else:  # from .apply(axis=None)\n",
        "        is_max = data == data.max().max()\n",
        "        return pd.DataFrame(np.where(is_max, attr, ''),\n",
        "                            index=data.index, columns=data.columns)"
      ],
      "execution_count": null,
      "outputs": []
    },
    {
      "cell_type": "code",
      "metadata": {
        "colab": {
          "base_uri": "https://localhost:8080/",
          "height": 530
        },
        "id": "3JpW29WUBysO",
        "outputId": "6ba00add-5c87-41ec-b2d2-0308e23103f9"
      },
      "source": [
        "#create dataframe\n",
        "df_colnames = ['CV_model1','CV_model2',' CV_VGG16','CV_ResNet50', 'NLP_RF', 'NLP_XGB', 'NLP_model1', 'NLP_model_glove', 'NLP_CNN', 'NLP_CNN_glove']\n",
        "df2 = pd.DataFrame(data = np.transpose(np.array(f1_scores)), columns = df_colnames)\n",
        "df2.index = le.classes_\n",
        "f1_score_weighted = [decode_f1_score(x) for x in img_predictions_list + NLP_predictions_list]\n",
        "df3 = pd.DataFrame(data = (f1_score_weighted)).transpose()\n",
        "df3.columns = df_colnames\n",
        "df3.index = ['Overall_weighted_f1']\n",
        "df_concat = pd.concat([df2, df3])\n",
        "#df_concat.to_csv('df_concat.csv')\n",
        "df_style = df_concat.style.apply(highlight_max, axis = 1)\n",
        "df_style = df_style.format(\"{:,.3f}\")\n",
        "df_style"
      ],
      "execution_count": null,
      "outputs": [
        {
          "output_type": "execute_result",
          "data": {
            "text/html": [
              "<style  type=\"text/css\" >\n",
              "#T_e24ba5ea_87fe_11eb_8c88_0242ac1c0002row0_col4,#T_e24ba5ea_87fe_11eb_8c88_0242ac1c0002row1_col6,#T_e24ba5ea_87fe_11eb_8c88_0242ac1c0002row2_col6,#T_e24ba5ea_87fe_11eb_8c88_0242ac1c0002row3_col8,#T_e24ba5ea_87fe_11eb_8c88_0242ac1c0002row4_col6,#T_e24ba5ea_87fe_11eb_8c88_0242ac1c0002row5_col6,#T_e24ba5ea_87fe_11eb_8c88_0242ac1c0002row6_col8,#T_e24ba5ea_87fe_11eb_8c88_0242ac1c0002row7_col8,#T_e24ba5ea_87fe_11eb_8c88_0242ac1c0002row8_col8,#T_e24ba5ea_87fe_11eb_8c88_0242ac1c0002row9_col6,#T_e24ba5ea_87fe_11eb_8c88_0242ac1c0002row10_col6,#T_e24ba5ea_87fe_11eb_8c88_0242ac1c0002row11_col4,#T_e24ba5ea_87fe_11eb_8c88_0242ac1c0002row12_col4,#T_e24ba5ea_87fe_11eb_8c88_0242ac1c0002row13_col8,#T_e24ba5ea_87fe_11eb_8c88_0242ac1c0002row14_col6,#T_e24ba5ea_87fe_11eb_8c88_0242ac1c0002row15_col6,#T_e24ba5ea_87fe_11eb_8c88_0242ac1c0002row16_col8,#T_e24ba5ea_87fe_11eb_8c88_0242ac1c0002row17_col8,#T_e24ba5ea_87fe_11eb_8c88_0242ac1c0002row18_col8,#T_e24ba5ea_87fe_11eb_8c88_0242ac1c0002row19_col6,#T_e24ba5ea_87fe_11eb_8c88_0242ac1c0002row20_col8,#T_e24ba5ea_87fe_11eb_8c88_0242ac1c0002row21_col6{\n",
              "            background-color:  yellow;\n",
              "        }</style><table id=\"T_e24ba5ea_87fe_11eb_8c88_0242ac1c0002\" ><thead>    <tr>        <th class=\"blank level0\" ></th>        <th class=\"col_heading level0 col0\" >CV_model1</th>        <th class=\"col_heading level0 col1\" >CV_model2</th>        <th class=\"col_heading level0 col2\" > CV_VGG16</th>        <th class=\"col_heading level0 col3\" >CV_ResNet50</th>        <th class=\"col_heading level0 col4\" >NLP_RF</th>        <th class=\"col_heading level0 col5\" >NLP_XGB</th>        <th class=\"col_heading level0 col6\" >NLP_model1</th>        <th class=\"col_heading level0 col7\" >NLP_model_glove</th>        <th class=\"col_heading level0 col8\" >NLP_CNN</th>        <th class=\"col_heading level0 col9\" >NLP_CNN_glove</th>    </tr></thead><tbody>\n",
              "                <tr>\n",
              "                        <th id=\"T_e24ba5ea_87fe_11eb_8c88_0242ac1c0002level0_row0\" class=\"row_heading level0 row0\" >All Beauty</th>\n",
              "                        <td id=\"T_e24ba5ea_87fe_11eb_8c88_0242ac1c0002row0_col0\" class=\"data row0 col0\" >0.006</td>\n",
              "                        <td id=\"T_e24ba5ea_87fe_11eb_8c88_0242ac1c0002row0_col1\" class=\"data row0 col1\" >0.109</td>\n",
              "                        <td id=\"T_e24ba5ea_87fe_11eb_8c88_0242ac1c0002row0_col2\" class=\"data row0 col2\" >0.349</td>\n",
              "                        <td id=\"T_e24ba5ea_87fe_11eb_8c88_0242ac1c0002row0_col3\" class=\"data row0 col3\" >0.350</td>\n",
              "                        <td id=\"T_e24ba5ea_87fe_11eb_8c88_0242ac1c0002row0_col4\" class=\"data row0 col4\" >0.612</td>\n",
              "                        <td id=\"T_e24ba5ea_87fe_11eb_8c88_0242ac1c0002row0_col5\" class=\"data row0 col5\" >0.526</td>\n",
              "                        <td id=\"T_e24ba5ea_87fe_11eb_8c88_0242ac1c0002row0_col6\" class=\"data row0 col6\" >0.605</td>\n",
              "                        <td id=\"T_e24ba5ea_87fe_11eb_8c88_0242ac1c0002row0_col7\" class=\"data row0 col7\" >0.504</td>\n",
              "                        <td id=\"T_e24ba5ea_87fe_11eb_8c88_0242ac1c0002row0_col8\" class=\"data row0 col8\" >0.570</td>\n",
              "                        <td id=\"T_e24ba5ea_87fe_11eb_8c88_0242ac1c0002row0_col9\" class=\"data row0 col9\" >0.503</td>\n",
              "            </tr>\n",
              "            <tr>\n",
              "                        <th id=\"T_e24ba5ea_87fe_11eb_8c88_0242ac1c0002level0_row1\" class=\"row_heading level0 row1\" >All Electronics</th>\n",
              "                        <td id=\"T_e24ba5ea_87fe_11eb_8c88_0242ac1c0002row1_col0\" class=\"data row1 col0\" >0.003</td>\n",
              "                        <td id=\"T_e24ba5ea_87fe_11eb_8c88_0242ac1c0002row1_col1\" class=\"data row1 col1\" >0.090</td>\n",
              "                        <td id=\"T_e24ba5ea_87fe_11eb_8c88_0242ac1c0002row1_col2\" class=\"data row1 col2\" >0.165</td>\n",
              "                        <td id=\"T_e24ba5ea_87fe_11eb_8c88_0242ac1c0002row1_col3\" class=\"data row1 col3\" >0.217</td>\n",
              "                        <td id=\"T_e24ba5ea_87fe_11eb_8c88_0242ac1c0002row1_col4\" class=\"data row1 col4\" >0.534</td>\n",
              "                        <td id=\"T_e24ba5ea_87fe_11eb_8c88_0242ac1c0002row1_col5\" class=\"data row1 col5\" >0.458</td>\n",
              "                        <td id=\"T_e24ba5ea_87fe_11eb_8c88_0242ac1c0002row1_col6\" class=\"data row1 col6\" >0.560</td>\n",
              "                        <td id=\"T_e24ba5ea_87fe_11eb_8c88_0242ac1c0002row1_col7\" class=\"data row1 col7\" >0.466</td>\n",
              "                        <td id=\"T_e24ba5ea_87fe_11eb_8c88_0242ac1c0002row1_col8\" class=\"data row1 col8\" >0.552</td>\n",
              "                        <td id=\"T_e24ba5ea_87fe_11eb_8c88_0242ac1c0002row1_col9\" class=\"data row1 col9\" >0.495</td>\n",
              "            </tr>\n",
              "            <tr>\n",
              "                        <th id=\"T_e24ba5ea_87fe_11eb_8c88_0242ac1c0002level0_row2\" class=\"row_heading level0 row2\" >Appliances</th>\n",
              "                        <td id=\"T_e24ba5ea_87fe_11eb_8c88_0242ac1c0002row2_col0\" class=\"data row2 col0\" >0.136</td>\n",
              "                        <td id=\"T_e24ba5ea_87fe_11eb_8c88_0242ac1c0002row2_col1\" class=\"data row2 col1\" >0.266</td>\n",
              "                        <td id=\"T_e24ba5ea_87fe_11eb_8c88_0242ac1c0002row2_col2\" class=\"data row2 col2\" >0.309</td>\n",
              "                        <td id=\"T_e24ba5ea_87fe_11eb_8c88_0242ac1c0002row2_col3\" class=\"data row2 col3\" >0.376</td>\n",
              "                        <td id=\"T_e24ba5ea_87fe_11eb_8c88_0242ac1c0002row2_col4\" class=\"data row2 col4\" >0.817</td>\n",
              "                        <td id=\"T_e24ba5ea_87fe_11eb_8c88_0242ac1c0002row2_col5\" class=\"data row2 col5\" >0.794</td>\n",
              "                        <td id=\"T_e24ba5ea_87fe_11eb_8c88_0242ac1c0002row2_col6\" class=\"data row2 col6\" >0.853</td>\n",
              "                        <td id=\"T_e24ba5ea_87fe_11eb_8c88_0242ac1c0002row2_col7\" class=\"data row2 col7\" >0.813</td>\n",
              "                        <td id=\"T_e24ba5ea_87fe_11eb_8c88_0242ac1c0002row2_col8\" class=\"data row2 col8\" >0.833</td>\n",
              "                        <td id=\"T_e24ba5ea_87fe_11eb_8c88_0242ac1c0002row2_col9\" class=\"data row2 col9\" >0.749</td>\n",
              "            </tr>\n",
              "            <tr>\n",
              "                        <th id=\"T_e24ba5ea_87fe_11eb_8c88_0242ac1c0002level0_row3\" class=\"row_heading level0 row3\" >Arts, Crafts & Sewing</th>\n",
              "                        <td id=\"T_e24ba5ea_87fe_11eb_8c88_0242ac1c0002row3_col0\" class=\"data row3 col0\" >0.016</td>\n",
              "                        <td id=\"T_e24ba5ea_87fe_11eb_8c88_0242ac1c0002row3_col1\" class=\"data row3 col1\" >0.112</td>\n",
              "                        <td id=\"T_e24ba5ea_87fe_11eb_8c88_0242ac1c0002row3_col2\" class=\"data row3 col2\" >0.183</td>\n",
              "                        <td id=\"T_e24ba5ea_87fe_11eb_8c88_0242ac1c0002row3_col3\" class=\"data row3 col3\" >0.267</td>\n",
              "                        <td id=\"T_e24ba5ea_87fe_11eb_8c88_0242ac1c0002row3_col4\" class=\"data row3 col4\" >0.715</td>\n",
              "                        <td id=\"T_e24ba5ea_87fe_11eb_8c88_0242ac1c0002row3_col5\" class=\"data row3 col5\" >0.674</td>\n",
              "                        <td id=\"T_e24ba5ea_87fe_11eb_8c88_0242ac1c0002row3_col6\" class=\"data row3 col6\" >0.754</td>\n",
              "                        <td id=\"T_e24ba5ea_87fe_11eb_8c88_0242ac1c0002row3_col7\" class=\"data row3 col7\" >0.697</td>\n",
              "                        <td id=\"T_e24ba5ea_87fe_11eb_8c88_0242ac1c0002row3_col8\" class=\"data row3 col8\" >0.757</td>\n",
              "                        <td id=\"T_e24ba5ea_87fe_11eb_8c88_0242ac1c0002row3_col9\" class=\"data row3 col9\" >0.641</td>\n",
              "            </tr>\n",
              "            <tr>\n",
              "                        <th id=\"T_e24ba5ea_87fe_11eb_8c88_0242ac1c0002level0_row4\" class=\"row_heading level0 row4\" >Automotive</th>\n",
              "                        <td id=\"T_e24ba5ea_87fe_11eb_8c88_0242ac1c0002row4_col0\" class=\"data row4 col0\" >0.155</td>\n",
              "                        <td id=\"T_e24ba5ea_87fe_11eb_8c88_0242ac1c0002row4_col1\" class=\"data row4 col1\" >0.221</td>\n",
              "                        <td id=\"T_e24ba5ea_87fe_11eb_8c88_0242ac1c0002row4_col2\" class=\"data row4 col2\" >0.276</td>\n",
              "                        <td id=\"T_e24ba5ea_87fe_11eb_8c88_0242ac1c0002row4_col3\" class=\"data row4 col3\" >0.376</td>\n",
              "                        <td id=\"T_e24ba5ea_87fe_11eb_8c88_0242ac1c0002row4_col4\" class=\"data row4 col4\" >0.649</td>\n",
              "                        <td id=\"T_e24ba5ea_87fe_11eb_8c88_0242ac1c0002row4_col5\" class=\"data row4 col5\" >0.606</td>\n",
              "                        <td id=\"T_e24ba5ea_87fe_11eb_8c88_0242ac1c0002row4_col6\" class=\"data row4 col6\" >0.673</td>\n",
              "                        <td id=\"T_e24ba5ea_87fe_11eb_8c88_0242ac1c0002row4_col7\" class=\"data row4 col7\" >0.603</td>\n",
              "                        <td id=\"T_e24ba5ea_87fe_11eb_8c88_0242ac1c0002row4_col8\" class=\"data row4 col8\" >0.612</td>\n",
              "                        <td id=\"T_e24ba5ea_87fe_11eb_8c88_0242ac1c0002row4_col9\" class=\"data row4 col9\" >0.553</td>\n",
              "            </tr>\n",
              "            <tr>\n",
              "                        <th id=\"T_e24ba5ea_87fe_11eb_8c88_0242ac1c0002level0_row5\" class=\"row_heading level0 row5\" >Baby</th>\n",
              "                        <td id=\"T_e24ba5ea_87fe_11eb_8c88_0242ac1c0002row5_col0\" class=\"data row5 col0\" >0.149</td>\n",
              "                        <td id=\"T_e24ba5ea_87fe_11eb_8c88_0242ac1c0002row5_col1\" class=\"data row5 col1\" >0.295</td>\n",
              "                        <td id=\"T_e24ba5ea_87fe_11eb_8c88_0242ac1c0002row5_col2\" class=\"data row5 col2\" >0.394</td>\n",
              "                        <td id=\"T_e24ba5ea_87fe_11eb_8c88_0242ac1c0002row5_col3\" class=\"data row5 col3\" >0.481</td>\n",
              "                        <td id=\"T_e24ba5ea_87fe_11eb_8c88_0242ac1c0002row5_col4\" class=\"data row5 col4\" >0.719</td>\n",
              "                        <td id=\"T_e24ba5ea_87fe_11eb_8c88_0242ac1c0002row5_col5\" class=\"data row5 col5\" >0.666</td>\n",
              "                        <td id=\"T_e24ba5ea_87fe_11eb_8c88_0242ac1c0002row5_col6\" class=\"data row5 col6\" >0.728</td>\n",
              "                        <td id=\"T_e24ba5ea_87fe_11eb_8c88_0242ac1c0002row5_col7\" class=\"data row5 col7\" >0.656</td>\n",
              "                        <td id=\"T_e24ba5ea_87fe_11eb_8c88_0242ac1c0002row5_col8\" class=\"data row5 col8\" >0.708</td>\n",
              "                        <td id=\"T_e24ba5ea_87fe_11eb_8c88_0242ac1c0002row5_col9\" class=\"data row5 col9\" >0.607</td>\n",
              "            </tr>\n",
              "            <tr>\n",
              "                        <th id=\"T_e24ba5ea_87fe_11eb_8c88_0242ac1c0002level0_row6\" class=\"row_heading level0 row6\" >Baby Products</th>\n",
              "                        <td id=\"T_e24ba5ea_87fe_11eb_8c88_0242ac1c0002row6_col0\" class=\"data row6 col0\" >0.132</td>\n",
              "                        <td id=\"T_e24ba5ea_87fe_11eb_8c88_0242ac1c0002row6_col1\" class=\"data row6 col1\" >0.197</td>\n",
              "                        <td id=\"T_e24ba5ea_87fe_11eb_8c88_0242ac1c0002row6_col2\" class=\"data row6 col2\" >0.218</td>\n",
              "                        <td id=\"T_e24ba5ea_87fe_11eb_8c88_0242ac1c0002row6_col3\" class=\"data row6 col3\" >0.319</td>\n",
              "                        <td id=\"T_e24ba5ea_87fe_11eb_8c88_0242ac1c0002row6_col4\" class=\"data row6 col4\" >0.610</td>\n",
              "                        <td id=\"T_e24ba5ea_87fe_11eb_8c88_0242ac1c0002row6_col5\" class=\"data row6 col5\" >0.528</td>\n",
              "                        <td id=\"T_e24ba5ea_87fe_11eb_8c88_0242ac1c0002row6_col6\" class=\"data row6 col6\" >0.625</td>\n",
              "                        <td id=\"T_e24ba5ea_87fe_11eb_8c88_0242ac1c0002row6_col7\" class=\"data row6 col7\" >0.553</td>\n",
              "                        <td id=\"T_e24ba5ea_87fe_11eb_8c88_0242ac1c0002row6_col8\" class=\"data row6 col8\" >0.645</td>\n",
              "                        <td id=\"T_e24ba5ea_87fe_11eb_8c88_0242ac1c0002row6_col9\" class=\"data row6 col9\" >0.525</td>\n",
              "            </tr>\n",
              "            <tr>\n",
              "                        <th id=\"T_e24ba5ea_87fe_11eb_8c88_0242ac1c0002level0_row7\" class=\"row_heading level0 row7\" >Beauty</th>\n",
              "                        <td id=\"T_e24ba5ea_87fe_11eb_8c88_0242ac1c0002row7_col0\" class=\"data row7 col0\" >0.010</td>\n",
              "                        <td id=\"T_e24ba5ea_87fe_11eb_8c88_0242ac1c0002row7_col1\" class=\"data row7 col1\" >0.278</td>\n",
              "                        <td id=\"T_e24ba5ea_87fe_11eb_8c88_0242ac1c0002row7_col2\" class=\"data row7 col2\" >0.153</td>\n",
              "                        <td id=\"T_e24ba5ea_87fe_11eb_8c88_0242ac1c0002row7_col3\" class=\"data row7 col3\" >0.325</td>\n",
              "                        <td id=\"T_e24ba5ea_87fe_11eb_8c88_0242ac1c0002row7_col4\" class=\"data row7 col4\" >0.606</td>\n",
              "                        <td id=\"T_e24ba5ea_87fe_11eb_8c88_0242ac1c0002row7_col5\" class=\"data row7 col5\" >0.524</td>\n",
              "                        <td id=\"T_e24ba5ea_87fe_11eb_8c88_0242ac1c0002row7_col6\" class=\"data row7 col6\" >0.596</td>\n",
              "                        <td id=\"T_e24ba5ea_87fe_11eb_8c88_0242ac1c0002row7_col7\" class=\"data row7 col7\" >0.508</td>\n",
              "                        <td id=\"T_e24ba5ea_87fe_11eb_8c88_0242ac1c0002row7_col8\" class=\"data row7 col8\" >0.608</td>\n",
              "                        <td id=\"T_e24ba5ea_87fe_11eb_8c88_0242ac1c0002row7_col9\" class=\"data row7 col9\" >0.500</td>\n",
              "            </tr>\n",
              "            <tr>\n",
              "                        <th id=\"T_e24ba5ea_87fe_11eb_8c88_0242ac1c0002level0_row8\" class=\"row_heading level0 row8\" >Cell Phones & Accessories</th>\n",
              "                        <td id=\"T_e24ba5ea_87fe_11eb_8c88_0242ac1c0002row8_col0\" class=\"data row8 col0\" >0.202</td>\n",
              "                        <td id=\"T_e24ba5ea_87fe_11eb_8c88_0242ac1c0002row8_col1\" class=\"data row8 col1\" >0.276</td>\n",
              "                        <td id=\"T_e24ba5ea_87fe_11eb_8c88_0242ac1c0002row8_col2\" class=\"data row8 col2\" >0.513</td>\n",
              "                        <td id=\"T_e24ba5ea_87fe_11eb_8c88_0242ac1c0002row8_col3\" class=\"data row8 col3\" >0.555</td>\n",
              "                        <td id=\"T_e24ba5ea_87fe_11eb_8c88_0242ac1c0002row8_col4\" class=\"data row8 col4\" >0.855</td>\n",
              "                        <td id=\"T_e24ba5ea_87fe_11eb_8c88_0242ac1c0002row8_col5\" class=\"data row8 col5\" >0.802</td>\n",
              "                        <td id=\"T_e24ba5ea_87fe_11eb_8c88_0242ac1c0002row8_col6\" class=\"data row8 col6\" >0.854</td>\n",
              "                        <td id=\"T_e24ba5ea_87fe_11eb_8c88_0242ac1c0002row8_col7\" class=\"data row8 col7\" >0.819</td>\n",
              "                        <td id=\"T_e24ba5ea_87fe_11eb_8c88_0242ac1c0002row8_col8\" class=\"data row8 col8\" >0.862</td>\n",
              "                        <td id=\"T_e24ba5ea_87fe_11eb_8c88_0242ac1c0002row8_col9\" class=\"data row8 col9\" >0.830</td>\n",
              "            </tr>\n",
              "            <tr>\n",
              "                        <th id=\"T_e24ba5ea_87fe_11eb_8c88_0242ac1c0002level0_row9\" class=\"row_heading level0 row9\" >Clothing, Shoes & Jewelry</th>\n",
              "                        <td id=\"T_e24ba5ea_87fe_11eb_8c88_0242ac1c0002row9_col0\" class=\"data row9 col0\" >0.217</td>\n",
              "                        <td id=\"T_e24ba5ea_87fe_11eb_8c88_0242ac1c0002row9_col1\" class=\"data row9 col1\" >0.388</td>\n",
              "                        <td id=\"T_e24ba5ea_87fe_11eb_8c88_0242ac1c0002row9_col2\" class=\"data row9 col2\" >0.471</td>\n",
              "                        <td id=\"T_e24ba5ea_87fe_11eb_8c88_0242ac1c0002row9_col3\" class=\"data row9 col3\" >0.531</td>\n",
              "                        <td id=\"T_e24ba5ea_87fe_11eb_8c88_0242ac1c0002row9_col4\" class=\"data row9 col4\" >0.730</td>\n",
              "                        <td id=\"T_e24ba5ea_87fe_11eb_8c88_0242ac1c0002row9_col5\" class=\"data row9 col5\" >0.664</td>\n",
              "                        <td id=\"T_e24ba5ea_87fe_11eb_8c88_0242ac1c0002row9_col6\" class=\"data row9 col6\" >0.758</td>\n",
              "                        <td id=\"T_e24ba5ea_87fe_11eb_8c88_0242ac1c0002row9_col7\" class=\"data row9 col7\" >0.682</td>\n",
              "                        <td id=\"T_e24ba5ea_87fe_11eb_8c88_0242ac1c0002row9_col8\" class=\"data row9 col8\" >0.726</td>\n",
              "                        <td id=\"T_e24ba5ea_87fe_11eb_8c88_0242ac1c0002row9_col9\" class=\"data row9 col9\" >0.651</td>\n",
              "            </tr>\n",
              "            <tr>\n",
              "                        <th id=\"T_e24ba5ea_87fe_11eb_8c88_0242ac1c0002level0_row10\" class=\"row_heading level0 row10\" >Electronics</th>\n",
              "                        <td id=\"T_e24ba5ea_87fe_11eb_8c88_0242ac1c0002row10_col0\" class=\"data row10 col0\" >0.259</td>\n",
              "                        <td id=\"T_e24ba5ea_87fe_11eb_8c88_0242ac1c0002row10_col1\" class=\"data row10 col1\" >0.288</td>\n",
              "                        <td id=\"T_e24ba5ea_87fe_11eb_8c88_0242ac1c0002row10_col2\" class=\"data row10 col2\" >0.416</td>\n",
              "                        <td id=\"T_e24ba5ea_87fe_11eb_8c88_0242ac1c0002row10_col3\" class=\"data row10 col3\" >0.430</td>\n",
              "                        <td id=\"T_e24ba5ea_87fe_11eb_8c88_0242ac1c0002row10_col4\" class=\"data row10 col4\" >0.761</td>\n",
              "                        <td id=\"T_e24ba5ea_87fe_11eb_8c88_0242ac1c0002row10_col5\" class=\"data row10 col5\" >0.685</td>\n",
              "                        <td id=\"T_e24ba5ea_87fe_11eb_8c88_0242ac1c0002row10_col6\" class=\"data row10 col6\" >0.783</td>\n",
              "                        <td id=\"T_e24ba5ea_87fe_11eb_8c88_0242ac1c0002row10_col7\" class=\"data row10 col7\" >0.657</td>\n",
              "                        <td id=\"T_e24ba5ea_87fe_11eb_8c88_0242ac1c0002row10_col8\" class=\"data row10 col8\" >0.782</td>\n",
              "                        <td id=\"T_e24ba5ea_87fe_11eb_8c88_0242ac1c0002row10_col9\" class=\"data row10 col9\" >0.682</td>\n",
              "            </tr>\n",
              "            <tr>\n",
              "                        <th id=\"T_e24ba5ea_87fe_11eb_8c88_0242ac1c0002level0_row11\" class=\"row_heading level0 row11\" >Grocery & Gourmet Food</th>\n",
              "                        <td id=\"T_e24ba5ea_87fe_11eb_8c88_0242ac1c0002row11_col0\" class=\"data row11 col0\" >0.322</td>\n",
              "                        <td id=\"T_e24ba5ea_87fe_11eb_8c88_0242ac1c0002row11_col1\" class=\"data row11 col1\" >0.414</td>\n",
              "                        <td id=\"T_e24ba5ea_87fe_11eb_8c88_0242ac1c0002row11_col2\" class=\"data row11 col2\" >0.487</td>\n",
              "                        <td id=\"T_e24ba5ea_87fe_11eb_8c88_0242ac1c0002row11_col3\" class=\"data row11 col3\" >0.573</td>\n",
              "                        <td id=\"T_e24ba5ea_87fe_11eb_8c88_0242ac1c0002row11_col4\" class=\"data row11 col4\" >0.886</td>\n",
              "                        <td id=\"T_e24ba5ea_87fe_11eb_8c88_0242ac1c0002row11_col5\" class=\"data row11 col5\" >0.869</td>\n",
              "                        <td id=\"T_e24ba5ea_87fe_11eb_8c88_0242ac1c0002row11_col6\" class=\"data row11 col6\" >0.881</td>\n",
              "                        <td id=\"T_e24ba5ea_87fe_11eb_8c88_0242ac1c0002row11_col7\" class=\"data row11 col7\" >0.860</td>\n",
              "                        <td id=\"T_e24ba5ea_87fe_11eb_8c88_0242ac1c0002row11_col8\" class=\"data row11 col8\" >0.882</td>\n",
              "                        <td id=\"T_e24ba5ea_87fe_11eb_8c88_0242ac1c0002row11_col9\" class=\"data row11 col9\" >0.844</td>\n",
              "            </tr>\n",
              "            <tr>\n",
              "                        <th id=\"T_e24ba5ea_87fe_11eb_8c88_0242ac1c0002level0_row12\" class=\"row_heading level0 row12\" >Health & Personal Care</th>\n",
              "                        <td id=\"T_e24ba5ea_87fe_11eb_8c88_0242ac1c0002row12_col0\" class=\"data row12 col0\" >0.240</td>\n",
              "                        <td id=\"T_e24ba5ea_87fe_11eb_8c88_0242ac1c0002row12_col1\" class=\"data row12 col1\" >0.341</td>\n",
              "                        <td id=\"T_e24ba5ea_87fe_11eb_8c88_0242ac1c0002row12_col2\" class=\"data row12 col2\" >0.343</td>\n",
              "                        <td id=\"T_e24ba5ea_87fe_11eb_8c88_0242ac1c0002row12_col3\" class=\"data row12 col3\" >0.378</td>\n",
              "                        <td id=\"T_e24ba5ea_87fe_11eb_8c88_0242ac1c0002row12_col4\" class=\"data row12 col4\" >0.625</td>\n",
              "                        <td id=\"T_e24ba5ea_87fe_11eb_8c88_0242ac1c0002row12_col5\" class=\"data row12 col5\" >0.558</td>\n",
              "                        <td id=\"T_e24ba5ea_87fe_11eb_8c88_0242ac1c0002row12_col6\" class=\"data row12 col6\" >0.617</td>\n",
              "                        <td id=\"T_e24ba5ea_87fe_11eb_8c88_0242ac1c0002row12_col7\" class=\"data row12 col7\" >0.526</td>\n",
              "                        <td id=\"T_e24ba5ea_87fe_11eb_8c88_0242ac1c0002row12_col8\" class=\"data row12 col8\" >0.604</td>\n",
              "                        <td id=\"T_e24ba5ea_87fe_11eb_8c88_0242ac1c0002row12_col9\" class=\"data row12 col9\" >0.501</td>\n",
              "            </tr>\n",
              "            <tr>\n",
              "                        <th id=\"T_e24ba5ea_87fe_11eb_8c88_0242ac1c0002level0_row13\" class=\"row_heading level0 row13\" >Industrial & Scientific</th>\n",
              "                        <td id=\"T_e24ba5ea_87fe_11eb_8c88_0242ac1c0002row13_col0\" class=\"data row13 col0\" >0.003</td>\n",
              "                        <td id=\"T_e24ba5ea_87fe_11eb_8c88_0242ac1c0002row13_col1\" class=\"data row13 col1\" >0.097</td>\n",
              "                        <td id=\"T_e24ba5ea_87fe_11eb_8c88_0242ac1c0002row13_col2\" class=\"data row13 col2\" >0.120</td>\n",
              "                        <td id=\"T_e24ba5ea_87fe_11eb_8c88_0242ac1c0002row13_col3\" class=\"data row13 col3\" >0.275</td>\n",
              "                        <td id=\"T_e24ba5ea_87fe_11eb_8c88_0242ac1c0002row13_col4\" class=\"data row13 col4\" >0.484</td>\n",
              "                        <td id=\"T_e24ba5ea_87fe_11eb_8c88_0242ac1c0002row13_col5\" class=\"data row13 col5\" >0.401</td>\n",
              "                        <td id=\"T_e24ba5ea_87fe_11eb_8c88_0242ac1c0002row13_col6\" class=\"data row13 col6\" >0.509</td>\n",
              "                        <td id=\"T_e24ba5ea_87fe_11eb_8c88_0242ac1c0002row13_col7\" class=\"data row13 col7\" >0.407</td>\n",
              "                        <td id=\"T_e24ba5ea_87fe_11eb_8c88_0242ac1c0002row13_col8\" class=\"data row13 col8\" >0.563</td>\n",
              "                        <td id=\"T_e24ba5ea_87fe_11eb_8c88_0242ac1c0002row13_col9\" class=\"data row13 col9\" >0.430</td>\n",
              "            </tr>\n",
              "            <tr>\n",
              "                        <th id=\"T_e24ba5ea_87fe_11eb_8c88_0242ac1c0002level0_row14\" class=\"row_heading level0 row14\" >Musical Instruments</th>\n",
              "                        <td id=\"T_e24ba5ea_87fe_11eb_8c88_0242ac1c0002row14_col0\" class=\"data row14 col0\" >0.071</td>\n",
              "                        <td id=\"T_e24ba5ea_87fe_11eb_8c88_0242ac1c0002row14_col1\" class=\"data row14 col1\" >0.310</td>\n",
              "                        <td id=\"T_e24ba5ea_87fe_11eb_8c88_0242ac1c0002row14_col2\" class=\"data row14 col2\" >0.335</td>\n",
              "                        <td id=\"T_e24ba5ea_87fe_11eb_8c88_0242ac1c0002row14_col3\" class=\"data row14 col3\" >0.373</td>\n",
              "                        <td id=\"T_e24ba5ea_87fe_11eb_8c88_0242ac1c0002row14_col4\" class=\"data row14 col4\" >0.813</td>\n",
              "                        <td id=\"T_e24ba5ea_87fe_11eb_8c88_0242ac1c0002row14_col5\" class=\"data row14 col5\" >0.785</td>\n",
              "                        <td id=\"T_e24ba5ea_87fe_11eb_8c88_0242ac1c0002row14_col6\" class=\"data row14 col6\" >0.818</td>\n",
              "                        <td id=\"T_e24ba5ea_87fe_11eb_8c88_0242ac1c0002row14_col7\" class=\"data row14 col7\" >0.757</td>\n",
              "                        <td id=\"T_e24ba5ea_87fe_11eb_8c88_0242ac1c0002row14_col8\" class=\"data row14 col8\" >0.811</td>\n",
              "                        <td id=\"T_e24ba5ea_87fe_11eb_8c88_0242ac1c0002row14_col9\" class=\"data row14 col9\" >0.703</td>\n",
              "            </tr>\n",
              "            <tr>\n",
              "                        <th id=\"T_e24ba5ea_87fe_11eb_8c88_0242ac1c0002level0_row15\" class=\"row_heading level0 row15\" >Office Products</th>\n",
              "                        <td id=\"T_e24ba5ea_87fe_11eb_8c88_0242ac1c0002row15_col0\" class=\"data row15 col0\" >0.145</td>\n",
              "                        <td id=\"T_e24ba5ea_87fe_11eb_8c88_0242ac1c0002row15_col1\" class=\"data row15 col1\" >0.319</td>\n",
              "                        <td id=\"T_e24ba5ea_87fe_11eb_8c88_0242ac1c0002row15_col2\" class=\"data row15 col2\" >0.352</td>\n",
              "                        <td id=\"T_e24ba5ea_87fe_11eb_8c88_0242ac1c0002row15_col3\" class=\"data row15 col3\" >0.412</td>\n",
              "                        <td id=\"T_e24ba5ea_87fe_11eb_8c88_0242ac1c0002row15_col4\" class=\"data row15 col4\" >0.817</td>\n",
              "                        <td id=\"T_e24ba5ea_87fe_11eb_8c88_0242ac1c0002row15_col5\" class=\"data row15 col5\" >0.780</td>\n",
              "                        <td id=\"T_e24ba5ea_87fe_11eb_8c88_0242ac1c0002row15_col6\" class=\"data row15 col6\" >0.826</td>\n",
              "                        <td id=\"T_e24ba5ea_87fe_11eb_8c88_0242ac1c0002row15_col7\" class=\"data row15 col7\" >0.767</td>\n",
              "                        <td id=\"T_e24ba5ea_87fe_11eb_8c88_0242ac1c0002row15_col8\" class=\"data row15 col8\" >0.809</td>\n",
              "                        <td id=\"T_e24ba5ea_87fe_11eb_8c88_0242ac1c0002row15_col9\" class=\"data row15 col9\" >0.733</td>\n",
              "            </tr>\n",
              "            <tr>\n",
              "                        <th id=\"T_e24ba5ea_87fe_11eb_8c88_0242ac1c0002level0_row16\" class=\"row_heading level0 row16\" >Patio, Lawn & Garden</th>\n",
              "                        <td id=\"T_e24ba5ea_87fe_11eb_8c88_0242ac1c0002row16_col0\" class=\"data row16 col0\" >0.072</td>\n",
              "                        <td id=\"T_e24ba5ea_87fe_11eb_8c88_0242ac1c0002row16_col1\" class=\"data row16 col1\" >0.111</td>\n",
              "                        <td id=\"T_e24ba5ea_87fe_11eb_8c88_0242ac1c0002row16_col2\" class=\"data row16 col2\" >0.253</td>\n",
              "                        <td id=\"T_e24ba5ea_87fe_11eb_8c88_0242ac1c0002row16_col3\" class=\"data row16 col3\" >0.291</td>\n",
              "                        <td id=\"T_e24ba5ea_87fe_11eb_8c88_0242ac1c0002row16_col4\" class=\"data row16 col4\" >0.722</td>\n",
              "                        <td id=\"T_e24ba5ea_87fe_11eb_8c88_0242ac1c0002row16_col5\" class=\"data row16 col5\" >0.657</td>\n",
              "                        <td id=\"T_e24ba5ea_87fe_11eb_8c88_0242ac1c0002row16_col6\" class=\"data row16 col6\" >0.765</td>\n",
              "                        <td id=\"T_e24ba5ea_87fe_11eb_8c88_0242ac1c0002row16_col7\" class=\"data row16 col7\" >0.673</td>\n",
              "                        <td id=\"T_e24ba5ea_87fe_11eb_8c88_0242ac1c0002row16_col8\" class=\"data row16 col8\" >0.778</td>\n",
              "                        <td id=\"T_e24ba5ea_87fe_11eb_8c88_0242ac1c0002row16_col9\" class=\"data row16 col9\" >0.639</td>\n",
              "            </tr>\n",
              "            <tr>\n",
              "                        <th id=\"T_e24ba5ea_87fe_11eb_8c88_0242ac1c0002level0_row17\" class=\"row_heading level0 row17\" >Pet Supplies</th>\n",
              "                        <td id=\"T_e24ba5ea_87fe_11eb_8c88_0242ac1c0002row17_col0\" class=\"data row17 col0\" >0.055</td>\n",
              "                        <td id=\"T_e24ba5ea_87fe_11eb_8c88_0242ac1c0002row17_col1\" class=\"data row17 col1\" >0.209</td>\n",
              "                        <td id=\"T_e24ba5ea_87fe_11eb_8c88_0242ac1c0002row17_col2\" class=\"data row17 col2\" >0.229</td>\n",
              "                        <td id=\"T_e24ba5ea_87fe_11eb_8c88_0242ac1c0002row17_col3\" class=\"data row17 col3\" >0.246</td>\n",
              "                        <td id=\"T_e24ba5ea_87fe_11eb_8c88_0242ac1c0002row17_col4\" class=\"data row17 col4\" >0.790</td>\n",
              "                        <td id=\"T_e24ba5ea_87fe_11eb_8c88_0242ac1c0002row17_col5\" class=\"data row17 col5\" >0.718</td>\n",
              "                        <td id=\"T_e24ba5ea_87fe_11eb_8c88_0242ac1c0002row17_col6\" class=\"data row17 col6\" >0.827</td>\n",
              "                        <td id=\"T_e24ba5ea_87fe_11eb_8c88_0242ac1c0002row17_col7\" class=\"data row17 col7\" >0.760</td>\n",
              "                        <td id=\"T_e24ba5ea_87fe_11eb_8c88_0242ac1c0002row17_col8\" class=\"data row17 col8\" >0.841</td>\n",
              "                        <td id=\"T_e24ba5ea_87fe_11eb_8c88_0242ac1c0002row17_col9\" class=\"data row17 col9\" >0.740</td>\n",
              "            </tr>\n",
              "            <tr>\n",
              "                        <th id=\"T_e24ba5ea_87fe_11eb_8c88_0242ac1c0002level0_row18\" class=\"row_heading level0 row18\" >Sports & Outdoors</th>\n",
              "                        <td id=\"T_e24ba5ea_87fe_11eb_8c88_0242ac1c0002row18_col0\" class=\"data row18 col0\" >0.003</td>\n",
              "                        <td id=\"T_e24ba5ea_87fe_11eb_8c88_0242ac1c0002row18_col1\" class=\"data row18 col1\" >0.032</td>\n",
              "                        <td id=\"T_e24ba5ea_87fe_11eb_8c88_0242ac1c0002row18_col2\" class=\"data row18 col2\" >0.118</td>\n",
              "                        <td id=\"T_e24ba5ea_87fe_11eb_8c88_0242ac1c0002row18_col3\" class=\"data row18 col3\" >0.186</td>\n",
              "                        <td id=\"T_e24ba5ea_87fe_11eb_8c88_0242ac1c0002row18_col4\" class=\"data row18 col4\" >0.540</td>\n",
              "                        <td id=\"T_e24ba5ea_87fe_11eb_8c88_0242ac1c0002row18_col5\" class=\"data row18 col5\" >0.498</td>\n",
              "                        <td id=\"T_e24ba5ea_87fe_11eb_8c88_0242ac1c0002row18_col6\" class=\"data row18 col6\" >0.574</td>\n",
              "                        <td id=\"T_e24ba5ea_87fe_11eb_8c88_0242ac1c0002row18_col7\" class=\"data row18 col7\" >0.463</td>\n",
              "                        <td id=\"T_e24ba5ea_87fe_11eb_8c88_0242ac1c0002row18_col8\" class=\"data row18 col8\" >0.577</td>\n",
              "                        <td id=\"T_e24ba5ea_87fe_11eb_8c88_0242ac1c0002row18_col9\" class=\"data row18 col9\" >0.431</td>\n",
              "            </tr>\n",
              "            <tr>\n",
              "                        <th id=\"T_e24ba5ea_87fe_11eb_8c88_0242ac1c0002level0_row19\" class=\"row_heading level0 row19\" >Tools & Home Improvement</th>\n",
              "                        <td id=\"T_e24ba5ea_87fe_11eb_8c88_0242ac1c0002row19_col0\" class=\"data row19 col0\" >0.021</td>\n",
              "                        <td id=\"T_e24ba5ea_87fe_11eb_8c88_0242ac1c0002row19_col1\" class=\"data row19 col1\" >0.199</td>\n",
              "                        <td id=\"T_e24ba5ea_87fe_11eb_8c88_0242ac1c0002row19_col2\" class=\"data row19 col2\" >0.289</td>\n",
              "                        <td id=\"T_e24ba5ea_87fe_11eb_8c88_0242ac1c0002row19_col3\" class=\"data row19 col3\" >0.326</td>\n",
              "                        <td id=\"T_e24ba5ea_87fe_11eb_8c88_0242ac1c0002row19_col4\" class=\"data row19 col4\" >0.726</td>\n",
              "                        <td id=\"T_e24ba5ea_87fe_11eb_8c88_0242ac1c0002row19_col5\" class=\"data row19 col5\" >0.641</td>\n",
              "                        <td id=\"T_e24ba5ea_87fe_11eb_8c88_0242ac1c0002row19_col6\" class=\"data row19 col6\" >0.757</td>\n",
              "                        <td id=\"T_e24ba5ea_87fe_11eb_8c88_0242ac1c0002row19_col7\" class=\"data row19 col7\" >0.664</td>\n",
              "                        <td id=\"T_e24ba5ea_87fe_11eb_8c88_0242ac1c0002row19_col8\" class=\"data row19 col8\" >0.752</td>\n",
              "                        <td id=\"T_e24ba5ea_87fe_11eb_8c88_0242ac1c0002row19_col9\" class=\"data row19 col9\" >0.654</td>\n",
              "            </tr>\n",
              "            <tr>\n",
              "                        <th id=\"T_e24ba5ea_87fe_11eb_8c88_0242ac1c0002level0_row20\" class=\"row_heading level0 row20\" >Toys & Games</th>\n",
              "                        <td id=\"T_e24ba5ea_87fe_11eb_8c88_0242ac1c0002row20_col0\" class=\"data row20 col0\" >0.201</td>\n",
              "                        <td id=\"T_e24ba5ea_87fe_11eb_8c88_0242ac1c0002row20_col1\" class=\"data row20 col1\" >0.406</td>\n",
              "                        <td id=\"T_e24ba5ea_87fe_11eb_8c88_0242ac1c0002row20_col2\" class=\"data row20 col2\" >0.428</td>\n",
              "                        <td id=\"T_e24ba5ea_87fe_11eb_8c88_0242ac1c0002row20_col3\" class=\"data row20 col3\" >0.510</td>\n",
              "                        <td id=\"T_e24ba5ea_87fe_11eb_8c88_0242ac1c0002row20_col4\" class=\"data row20 col4\" >0.796</td>\n",
              "                        <td id=\"T_e24ba5ea_87fe_11eb_8c88_0242ac1c0002row20_col5\" class=\"data row20 col5\" >0.773</td>\n",
              "                        <td id=\"T_e24ba5ea_87fe_11eb_8c88_0242ac1c0002row20_col6\" class=\"data row20 col6\" >0.820</td>\n",
              "                        <td id=\"T_e24ba5ea_87fe_11eb_8c88_0242ac1c0002row20_col7\" class=\"data row20 col7\" >0.777</td>\n",
              "                        <td id=\"T_e24ba5ea_87fe_11eb_8c88_0242ac1c0002row20_col8\" class=\"data row20 col8\" >0.831</td>\n",
              "                        <td id=\"T_e24ba5ea_87fe_11eb_8c88_0242ac1c0002row20_col9\" class=\"data row20 col9\" >0.760</td>\n",
              "            </tr>\n",
              "            <tr>\n",
              "                        <th id=\"T_e24ba5ea_87fe_11eb_8c88_0242ac1c0002level0_row21\" class=\"row_heading level0 row21\" >Overall_weighted_f1</th>\n",
              "                        <td id=\"T_e24ba5ea_87fe_11eb_8c88_0242ac1c0002row21_col0\" class=\"data row21 col0\" >0.117</td>\n",
              "                        <td id=\"T_e24ba5ea_87fe_11eb_8c88_0242ac1c0002row21_col1\" class=\"data row21 col1\" >0.237</td>\n",
              "                        <td id=\"T_e24ba5ea_87fe_11eb_8c88_0242ac1c0002row21_col2\" class=\"data row21 col2\" >0.306</td>\n",
              "                        <td id=\"T_e24ba5ea_87fe_11eb_8c88_0242ac1c0002row21_col3\" class=\"data row21 col3\" >0.372</td>\n",
              "                        <td id=\"T_e24ba5ea_87fe_11eb_8c88_0242ac1c0002row21_col4\" class=\"data row21 col4\" >0.705</td>\n",
              "                        <td id=\"T_e24ba5ea_87fe_11eb_8c88_0242ac1c0002row21_col5\" class=\"data row21 col5\" >0.648</td>\n",
              "                        <td id=\"T_e24ba5ea_87fe_11eb_8c88_0242ac1c0002row21_col6\" class=\"data row21 col6\" >0.723</td>\n",
              "                        <td id=\"T_e24ba5ea_87fe_11eb_8c88_0242ac1c0002row21_col7\" class=\"data row21 col7\" >0.649</td>\n",
              "                        <td id=\"T_e24ba5ea_87fe_11eb_8c88_0242ac1c0002row21_col8\" class=\"data row21 col8\" >0.720</td>\n",
              "                        <td id=\"T_e24ba5ea_87fe_11eb_8c88_0242ac1c0002row21_col9\" class=\"data row21 col9\" >0.628</td>\n",
              "            </tr>\n",
              "    </tbody></table>"
            ],
            "text/plain": [
              "<pandas.io.formats.style.Styler at 0x7fa5cc04cf50>"
            ]
          },
          "metadata": {
            "tags": []
          },
          "execution_count": 59
        }
      ]
    },
    {
      "cell_type": "markdown",
      "metadata": {
        "id": "6I1CvHG-RJQE"
      },
      "source": [
        "Ensemble modeling"
      ]
    },
    {
      "cell_type": "code",
      "metadata": {
        "id": "i00llNKYbRxa"
      },
      "source": [
        "def ensemble_voting(list_predictions):\n",
        "  preds_list_mode = [max_prediction(x) for x in list_predictions]\n",
        "  mode_array = stats.mode(np.array(preds_list_mode))\n",
        "  return mode_array"
      ],
      "execution_count": null,
      "outputs": []
    },
    {
      "cell_type": "code",
      "metadata": {
        "id": "StloR6IzQQEd",
        "colab": {
          "base_uri": "https://localhost:8080/",
          "height": 384
        },
        "outputId": "e7693964-5237-4d40-bdbe-6d5d03cd36c8"
      },
      "source": [
        "#Based on simple average\n",
        "preds_list_avg = [y_NLP1 + y_CNN + y_preds_rf + y_resnet + y_preds_XGB]\n",
        "n_list = len(preds_list_avg)\n",
        "ensemble_mean_f1 = decode_f1_score(sum(preds_list_avg)/n_list)\n",
        "ensemble_mean_f1_categories = decode_predictions_f1(sum(preds_list_avg)/n_list)\n",
        "\n",
        "#Based on mode (3 or more only)\n",
        "f1_dict = dict(zip(df_colnames, f1_score_weighted))\n",
        "preds_list_mode = [y_NLP1, y_CNN, y_preds_rf, y_resnet]\n",
        "a = ensemble_voting(preds_list_mode)\n",
        "ensemble_mode_f1 = decode_f1_score_mode(list(a[0][0]))\n",
        "ensemble_mode_f1_categories = decode_predictions_f1_mode(list(a[0][0]))"
      ],
      "execution_count": null,
      "outputs": [
        {
          "output_type": "error",
          "ename": "ValueError",
          "evalue": "ignored",
          "traceback": [
            "\u001b[0;31m---------------------------------------------------------------------------\u001b[0m",
            "\u001b[0;31mValueError\u001b[0m                                Traceback (most recent call last)",
            "\u001b[0;32m<ipython-input-64-1ae86309fda9>\u001b[0m in \u001b[0;36m<module>\u001b[0;34m()\u001b[0m\n\u001b[1;32m      2\u001b[0m \u001b[0mpreds_list_avg\u001b[0m \u001b[0;34m=\u001b[0m \u001b[0;34m[\u001b[0m\u001b[0my_NLP1\u001b[0m \u001b[0;34m+\u001b[0m \u001b[0my_CNN\u001b[0m \u001b[0;34m+\u001b[0m \u001b[0my_preds_rf\u001b[0m \u001b[0;34m+\u001b[0m \u001b[0my_resnet\u001b[0m \u001b[0;34m+\u001b[0m \u001b[0my_preds_XGB\u001b[0m\u001b[0;34m]\u001b[0m\u001b[0;34m\u001b[0m\u001b[0;34m\u001b[0m\u001b[0m\n\u001b[1;32m      3\u001b[0m \u001b[0mn_list\u001b[0m \u001b[0;34m=\u001b[0m \u001b[0mlen\u001b[0m\u001b[0;34m(\u001b[0m\u001b[0mpreds_list_avg\u001b[0m\u001b[0;34m)\u001b[0m\u001b[0;34m\u001b[0m\u001b[0;34m\u001b[0m\u001b[0m\n\u001b[0;32m----> 4\u001b[0;31m \u001b[0mensemble_mean_f1\u001b[0m \u001b[0;34m=\u001b[0m \u001b[0mf1_score\u001b[0m\u001b[0;34m(\u001b[0m\u001b[0my_test\u001b[0m\u001b[0;34m,\u001b[0m \u001b[0mto_categorical\u001b[0m\u001b[0;34m(\u001b[0m\u001b[0msum\u001b[0m\u001b[0;34m(\u001b[0m\u001b[0mpreds_list_avg\u001b[0m\u001b[0;34m)\u001b[0m\u001b[0;34m)\u001b[0m\u001b[0;34m/\u001b[0m\u001b[0mn_list\u001b[0m\u001b[0;34m)\u001b[0m\u001b[0;34m\u001b[0m\u001b[0;34m\u001b[0m\u001b[0m\n\u001b[0m\u001b[1;32m      5\u001b[0m \u001b[0mensemble_mean_f1_categories\u001b[0m \u001b[0;34m=\u001b[0m \u001b[0mdecode_predictions_f1\u001b[0m\u001b[0;34m(\u001b[0m\u001b[0msum\u001b[0m\u001b[0;34m(\u001b[0m\u001b[0mpreds_list_avg\u001b[0m\u001b[0;34m)\u001b[0m\u001b[0;34m/\u001b[0m\u001b[0mn_list\u001b[0m\u001b[0;34m)\u001b[0m\u001b[0;34m\u001b[0m\u001b[0;34m\u001b[0m\u001b[0m\n\u001b[1;32m      6\u001b[0m \u001b[0;34m\u001b[0m\u001b[0m\n",
            "\u001b[0;32m/usr/local/lib/python3.7/dist-packages/sklearn/metrics/_classification.py\u001b[0m in \u001b[0;36mf1_score\u001b[0;34m(y_true, y_pred, labels, pos_label, average, sample_weight, zero_division)\u001b[0m\n\u001b[1;32m   1097\u001b[0m                        \u001b[0mpos_label\u001b[0m\u001b[0;34m=\u001b[0m\u001b[0mpos_label\u001b[0m\u001b[0;34m,\u001b[0m \u001b[0maverage\u001b[0m\u001b[0;34m=\u001b[0m\u001b[0maverage\u001b[0m\u001b[0;34m,\u001b[0m\u001b[0;34m\u001b[0m\u001b[0;34m\u001b[0m\u001b[0m\n\u001b[1;32m   1098\u001b[0m                        \u001b[0msample_weight\u001b[0m\u001b[0;34m=\u001b[0m\u001b[0msample_weight\u001b[0m\u001b[0;34m,\u001b[0m\u001b[0;34m\u001b[0m\u001b[0;34m\u001b[0m\u001b[0m\n\u001b[0;32m-> 1099\u001b[0;31m                        zero_division=zero_division)\n\u001b[0m\u001b[1;32m   1100\u001b[0m \u001b[0;34m\u001b[0m\u001b[0m\n\u001b[1;32m   1101\u001b[0m \u001b[0;34m\u001b[0m\u001b[0m\n",
            "\u001b[0;32m/usr/local/lib/python3.7/dist-packages/sklearn/metrics/_classification.py\u001b[0m in \u001b[0;36mfbeta_score\u001b[0;34m(y_true, y_pred, beta, labels, pos_label, average, sample_weight, zero_division)\u001b[0m\n\u001b[1;32m   1224\u001b[0m                                                  \u001b[0mwarn_for\u001b[0m\u001b[0;34m=\u001b[0m\u001b[0;34m(\u001b[0m\u001b[0;34m'f-score'\u001b[0m\u001b[0;34m,\u001b[0m\u001b[0;34m)\u001b[0m\u001b[0;34m,\u001b[0m\u001b[0;34m\u001b[0m\u001b[0;34m\u001b[0m\u001b[0m\n\u001b[1;32m   1225\u001b[0m                                                  \u001b[0msample_weight\u001b[0m\u001b[0;34m=\u001b[0m\u001b[0msample_weight\u001b[0m\u001b[0;34m,\u001b[0m\u001b[0;34m\u001b[0m\u001b[0;34m\u001b[0m\u001b[0m\n\u001b[0;32m-> 1226\u001b[0;31m                                                  zero_division=zero_division)\n\u001b[0m\u001b[1;32m   1227\u001b[0m     \u001b[0;32mreturn\u001b[0m \u001b[0mf\u001b[0m\u001b[0;34m\u001b[0m\u001b[0;34m\u001b[0m\u001b[0m\n\u001b[1;32m   1228\u001b[0m \u001b[0;34m\u001b[0m\u001b[0m\n",
            "\u001b[0;32m/usr/local/lib/python3.7/dist-packages/sklearn/metrics/_classification.py\u001b[0m in \u001b[0;36mprecision_recall_fscore_support\u001b[0;34m(y_true, y_pred, beta, labels, pos_label, average, warn_for, sample_weight, zero_division)\u001b[0m\n\u001b[1;32m   1482\u001b[0m         \u001b[0;32mraise\u001b[0m \u001b[0mValueError\u001b[0m\u001b[0;34m(\u001b[0m\u001b[0;34m\"beta should be >=0 in the F-beta score\"\u001b[0m\u001b[0;34m)\u001b[0m\u001b[0;34m\u001b[0m\u001b[0;34m\u001b[0m\u001b[0m\n\u001b[1;32m   1483\u001b[0m     labels = _check_set_wise_labels(y_true, y_pred, average, labels,\n\u001b[0;32m-> 1484\u001b[0;31m                                     pos_label)\n\u001b[0m\u001b[1;32m   1485\u001b[0m \u001b[0;34m\u001b[0m\u001b[0m\n\u001b[1;32m   1486\u001b[0m     \u001b[0;31m# Calculate tp_sum, pred_sum, true_sum ###\u001b[0m\u001b[0;34m\u001b[0m\u001b[0;34m\u001b[0m\u001b[0;34m\u001b[0m\u001b[0m\n",
            "\u001b[0;32m/usr/local/lib/python3.7/dist-packages/sklearn/metrics/_classification.py\u001b[0m in \u001b[0;36m_check_set_wise_labels\u001b[0;34m(y_true, y_pred, average, labels, pos_label)\u001b[0m\n\u001b[1;32m   1299\u001b[0m                          str(average_options))\n\u001b[1;32m   1300\u001b[0m \u001b[0;34m\u001b[0m\u001b[0m\n\u001b[0;32m-> 1301\u001b[0;31m     \u001b[0my_type\u001b[0m\u001b[0;34m,\u001b[0m \u001b[0my_true\u001b[0m\u001b[0;34m,\u001b[0m \u001b[0my_pred\u001b[0m \u001b[0;34m=\u001b[0m \u001b[0m_check_targets\u001b[0m\u001b[0;34m(\u001b[0m\u001b[0my_true\u001b[0m\u001b[0;34m,\u001b[0m \u001b[0my_pred\u001b[0m\u001b[0;34m)\u001b[0m\u001b[0;34m\u001b[0m\u001b[0;34m\u001b[0m\u001b[0m\n\u001b[0m\u001b[1;32m   1302\u001b[0m     \u001b[0mpresent_labels\u001b[0m \u001b[0;34m=\u001b[0m \u001b[0munique_labels\u001b[0m\u001b[0;34m(\u001b[0m\u001b[0my_true\u001b[0m\u001b[0;34m,\u001b[0m \u001b[0my_pred\u001b[0m\u001b[0;34m)\u001b[0m\u001b[0;34m\u001b[0m\u001b[0;34m\u001b[0m\u001b[0m\n\u001b[1;32m   1303\u001b[0m     \u001b[0;32mif\u001b[0m \u001b[0maverage\u001b[0m \u001b[0;34m==\u001b[0m \u001b[0;34m'binary'\u001b[0m\u001b[0;34m:\u001b[0m\u001b[0;34m\u001b[0m\u001b[0;34m\u001b[0m\u001b[0m\n",
            "\u001b[0;32m/usr/local/lib/python3.7/dist-packages/sklearn/metrics/_classification.py\u001b[0m in \u001b[0;36m_check_targets\u001b[0;34m(y_true, y_pred)\u001b[0m\n\u001b[1;32m     88\u001b[0m     \u001b[0;32mif\u001b[0m \u001b[0mlen\u001b[0m\u001b[0;34m(\u001b[0m\u001b[0my_type\u001b[0m\u001b[0;34m)\u001b[0m \u001b[0;34m>\u001b[0m \u001b[0;36m1\u001b[0m\u001b[0;34m:\u001b[0m\u001b[0;34m\u001b[0m\u001b[0;34m\u001b[0m\u001b[0m\n\u001b[1;32m     89\u001b[0m         raise ValueError(\"Classification metrics can't handle a mix of {0} \"\n\u001b[0;32m---> 90\u001b[0;31m                          \"and {1} targets\".format(type_true, type_pred))\n\u001b[0m\u001b[1;32m     91\u001b[0m \u001b[0;34m\u001b[0m\u001b[0m\n\u001b[1;32m     92\u001b[0m     \u001b[0;31m# We can't have more than one value on y_type => The set is no more needed\u001b[0m\u001b[0;34m\u001b[0m\u001b[0;34m\u001b[0m\u001b[0;34m\u001b[0m\u001b[0m\n",
            "\u001b[0;31mValueError\u001b[0m: Classification metrics can't handle a mix of multilabel-indicator and unknown targets"
          ]
        }
      ]
    },
    {
      "cell_type": "code",
      "metadata": {
        "id": "Qj_poTJUq06c"
      },
      "source": [
        "df2['ensemble_mean'] = list(ensemble_mean_f1_categories.values())\n",
        "df2['ensemble_mode'] = list(ensemble_mode_f1_categories.values())\n",
        "df3['ensemble_mean'] = ensemble_mean_f1\n",
        "df3['ensemble_mode'] = ensemble_mode_f1 \n",
        "df_concat = pd.concat([df2, df3])\n",
        "df_style = df_concat.style.apply(highlight_max, axis = 1)\n",
        "df_style = df_style.format(\"{:,.3f}\")\n",
        "df_style"
      ],
      "execution_count": null,
      "outputs": []
    },
    {
      "cell_type": "code",
      "metadata": {
        "id": "SANjK2aWQyCF"
      },
      "source": [
        "df_concat.to_csv('/content/drive/MyDrive/Colab Notebooks/final_models_f1_scores.csv')"
      ],
      "execution_count": null,
      "outputs": []
    },
    {
      "cell_type": "code",
      "metadata": {
        "id": "cMoX6kLWXc65"
      },
      "source": [
        "#decode predictions full modles\n",
        "def decode_predictions_f1_full(predictions_list):\n",
        "  dict_prediction = dict(zip(le.classes_,f1_score(y_train, max_prediction(predictions_list), average = None)))\n",
        "  return dict_prediction\n",
        "\n",
        "def decode_f1_score_full(prediction_list):\n",
        "  weighted_f1_score = f1_score(y_train, max_prediction(prediction_list), average = 'weighted')\n",
        "  return weighted_f1_score"
      ],
      "execution_count": null,
      "outputs": []
    },
    {
      "cell_type": "code",
      "metadata": {
        "id": "hx_YNi5vR11P"
      },
      "source": [
        "# using full models\n",
        "FULL_NLP1 = load_model('/content/drive/MyDrive/models/full_models/FULL_NLP1.h5')\n",
        "FULL_NLP_CNN = load_model('/content/drive/MyDrive/models/full_models/FULL_NLP_CNN.h5')\n",
        "FULL_NLP_rf = joblib.load('/content/drive/MyDrive/models/full_models/FULL_NLP_rf.pkl')\n",
        "FULL_NLP_xgb = joblib.load('/content/drive/MyDrive/models/full_models/FULL_NLP_xgb.pkl')\n",
        "FULL_resnet = load_model('/content/drive/MyDrive/models/full_models/FULL_resnet.h5')"
      ],
      "execution_count": null,
      "outputs": []
    },
    {
      "cell_type": "code",
      "metadata": {
        "id": "wnzZWrDoVlle"
      },
      "source": [
        "#Image predictions\n",
        "y_preds1_img = FULL_resnet.predict(X_test_img)\n",
        "decode_predictions_f1(y_preds1_img)\n",
        "decode_f1_score(y_preds1_img)"
      ],
      "execution_count": null,
      "outputs": []
    },
    {
      "cell_type": "code",
      "metadata": {
        "id": "OkDk4TaJVz_i"
      },
      "source": [
        "y_full_CNN = FULL_NLP_CNN.predict(X_train_nlp_dl)\n",
        "decode_predictions_f1_full(y_full_CNN)\n",
        "decode_f1_score_full(y_full_CNN)"
      ],
      "execution_count": null,
      "outputs": []
    },
    {
      "cell_type": "code",
      "metadata": {
        "id": "pdpidV9DXCVF"
      },
      "source": [
        "y_full_1 = FULL_NLP1.predict(X_train_nlp_dl)\n",
        "decode_predictions_f1_full(y_full_1)\n",
        "#decode_f1_score_full(y_full_1)"
      ],
      "execution_count": null,
      "outputs": []
    },
    {
      "cell_type": "code",
      "metadata": {
        "id": "tsCvD7aOWi2R"
      },
      "source": [
        "mapping = dict(zip(le.classes_, range(len(le.classes_))))\n",
        "mapping"
      ],
      "execution_count": null,
      "outputs": []
    }
  ]
}
