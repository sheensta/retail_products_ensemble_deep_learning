{
 "cells": [
  {
   "cell_type": "code",
   "execution_count": 2,
   "metadata": {},
   "outputs": [],
   "source": [
    "import numpy as np\n",
    "import pandas as pd\n",
    "import os\n",
    "import matplotlib.pyplot as plt\n",
    "import matplotlib.image as mpimg"
   ]
  },
  {
   "cell_type": "markdown",
   "metadata": {},
   "source": [
    "## Image conversion\n",
    "\n",
    "First, we need to convert the images into an array format that can easily be readable by Python. To do that, we will use the mpimg.imread function in the numpy library. Each image is a 100 x 100 x 3 array, representing 100 pixels long, 100 pixels wide, and 3 RGB color channels. We also read in the .csv file containing the unique ID for each image, their title, a brief description, and the classification label to which they belong to."
   ]
  },
  {
   "cell_type": "code",
   "execution_count": 3,
   "metadata": {},
   "outputs": [
    {
     "data": {
      "text/html": [
       "<div>\n",
       "<style scoped>\n",
       "    .dataframe tbody tr th:only-of-type {\n",
       "        vertical-align: middle;\n",
       "    }\n",
       "\n",
       "    .dataframe tbody tr th {\n",
       "        vertical-align: top;\n",
       "    }\n",
       "\n",
       "    .dataframe thead th {\n",
       "        text-align: right;\n",
       "    }\n",
       "</style>\n",
       "<table border=\"1\" class=\"dataframe\">\n",
       "  <thead>\n",
       "    <tr style=\"text-align: right;\">\n",
       "      <th></th>\n",
       "      <th>ImgId</th>\n",
       "      <th>title</th>\n",
       "      <th>description</th>\n",
       "      <th>categories</th>\n",
       "    </tr>\n",
       "  </thead>\n",
       "  <tbody>\n",
       "    <tr>\n",
       "      <th>0</th>\n",
       "      <td>B000HYL1V6</td>\n",
       "      <td>TUNGSTEN SOLDER PICK WITH HANDLE</td>\n",
       "      <td>Solder Pick for picking up molten solder when ...</td>\n",
       "      <td>Arts, Crafts &amp; Sewing</td>\n",
       "    </tr>\n",
       "    <tr>\n",
       "      <th>1</th>\n",
       "      <td>B00006HXWY</td>\n",
       "      <td>Write Right 98167 Screen Protector for Sony T615C</td>\n",
       "      <td>We all screen. And we all need to protect thos...</td>\n",
       "      <td>Cell Phones &amp; Accessories</td>\n",
       "    </tr>\n",
       "    <tr>\n",
       "      <th>2</th>\n",
       "      <td>B000GAWSBS</td>\n",
       "      <td>Casio Mens DBC310-1 Databank 300 Digital Watch...</td>\n",
       "      <td>Bringing you precision at a glance, the Casio ...</td>\n",
       "      <td>Clothing, Shoes &amp; Jewelry</td>\n",
       "    </tr>\n",
       "    <tr>\n",
       "      <th>3</th>\n",
       "      <td>B000040JOL</td>\n",
       "      <td>Factory-Reconditioned DEWALT DW260KR Heavy-Dut...</td>\n",
       "      <td>Factory-Reconditioned DEWALT DW260KR Heavy-Dut...</td>\n",
       "      <td>Tools &amp; Home Improvement</td>\n",
       "    </tr>\n",
       "    <tr>\n",
       "      <th>4</th>\n",
       "      <td>B00006IB78</td>\n",
       "      <td>Energizer 2 in 1 Light</td>\n",
       "      <td>This twoway light features a bright flashlight...</td>\n",
       "      <td>Health &amp; Personal Care</td>\n",
       "    </tr>\n",
       "  </tbody>\n",
       "</table>\n",
       "</div>"
      ],
      "text/plain": [
       "        ImgId                                              title  \\\n",
       "0  B000HYL1V6                   TUNGSTEN SOLDER PICK WITH HANDLE   \n",
       "1  B00006HXWY  Write Right 98167 Screen Protector for Sony T615C   \n",
       "2  B000GAWSBS  Casio Mens DBC310-1 Databank 300 Digital Watch...   \n",
       "3  B000040JOL  Factory-Reconditioned DEWALT DW260KR Heavy-Dut...   \n",
       "4  B00006IB78                             Energizer 2 in 1 Light   \n",
       "\n",
       "                                         description  \\\n",
       "0  Solder Pick for picking up molten solder when ...   \n",
       "1  We all screen. And we all need to protect thos...   \n",
       "2  Bringing you precision at a glance, the Casio ...   \n",
       "3  Factory-Reconditioned DEWALT DW260KR Heavy-Dut...   \n",
       "4  This twoway light features a bright flashlight...   \n",
       "\n",
       "                  categories  \n",
       "0      Arts, Crafts & Sewing  \n",
       "1  Cell Phones & Accessories  \n",
       "2  Clothing, Shoes & Jewelry  \n",
       "3   Tools & Home Improvement  \n",
       "4     Health & Personal Care  "
      ]
     },
     "execution_count": 3,
     "metadata": {},
     "output_type": "execute_result"
    }
   ],
   "source": [
    "#Set working directory:\n",
    "os.chdir('C:\\\\Users\\\\seanx\\\\OneDrive\\\\Desktop\\\\YORK ML\\\\ML1020\\\\Retail products classification\\\\retail-products-classification')\n",
    "df_train = pd.read_csv('train.csv')\n",
    "df_train.head()"
   ]
  },
  {
   "cell_type": "code",
   "execution_count": 4,
   "metadata": {},
   "outputs": [
    {
     "data": {
      "text/plain": [
       "(52596, 4)"
      ]
     },
     "execution_count": 4,
     "metadata": {},
     "output_type": "execute_result"
    }
   ],
   "source": [
    "df_train.shape"
   ]
  },
  {
   "cell_type": "code",
   "execution_count": 12,
   "metadata": {},
   "outputs": [
    {
     "name": "stdout",
     "output_type": "stream",
     "text": [
      "Number of training images:  52567\n"
     ]
    }
   ],
   "source": [
    "train_path = 'C:\\\\Users\\\\seanx\\\\OneDrive\\\\Desktop\\\\YORK ML\\\\ML1020\\\\Retail products classification\\\\retail-products-classification\\\\train\\\\train'\n",
    "train_images = os.listdir(train_path)\n",
    "os.chdir(train_path)\n",
    "print('Number of training images: ', len(train_images))"
   ]
  },
  {
   "cell_type": "code",
   "execution_count": 13,
   "metadata": {},
   "outputs": [
    {
     "data": {
      "text/plain": [
       "(52567, 4)"
      ]
     },
     "execution_count": 13,
     "metadata": {},
     "output_type": "execute_result"
    }
   ],
   "source": [
    "#There is a difference in number of images between df_train and the actual number of images on file, so subset df_train by the images on file\n",
    "train_images_ID = [img[:-4] for img in train_images]\n",
    "df_train = df_train[df_train['ImgId'].isin(train_images_ID)]\n",
    "df_train.shape"
   ]
  },
  {
   "cell_type": "code",
   "execution_count": 14,
   "metadata": {},
   "outputs": [],
   "source": [
    "def img_to_array(image_file):\n",
    "    array_list = []\n",
    "    for i in range(len(image_file)):\n",
    "        train_img = mpimg.imread(image_file[i])\n",
    "        array_list.append(train_img)\n",
    "    return(array_list)"
   ]
  },
  {
   "cell_type": "code",
   "execution_count": 15,
   "metadata": {},
   "outputs": [],
   "source": [
    "array_list = []\n",
    "for i in range(len(df_train['ImgId'][0:100])):\n",
    "    array_list.append(mpimg.imread(df_train['ImgId'].iloc[i]+'.jpg'))"
   ]
  },
  {
   "cell_type": "code",
   "execution_count": 17,
   "metadata": {},
   "outputs": [
    {
     "name": "stderr",
     "output_type": "stream",
     "text": [
      "C:\\Users\\seanx\\anaconda3\\lib\\site-packages\\ipykernel_launcher.py:2: SettingWithCopyWarning: \n",
      "A value is trying to be set on a copy of a slice from a DataFrame.\n",
      "Try using .loc[row_indexer,col_indexer] = value instead\n",
      "\n",
      "See the caveats in the documentation: https://pandas.pydata.org/pandas-docs/stable/user_guide/indexing.html#returning-a-view-versus-a-copy\n",
      "  \n"
     ]
    }
   ],
   "source": [
    "df_train = df_train.iloc[0:100]\n",
    "df_train['array'] = array_list"
   ]
  },
  {
   "cell_type": "code",
   "execution_count": 20,
   "metadata": {},
   "outputs": [
    {
     "data": {
      "text/plain": [
       "(100, 100, 3)    97\n",
       "(100, 100)        3\n",
       "dtype: int64"
      ]
     },
     "execution_count": 20,
     "metadata": {},
     "output_type": "execute_result"
    }
   ],
   "source": [
    "x_train = df_train['array']\n",
    "x_train_dimensions = []\n",
    "for i in range(len(x_train)):\n",
    "    x_train_dimensions.append(x_train[i].shape)\n",
    "df_train['shape'] = x_train_dimensions\n",
    "pd.Series(x_train_dimensions).value_counts()"
   ]
  },
  {
   "cell_type": "code",
   "execution_count": 21,
   "metadata": {},
   "outputs": [],
   "source": [
    "#There are around ~1000 images that do not have a RGB channel. let's take a look at what they are\n",
    "df_100shape = df_train[df_train['shape']==(100,100)]"
   ]
  },
  {
   "cell_type": "code",
   "execution_count": 27,
   "metadata": {},
   "outputs": [
    {
     "data": {
      "image/png": "[encoded data removed]",
      "text/plain": [
       "<Figure size 720x720 with 2 Axes>"
      ]
     },
     "metadata": {
      "needs_background": "light"
     },
     "output_type": "display_data"
    }
   ],
   "source": [
    "#Some of these images do not have RGB channel like others - so we will remove them\n",
    "\n",
    "os.chdir(train_path)\n",
    "fig = plt.figure(figsize=(10,10))\n",
    "ax = fig.add_subplot(1, 3, 1)\n",
    "imgplot = plt.imshow(mpimg.imread(df_100shape['ImgId'].iloc[np.random.randint(len(df_100shape))]+'.jpg'))\n",
    "ax.set_title('100shape')\n",
    "ax = fig.add_subplot(1, 3, 2)\n",
    "imgplot = plt.imshow(mpimg.imread(df_train['ImgId'].iloc[np.random.randint(len(df_train))]+'.jpg'))\n",
    "ax.set_title('Normal')\n",
    "\n",
    "df = df_train[df_train['shape']!=(100,100)]"
   ]
  },
  {
   "cell_type": "code",
   "execution_count": 129,
   "metadata": {},
   "outputs": [],
   "source": [
    "#Saving/loading file\n",
    "os.chdir('C:\\\\Users\\\\seanx\\\\OneDrive\\\\Desktop\\\\YORK ML\\\\ML1020\\\\Retail products classification\\\\retail-products-classification')\n",
    "df.to_csv('df_clean.csv', index=False)\n",
    "np.save('np_img_array', list(df['array']))"
   ]
  },
  {
   "cell_type": "code",
   "execution_count": 24,
   "metadata": {},
   "outputs": [],
   "source": [
    "#Loading file\n",
    "os.chdir('C:\\\\Users\\\\seanx\\\\OneDrive\\\\Desktop\\\\YORK ML\\\\ML1020\\\\Retail products classification\\\\retail-products-classification')\n",
    "df = pd.read_csv('df_clean.csv')\n",
    "df['array'] = list(np.load('np_img_array.npy'))"
   ]
  },
  {
   "cell_type": "markdown",
   "metadata": {},
   "source": [
    "## Exploratory Data Analysis\n",
    "\n",
    "Next, we will explore the distribution of each label, as well as examples of each label."
   ]
  },
  {
   "cell_type": "code",
   "execution_count": 5,
   "metadata": {},
   "outputs": [
    {
     "data": {
      "text/plain": [
       "Electronics                  2596\n",
       "Patio, Lawn & Garden         2500\n",
       "Appliances                   2500\n",
       "Clothing, Shoes & Jewelry    2500\n",
       "Beauty                       2500\n",
       "Cell Phones & Accessories    2500\n",
       "Arts, Crafts & Sewing        2500\n",
       "All Electronics              2500\n",
       "Pet Supplies                 2500\n",
       "Toys & Games                 2500\n",
       "Baby Products                2500\n",
       "Industrial & Scientific      2500\n",
       "Baby                         2500\n",
       "Grocery & Gourmet Food       2500\n",
       "Health & Personal Care       2500\n",
       "Tools & Home Improvement     2500\n",
       "Sports & Outdoors            2500\n",
       "Office Products              2500\n",
       "All Beauty                   2500\n",
       "Automotive                   2500\n",
       "Musical Instruments          2500\n",
       "Name: categories, dtype: int64"
      ]
     },
     "execution_count": 5,
     "metadata": {},
     "output_type": "execute_result"
    }
   ],
   "source": [
    "df['categories'].value_counts()"
   ]
  },
  {
   "cell_type": "code",
   "execution_count": 6,
   "metadata": {},
   "outputs": [
    {
     "ename": "NameError",
     "evalue": "name 'df' is not defined",
     "output_type": "error",
     "traceback": [
      "\u001b[1;31m---------------------------------------------------------------------------\u001b[0m",
      "\u001b[1;31mNameError\u001b[0m                                 Traceback (most recent call last)",
      "\u001b[1;32m<ipython-input-6-305baca1f24c>\u001b[0m in \u001b[0;36m<module>\u001b[1;34m\u001b[0m\n\u001b[0;32m      2\u001b[0m \u001b[0mtrain_path\u001b[0m \u001b[1;33m=\u001b[0m \u001b[1;34m'C:\\\\Users\\\\seanx\\\\OneDrive\\\\Desktop\\\\YORK ML\\\\ML1020\\\\Retail products classification\\\\retail-products-classification\\\\train\\\\train'\u001b[0m\u001b[1;33m\u001b[0m\u001b[1;33m\u001b[0m\u001b[0m\n\u001b[0;32m      3\u001b[0m \u001b[0mos\u001b[0m\u001b[1;33m.\u001b[0m\u001b[0mchdir\u001b[0m\u001b[1;33m(\u001b[0m\u001b[0mtrain_path\u001b[0m\u001b[1;33m)\u001b[0m\u001b[1;33m\u001b[0m\u001b[1;33m\u001b[0m\u001b[0m\n\u001b[1;32m----> 4\u001b[1;33m \u001b[0mcategories\u001b[0m \u001b[1;33m=\u001b[0m \u001b[0mdf\u001b[0m\u001b[1;33m[\u001b[0m\u001b[1;34m'categories'\u001b[0m\u001b[1;33m]\u001b[0m\u001b[1;33m.\u001b[0m\u001b[0munique\u001b[0m\u001b[1;33m(\u001b[0m\u001b[1;33m)\u001b[0m\u001b[1;33m\u001b[0m\u001b[1;33m\u001b[0m\u001b[0m\n\u001b[0m\u001b[0;32m      5\u001b[0m \u001b[0mdf_grouped\u001b[0m \u001b[1;33m=\u001b[0m \u001b[0mdf\u001b[0m\u001b[1;33m.\u001b[0m\u001b[0mgroupby\u001b[0m\u001b[1;33m(\u001b[0m\u001b[0mdf\u001b[0m\u001b[1;33m[\u001b[0m\u001b[1;34m'categories'\u001b[0m\u001b[1;33m]\u001b[0m\u001b[1;33m)\u001b[0m\u001b[1;33m\u001b[0m\u001b[1;33m\u001b[0m\u001b[0m\n\u001b[0;32m      6\u001b[0m \u001b[0mi\u001b[0m \u001b[1;33m=\u001b[0m \u001b[1;36m0\u001b[0m\u001b[1;33m\u001b[0m\u001b[1;33m\u001b[0m\u001b[0m\n",
      "\u001b[1;31mNameError\u001b[0m: name 'df' is not defined"
     ]
    }
   ],
   "source": [
    "#plot a random image from each category and the title:\n",
    "train_path = 'C:\\\\Users\\\\seanx\\\\OneDrive\\\\Desktop\\\\YORK ML\\\\ML1020\\\\Retail products classification\\\\retail-products-classification\\\\train\\\\train'\n",
    "os.chdir(train_path)\n",
    "categories = df['categories'].unique()\n",
    "df_grouped = df.groupby(df['categories'])\n",
    "i = 0\n",
    "plt.figure(figsize=(200,200))\n",
    "for category in categories:\n",
    "    df_cat = df_grouped.get_group(category)['array']\n",
    "    randint = np.random.randint(len(df_cat))\n",
    "    image = df_cat.iloc[randint]\n",
    "    plt.subplot(1, len(categories), i+1)\n",
    "    plt.title(category, fontdict={'fontsize': 30})\n",
    "    plt.axis('off')\n",
    "    plt.imshow(image)\n",
    "    \n",
    "    i = i+1"
   ]
  },
  {
   "cell_type": "markdown",
   "metadata": {},
   "source": [
    "## Baseline Model\n",
    "\n",
    "First, the data was split into train/test, normalized, and trained using a CNN model architecture. After training for 5 epochs, the accuracy "
   ]
  },
  {
   "cell_type": "code",
   "execution_count": 26,
   "metadata": {},
   "outputs": [],
   "source": [
    "from sklearn.model_selection import train_test_split\n",
    "from sklearn.preprocessing import LabelEncoder\n",
    "\n",
    "X = list(df['array'])\n",
    "le = LabelEncoder()\n",
    "le.fit(df['categories'])\n",
    "y = list(le.transform(df['categories']))"
   ]
  },
  {
   "cell_type": "code",
   "execution_count": 4,
   "metadata": {},
   "outputs": [],
   "source": [
    "X_train, X_test, y_train, y_test = train_test_split(X, y, test_size=0.3, random_state=42)"
   ]
  },
  {
   "cell_type": "code",
   "execution_count": 5,
   "metadata": {},
   "outputs": [],
   "source": [
    "#normalize X\n",
    "X_train = np.array(X_train)/255\n",
    "X_test = np.array(X_test)/255"
   ]
  },
  {
   "cell_type": "code",
   "execution_count": 6,
   "metadata": {},
   "outputs": [
    {
     "name": "stdout",
     "output_type": "stream",
     "text": [
      "(35987, 100, 100, 3) (15423, 100, 100, 3)\n"
     ]
    }
   ],
   "source": [
    "print(X_train.shape, X_test.shape)"
   ]
  },
  {
   "cell_type": "code",
   "execution_count": 7,
   "metadata": {},
   "outputs": [
    {
     "name": "stderr",
     "output_type": "stream",
     "text": [
      "Using TensorFlow backend.\n",
      "C:\\Users\\seanx\\anaconda3\\lib\\site-packages\\tensorflow\\python\\framework\\dtypes.py:516: FutureWarning: Passing (type, 1) or '1type' as a synonym of type is deprecated; in a future version of numpy, it will be understood as (type, (1,)) / '(1,)type'.\n",
      "  _np_qint8 = np.dtype([(\"qint8\", np.int8, 1)])\n",
      "C:\\Users\\seanx\\anaconda3\\lib\\site-packages\\tensorflow\\python\\framework\\dtypes.py:517: FutureWarning: Passing (type, 1) or '1type' as a synonym of type is deprecated; in a future version of numpy, it will be understood as (type, (1,)) / '(1,)type'.\n",
      "  _np_quint8 = np.dtype([(\"quint8\", np.uint8, 1)])\n",
      "C:\\Users\\seanx\\anaconda3\\lib\\site-packages\\tensorflow\\python\\framework\\dtypes.py:518: FutureWarning: Passing (type, 1) or '1type' as a synonym of type is deprecated; in a future version of numpy, it will be understood as (type, (1,)) / '(1,)type'.\n",
      "  _np_qint16 = np.dtype([(\"qint16\", np.int16, 1)])\n",
      "C:\\Users\\seanx\\anaconda3\\lib\\site-packages\\tensorflow\\python\\framework\\dtypes.py:519: FutureWarning: Passing (type, 1) or '1type' as a synonym of type is deprecated; in a future version of numpy, it will be understood as (type, (1,)) / '(1,)type'.\n",
      "  _np_quint16 = np.dtype([(\"quint16\", np.uint16, 1)])\n",
      "C:\\Users\\seanx\\anaconda3\\lib\\site-packages\\tensorflow\\python\\framework\\dtypes.py:520: FutureWarning: Passing (type, 1) or '1type' as a synonym of type is deprecated; in a future version of numpy, it will be understood as (type, (1,)) / '(1,)type'.\n",
      "  _np_qint32 = np.dtype([(\"qint32\", np.int32, 1)])\n",
      "C:\\Users\\seanx\\anaconda3\\lib\\site-packages\\tensorflow\\python\\framework\\dtypes.py:525: FutureWarning: Passing (type, 1) or '1type' as a synonym of type is deprecated; in a future version of numpy, it will be understood as (type, (1,)) / '(1,)type'.\n",
      "  np_resource = np.dtype([(\"resource\", np.ubyte, 1)])\n",
      "C:\\Users\\seanx\\anaconda3\\lib\\site-packages\\tensorboard\\compat\\tensorflow_stub\\dtypes.py:541: FutureWarning: Passing (type, 1) or '1type' as a synonym of type is deprecated; in a future version of numpy, it will be understood as (type, (1,)) / '(1,)type'.\n",
      "  _np_qint8 = np.dtype([(\"qint8\", np.int8, 1)])\n",
      "C:\\Users\\seanx\\anaconda3\\lib\\site-packages\\tensorboard\\compat\\tensorflow_stub\\dtypes.py:542: FutureWarning: Passing (type, 1) or '1type' as a synonym of type is deprecated; in a future version of numpy, it will be understood as (type, (1,)) / '(1,)type'.\n",
      "  _np_quint8 = np.dtype([(\"quint8\", np.uint8, 1)])\n",
      "C:\\Users\\seanx\\anaconda3\\lib\\site-packages\\tensorboard\\compat\\tensorflow_stub\\dtypes.py:543: FutureWarning: Passing (type, 1) or '1type' as a synonym of type is deprecated; in a future version of numpy, it will be understood as (type, (1,)) / '(1,)type'.\n",
      "  _np_qint16 = np.dtype([(\"qint16\", np.int16, 1)])\n",
      "C:\\Users\\seanx\\anaconda3\\lib\\site-packages\\tensorboard\\compat\\tensorflow_stub\\dtypes.py:544: FutureWarning: Passing (type, 1) or '1type' as a synonym of type is deprecated; in a future version of numpy, it will be understood as (type, (1,)) / '(1,)type'.\n",
      "  _np_quint16 = np.dtype([(\"quint16\", np.uint16, 1)])\n",
      "C:\\Users\\seanx\\anaconda3\\lib\\site-packages\\tensorboard\\compat\\tensorflow_stub\\dtypes.py:545: FutureWarning: Passing (type, 1) or '1type' as a synonym of type is deprecated; in a future version of numpy, it will be understood as (type, (1,)) / '(1,)type'.\n",
      "  _np_qint32 = np.dtype([(\"qint32\", np.int32, 1)])\n",
      "C:\\Users\\seanx\\anaconda3\\lib\\site-packages\\tensorboard\\compat\\tensorflow_stub\\dtypes.py:550: FutureWarning: Passing (type, 1) or '1type' as a synonym of type is deprecated; in a future version of numpy, it will be understood as (type, (1,)) / '(1,)type'.\n",
      "  np_resource = np.dtype([(\"resource\", np.ubyte, 1)])\n"
     ]
    }
   ],
   "source": [
    "import keras\n",
    "num_classes = 21\n",
    "y_train = keras.utils.to_categorical(y_train, num_classes)\n",
    "y_test = keras.utils.to_categorical(y_test, num_classes)"
   ]
  },
  {
   "cell_type": "code",
   "execution_count": 138,
   "metadata": {},
   "outputs": [],
   "source": [
    "#Train our own model\n",
    "from keras.models import Sequential\n",
    "from keras.layers import(Dense, Conv2D, MaxPool2D, Flatten, Dropout, BatchNormalization)\n",
    "\n",
    "model = Sequential() \n",
    "model.add(Conv2D(75, (3, 3), strides=1, padding=\"same\", activation=\"relu\", input_shape=(100, 100, 3))) \n",
    "model.add(BatchNormalization()) \n",
    "model.add(MaxPool2D((2, 2), strides=2, padding=\"same\")) \n",
    "model.add(Conv2D(50, (3, 3), strides=1, padding=\"same\", activation=\"relu\")) \n",
    "model.add(Dropout(0.2)) \n",
    "model.add(BatchNormalization()) \n",
    "model.add(MaxPool2D((2, 2), strides=2, padding=\"same\")) \n",
    "model.add(Conv2D(25, (3, 3), strides=1, padding=\"same\", activation=\"relu\")) \n",
    "model.add(BatchNormalization()) \n",
    "model.add(MaxPool2D((2, 2), strides=2, padding=\"same\")) \n",
    "model.add(Flatten()) \n",
    "model.add(Dense(units=512, activation=\"relu\")) \n",
    "model.add(Dropout(0.3)) \n",
    "model.add(Dense(units=num_classes, activation=\"softmax\"))"
   ]
  },
  {
   "cell_type": "code",
   "execution_count": 139,
   "metadata": {},
   "outputs": [
    {
     "name": "stdout",
     "output_type": "stream",
     "text": [
      "Model: \"sequential_1\"\n",
      "_________________________________________________________________\n",
      "Layer (type)                 Output Shape              Param #   \n",
      "=================================================================\n",
      "conv2d_1 (Conv2D)            (None, 100, 100, 75)      2100      \n",
      "_________________________________________________________________\n",
      "batch_normalization_1 (Batch (None, 100, 100, 75)      300       \n",
      "_________________________________________________________________\n",
      "max_pooling2d_1 (MaxPooling2 (None, 50, 50, 75)        0         \n",
      "_________________________________________________________________\n",
      "conv2d_2 (Conv2D)            (None, 50, 50, 50)        33800     \n",
      "_________________________________________________________________\n",
      "dropout_1 (Dropout)          (None, 50, 50, 50)        0         \n",
      "_________________________________________________________________\n",
      "batch_normalization_2 (Batch (None, 50, 50, 50)        200       \n",
      "_________________________________________________________________\n",
      "max_pooling2d_2 (MaxPooling2 (None, 25, 25, 50)        0         \n",
      "_________________________________________________________________\n",
      "conv2d_3 (Conv2D)            (None, 25, 25, 25)        11275     \n",
      "_________________________________________________________________\n",
      "batch_normalization_3 (Batch (None, 25, 25, 25)        100       \n",
      "_________________________________________________________________\n",
      "max_pooling2d_3 (MaxPooling2 (None, 13, 13, 25)        0         \n",
      "_________________________________________________________________\n",
      "flatten_1 (Flatten)          (None, 4225)              0         \n",
      "_________________________________________________________________\n",
      "dense_2 (Dense)              (None, 512)               2163712   \n",
      "_________________________________________________________________\n",
      "dropout_2 (Dropout)          (None, 512)               0         \n",
      "_________________________________________________________________\n",
      "dense_3 (Dense)              (None, 21)                10773     \n",
      "=================================================================\n",
      "Total params: 2,222,260\n",
      "Trainable params: 2,221,960\n",
      "Non-trainable params: 300\n",
      "_________________________________________________________________\n"
     ]
    }
   ],
   "source": [
    "model.summary()"
   ]
  },
  {
   "cell_type": "code",
   "execution_count": 140,
   "metadata": {},
   "outputs": [],
   "source": [
    "model.compile(loss='categorical_crossentropy', metrics=['accuracy'], optimizer='adam')"
   ]
  },
  {
   "cell_type": "code",
   "execution_count": null,
   "metadata": {},
   "outputs": [],
   "source": [
    "model.fit(X_train, y_train, epochs=5, verbose=1, validation_data=(X_test,y_test))"
   ]
  },
  {
   "cell_type": "code",
   "execution_count": null,
   "metadata": {},
   "outputs": [],
   "source": [
    "#RESULTS: in Google Colab, training for 5 epochs, got accuracy of ~5%. Lots of work to be done for the baseline model"
   ]
  },
  {
   "cell_type": "markdown",
   "metadata": {},
   "source": [
    "## Pretrained model\n",
    "\n",
    "Let's first use pretrained model to see if it can identify what our products are"
   ]
  },
  {
   "cell_type": "code",
   "execution_count": 7,
   "metadata": {},
   "outputs": [],
   "source": [
    "from tensorflow.keras.applications import VGG16\n",
    "model = VGG16(weights=\"imagenet\")"
   ]
  },
  {
   "cell_type": "code",
   "execution_count": 6,
   "metadata": {},
   "outputs": [
    {
     "name": "stdout",
     "output_type": "stream",
     "text": [
      "Model: \"vgg16\"\n",
      "_________________________________________________________________\n",
      "Layer (type)                 Output Shape              Param #   \n",
      "=================================================================\n",
      "input_2 (InputLayer)         [(None, 224, 224, 3)]     0         \n",
      "_________________________________________________________________\n",
      "block1_conv1 (Conv2D)        (None, 224, 224, 64)      1792      \n",
      "_________________________________________________________________\n",
      "block1_conv2 (Conv2D)        (None, 224, 224, 64)      36928     \n",
      "_________________________________________________________________\n",
      "block1_pool (MaxPooling2D)   (None, 112, 112, 64)      0         \n",
      "_________________________________________________________________\n",
      "block2_conv1 (Conv2D)        (None, 112, 112, 128)     73856     \n",
      "_________________________________________________________________\n",
      "block2_conv2 (Conv2D)        (None, 112, 112, 128)     147584    \n",
      "_________________________________________________________________\n",
      "block2_pool (MaxPooling2D)   (None, 56, 56, 128)       0         \n",
      "_________________________________________________________________\n",
      "block3_conv1 (Conv2D)        (None, 56, 56, 256)       295168    \n",
      "_________________________________________________________________\n",
      "block3_conv2 (Conv2D)        (None, 56, 56, 256)       590080    \n",
      "_________________________________________________________________\n",
      "block3_conv3 (Conv2D)        (None, 56, 56, 256)       590080    \n",
      "_________________________________________________________________\n",
      "block3_pool (MaxPooling2D)   (None, 28, 28, 256)       0         \n",
      "_________________________________________________________________\n",
      "block4_conv1 (Conv2D)        (None, 28, 28, 512)       1180160   \n",
      "_________________________________________________________________\n",
      "block4_conv2 (Conv2D)        (None, 28, 28, 512)       2359808   \n",
      "_________________________________________________________________\n",
      "block4_conv3 (Conv2D)        (None, 28, 28, 512)       2359808   \n",
      "_________________________________________________________________\n",
      "block4_pool (MaxPooling2D)   (None, 14, 14, 512)       0         \n",
      "_________________________________________________________________\n",
      "block5_conv1 (Conv2D)        (None, 14, 14, 512)       2359808   \n",
      "_________________________________________________________________\n",
      "block5_conv2 (Conv2D)        (None, 14, 14, 512)       2359808   \n",
      "_________________________________________________________________\n",
      "block5_conv3 (Conv2D)        (None, 14, 14, 512)       2359808   \n",
      "_________________________________________________________________\n",
      "block5_pool (MaxPooling2D)   (None, 7, 7, 512)         0         \n",
      "_________________________________________________________________\n",
      "flatten (Flatten)            (None, 25088)             0         \n",
      "_________________________________________________________________\n",
      "fc1 (Dense)                  (None, 4096)              102764544 \n",
      "_________________________________________________________________\n",
      "fc2 (Dense)                  (None, 4096)              16781312  \n",
      "_________________________________________________________________\n",
      "predictions (Dense)          (None, 1000)              4097000   \n",
      "=================================================================\n",
      "Total params: 138,357,544\n",
      "Trainable params: 138,357,544\n",
      "Non-trainable params: 0\n",
      "_________________________________________________________________\n"
     ]
    }
   ],
   "source": [
    "model.summary()"
   ]
  },
  {
   "cell_type": "code",
   "execution_count": 51,
   "metadata": {},
   "outputs": [],
   "source": [
    "from keras.applications.vgg16 import preprocess_input\n",
    "from keras.preprocessing import image as image_utils\n",
    "\n",
    "def load_and_process_images(image_path):\n",
    "    image = image_utils.load_img(image_path, target_size=(224,224))\n",
    "    plt.imshow(image)\n",
    "    image = image_utils.img_to_array(image)\n",
    "    image = image.reshape(1, 224, 224, 3)\n",
    "    image = preprocess_input(image)\n",
    "    return image"
   ]
  },
  {
   "cell_type": "code",
   "execution_count": 52,
   "metadata": {},
   "outputs": [],
   "source": [
    "from keras.applications.vgg16 import decode_predictions\n",
    "\n",
    "def readable_prediction(df):\n",
    "    image = load_and_process_images(df['ImgId'] + '.jpg')\n",
    "    predictions = model.predict(image)\n",
    "    print('Predicted', decode_predictions(predictions, top = 3))\n",
    "    print('Actual: ', df['title'], '\\nCategory: ',df['categories'])"
   ]
  },
  {
   "cell_type": "code",
   "execution_count": 90,
   "metadata": {},
   "outputs": [
    {
     "name": "stdout",
     "output_type": "stream",
     "text": [
      "Predicted [[('n04039381', 'racket', 0.9590147), ('n04332243', 'strainer', 0.010408219), ('n04409515', 'tennis_ball', 0.008231796)]]\n",
      "Actual:  Head Liquidmetal 4 Tennis Racquet \n",
      "Category:  Sports & Outdoors\n",
      "33352\n"
     ]
    },
    {
     "data": {
      "image/png": "[encoded data removed]",
      "text/plain": [
       "<Figure size 432x288 with 1 Axes>"
      ]
     },
     "metadata": {
      "needs_background": "light"
     },
     "output_type": "display_data"
    }
   ],
   "source": [
    "train_path = 'C:\\\\Users\\\\seanx\\\\OneDrive\\\\Desktop\\\\YORK ML\\\\ML1020\\\\Retail products classification\\\\retail-products-classification\\\\train\\\\train'\n",
    "os.chdir(train_path)\n",
    "randint = np.random.randint(len(df))\n",
    "readable_prediction(df.iloc[randint])\n",
    "print(randint)"
   ]
  },
  {
   "cell_type": "markdown",
   "metadata": {},
   "source": [
    "## Transfer Learning"
   ]
  },
  {
   "cell_type": "code",
   "execution_count": 9,
   "metadata": {},
   "outputs": [
    {
     "name": "stdout",
     "output_type": "stream",
     "text": [
      "WARNING:tensorflow:From C:\\Users\\seanx\\anaconda3\\lib\\site-packages\\keras\\backend\\tensorflow_backend.py:4070: The name tf.nn.max_pool is deprecated. Please use tf.nn.max_pool2d instead.\n",
      "\n"
     ]
    },
    {
     "name": "stderr",
     "output_type": "stream",
     "text": [
      "Using TensorFlow backend.\n"
     ]
    }
   ],
   "source": [
    "from tensorflow.keras.layers import Input\n",
    "import keras\n",
    "\n",
    "base_model = keras.applications.VGG16(weights = 'imagenet', input_shape = (100, 100, 3), include_top = False)"
   ]
  },
  {
   "cell_type": "code",
   "execution_count": 10,
   "metadata": {},
   "outputs": [
    {
     "name": "stdout",
     "output_type": "stream",
     "text": [
      "Model: \"vgg16\"\n",
      "_________________________________________________________________\n",
      "Layer (type)                 Output Shape              Param #   \n",
      "=================================================================\n",
      "input_4 (InputLayer)         (None, 100, 100, 3)       0         \n",
      "_________________________________________________________________\n",
      "block1_conv1 (Conv2D)        (None, 100, 100, 64)      1792      \n",
      "_________________________________________________________________\n",
      "block1_conv2 (Conv2D)        (None, 100, 100, 64)      36928     \n",
      "_________________________________________________________________\n",
      "block1_pool (MaxPooling2D)   (None, 50, 50, 64)        0         \n",
      "_________________________________________________________________\n",
      "block2_conv1 (Conv2D)        (None, 50, 50, 128)       73856     \n",
      "_________________________________________________________________\n",
      "block2_conv2 (Conv2D)        (None, 50, 50, 128)       147584    \n",
      "_________________________________________________________________\n",
      "block2_pool (MaxPooling2D)   (None, 25, 25, 128)       0         \n",
      "_________________________________________________________________\n",
      "block3_conv1 (Conv2D)        (None, 25, 25, 256)       295168    \n",
      "_________________________________________________________________\n",
      "block3_conv2 (Conv2D)        (None, 25, 25, 256)       590080    \n",
      "_________________________________________________________________\n",
      "block3_conv3 (Conv2D)        (None, 25, 25, 256)       590080    \n",
      "_________________________________________________________________\n",
      "block3_pool (MaxPooling2D)   (None, 12, 12, 256)       0         \n",
      "_________________________________________________________________\n",
      "block4_conv1 (Conv2D)        (None, 12, 12, 512)       1180160   \n",
      "_________________________________________________________________\n",
      "block4_conv2 (Conv2D)        (None, 12, 12, 512)       2359808   \n",
      "_________________________________________________________________\n",
      "block4_conv3 (Conv2D)        (None, 12, 12, 512)       2359808   \n",
      "_________________________________________________________________\n",
      "block4_pool (MaxPooling2D)   (None, 6, 6, 512)         0         \n",
      "_________________________________________________________________\n",
      "block5_conv1 (Conv2D)        (None, 6, 6, 512)         2359808   \n",
      "_________________________________________________________________\n",
      "block5_conv2 (Conv2D)        (None, 6, 6, 512)         2359808   \n",
      "_________________________________________________________________\n",
      "block5_conv3 (Conv2D)        (None, 6, 6, 512)         2359808   \n",
      "_________________________________________________________________\n",
      "block5_pool (MaxPooling2D)   (None, 3, 3, 512)         0         \n",
      "=================================================================\n",
      "Total params: 14,714,688\n",
      "Trainable params: 14,714,688\n",
      "Non-trainable params: 0\n",
      "_________________________________________________________________\n"
     ]
    }
   ],
   "source": [
    "base_model.summary()"
   ]
  },
  {
   "cell_type": "code",
   "execution_count": 11,
   "metadata": {},
   "outputs": [],
   "source": [
    "base_model.trainable = False"
   ]
  },
  {
   "cell_type": "code",
   "execution_count": 12,
   "metadata": {},
   "outputs": [],
   "source": [
    "inputs = keras.Input(shape=(100, 100, 3))\n",
    "x = base_model(inputs)\n",
    "x = keras.layers.GlobalAveragePooling2D()(x)\n",
    "outputs = keras.layers.Dense(21)(x)\n",
    "model2 = keras.Model(inputs, outputs)"
   ]
  },
  {
   "cell_type": "code",
   "execution_count": 12,
   "metadata": {},
   "outputs": [
    {
     "name": "stdout",
     "output_type": "stream",
     "text": [
      "Model: \"model_1\"\n",
      "_________________________________________________________________\n",
      "Layer (type)                 Output Shape              Param #   \n",
      "=================================================================\n",
      "input_2 (InputLayer)         (None, 100, 100, 3)       0         \n",
      "_________________________________________________________________\n",
      "vgg16 (Model)                (None, 3, 3, 512)         14714688  \n",
      "_________________________________________________________________\n",
      "global_average_pooling2d_1 ( (None, 512)               0         \n",
      "_________________________________________________________________\n",
      "dense_1 (Dense)              (None, 21)                10773     \n",
      "=================================================================\n",
      "Total params: 14,725,461\n",
      "Trainable params: 10,773\n",
      "Non-trainable params: 14,714,688\n",
      "_________________________________________________________________\n"
     ]
    }
   ],
   "source": [
    "model2.summary()"
   ]
  },
  {
   "cell_type": "code",
   "execution_count": 13,
   "metadata": {},
   "outputs": [],
   "source": [
    "#Manually calculate metrics\n",
    "'''\n",
    "from keras import backend as K\n",
    "\n",
    "def recall_m(y_true, y_pred):\n",
    "/\n",
    "    possible_positives = K.sum(K.round(K.clip(y_true, 0, 1)))\n",
    "    recall = true_positives / (possible_positives + K.epsilon())\n",
    "    return recall\n",
    "\n",
    "def precision_m(y_true, y_pred):\n",
    "    true_positives = K.sum(K.round(K.clip(y_true * y_pred, 0, 1)))\n",
    "    predicted_positives = K.sum(K.round(K.clip(y_pred, 0, 1)))\n",
    "    precision = true_positives / (predicted_positives + K.epsilon())\n",
    "    return precision\n",
    "\n",
    "def f1_m(y_true, y_pred):\n",
    "    precision = precision_m(y_true, y_pred)\n",
    "    recall = recall_m(y_true, y_pred)\n",
    "    return 2*((precision*recall)/(precision+recall+K.epsilon()))\n",
    "'''\n",
    "# compile the model\n",
    "model2.compile(optimizer='adam', loss='binary_crossentropy', metrics=['accuracy'])"
   ]
  },
  {
   "cell_type": "code",
   "execution_count": 14,
   "metadata": {},
   "outputs": [
    {
     "name": "stdout",
     "output_type": "stream",
     "text": [
      "WARNING:tensorflow:From C:\\Users\\seanx\\anaconda3\\lib\\site-packages\\tensorflow\\python\\ops\\math_grad.py:1250: add_dispatch_support.<locals>.wrapper (from tensorflow.python.ops.array_ops) is deprecated and will be removed in a future version.\n",
      "Instructions for updating:\n",
      "Use tf.where in 2.0, which has the same broadcast rule as np.where\n",
      "WARNING:tensorflow:From C:\\Users\\seanx\\anaconda3\\lib\\site-packages\\keras\\backend\\tensorflow_backend.py:422: The name tf.global_variables is deprecated. Please use tf.compat.v1.global_variables instead.\n",
      "\n",
      "Train on 500 samples, validate on 100 samples\n",
      "Epoch 1/5\n",
      " - 292s - loss: 1.3855 - accuracy: 0.5056 - val_loss: 0.1835 - val_accuracy: 2.1276\n",
      "Epoch 2/5\n",
      " - 309s - loss: 0.6360 - accuracy: 0.5488 - val_loss: 0.1525 - val_accuracy: 2.0838\n",
      "Epoch 3/5\n",
      " - 316s - loss: 0.5969 - accuracy: 0.5335 - val_loss: 0.1549 - val_accuracy: 1.9981\n",
      "Epoch 4/5\n",
      " - 310s - loss: 0.5894 - accuracy: 0.5268 - val_loss: 0.1573 - val_accuracy: 1.9867\n",
      "Epoch 5/5\n",
      " - 319s - loss: 0.5782 - accuracy: 0.5336 - val_loss: 0.1585 - val_accuracy: 2.0133\n"
     ]
    },
    {
     "data": {
      "text/plain": [
       "<keras.callbacks.callbacks.History at 0x213848eb048>"
      ]
     },
     "execution_count": 14,
     "metadata": {},
     "output_type": "execute_result"
    }
   ],
   "source": [
    "model2.fit(X_train[0:500], y_train[0:500], steps_per_epoch = 12, validation_data = (X_test[0:100], y_test[0:100]), validation_steps = 4, epochs = 5, verbose = 2)"
   ]
  },
  {
   "cell_type": "code",
   "execution_count": 53,
   "metadata": {},
   "outputs": [],
   "source": [
    "from keras.applications.vgg16 import preprocess_input\n",
    "\n",
    "def predict_custom(df):\n",
    "    plt.imshow(df['array'])\n",
    "    image = preprocess_input(df['array'].reshape(1, 100, 100, 3))\n",
    "    prediction = model2.predict(image)\n",
    "    predicted = list(le.classes_)[np.argmax(prediction)]\n",
    "    actual = df['categories']\n",
    "    print('Predicted: ', predicted)\n",
    "    print('Actual: ', df['title'], '\\nCategory: ', actual)\n",
    "    return(predicted == actual)"
   ]
  },
  {
   "cell_type": "code",
   "execution_count": 68,
   "metadata": {},
   "outputs": [
    {
     "name": "stdout",
     "output_type": "stream",
     "text": [
      "Predicted:  Baby Products\n",
      "Actual:  Epi-Soothe Cream Rinse/Conditioner Itch Relief Cats/Dogs, 16 oz \n",
      "Category:  Pet Supplies\n"
     ]
    },
    {
     "data": {
      "image/png": "[encoded data removed]",
      "text/plain": [
       "<Figure size 432x288 with 1 Axes>"
      ]
     },
     "metadata": {
      "needs_background": "light"
     },
     "output_type": "display_data"
    }
   ],
   "source": [
    "randint = np.random.randint(len(df))\n",
    "predict_custom(df.iloc[randint])"
   ]
  },
  {
   "cell_type": "code",
   "execution_count": 42,
   "metadata": {},
   "outputs": [
    {
     "data": {
      "text/html": [
       "<div>\n",
       "<style scoped>\n",
       "    .dataframe tbody tr th:only-of-type {\n",
       "        vertical-align: middle;\n",
       "    }\n",
       "\n",
       "    .dataframe tbody tr th {\n",
       "        vertical-align: top;\n",
       "    }\n",
       "\n",
       "    .dataframe thead th {\n",
       "        text-align: right;\n",
       "    }\n",
       "</style>\n",
       "<table border=\"1\" class=\"dataframe\">\n",
       "  <thead>\n",
       "    <tr style=\"text-align: right;\">\n",
       "      <th></th>\n",
       "      <th>ImgId</th>\n",
       "      <th>title</th>\n",
       "      <th>description</th>\n",
       "      <th>categories</th>\n",
       "      <th>array</th>\n",
       "      <th>shape</th>\n",
       "      <th>ImgId_filepath</th>\n",
       "    </tr>\n",
       "  </thead>\n",
       "  <tbody>\n",
       "    <tr>\n",
       "      <th>1</th>\n",
       "      <td>B00006HXWY</td>\n",
       "      <td>Write Right 98167 Screen Protector for Sony T615C</td>\n",
       "      <td>We all screen. And we all need to protect thos...</td>\n",
       "      <td>Cell Phones &amp; Accessories</td>\n",
       "      <td>[[[255, 255, 248], [254, 253, 249], [255, 254,...</td>\n",
       "      <td>(100, 100, 3)</td>\n",
       "      <td>B00006HXWY.jpg</td>\n",
       "    </tr>\n",
       "    <tr>\n",
       "      <th>7</th>\n",
       "      <td>B000EIEWCU</td>\n",
       "      <td>Inglesina Twin Swift</td>\n",
       "      <td>Light weight double stroller that is perfect f...</td>\n",
       "      <td>Baby</td>\n",
       "      <td>[[[254, 254, 254], [254, 254, 254], [254, 254,...</td>\n",
       "      <td>(100, 100, 3)</td>\n",
       "      <td>B000EIEWCU.jpg</td>\n",
       "    </tr>\n",
       "    <tr>\n",
       "      <th>9</th>\n",
       "      <td>B000FTD1RA</td>\n",
       "      <td>DaVinci Elizabeth II Convertible Toddler Bed i...</td>\n",
       "      <td>This toddler bed is for your little king or qu...</td>\n",
       "      <td>Baby</td>\n",
       "      <td>[[[254, 254, 254], [254, 254, 254], [254, 254,...</td>\n",
       "      <td>(100, 100, 3)</td>\n",
       "      <td>B000FTD1RA.jpg</td>\n",
       "    </tr>\n",
       "    <tr>\n",
       "      <th>12</th>\n",
       "      <td>B000BTECFE</td>\n",
       "      <td>Florida State University Accessory Cover - Mar...</td>\n",
       "      <td>Britax(R) is excited to announce the launch of...</td>\n",
       "      <td>Baby</td>\n",
       "      <td>[[[255, 249, 255], [255, 250, 255], [255, 252,...</td>\n",
       "      <td>(100, 100, 3)</td>\n",
       "      <td>B000BTECFE.jpg</td>\n",
       "    </tr>\n",
       "    <tr>\n",
       "      <th>28</th>\n",
       "      <td>B0002HVYD8</td>\n",
       "      <td>Kathe Kruse Terrycloth Baby, Blue/White</td>\n",
       "      <td>The Kathe&amp;#xA0;Kruse Terrycloth Baby &amp;#xA0;has...</td>\n",
       "      <td>Baby</td>\n",
       "      <td>[[[254, 254, 254], [254, 254, 254], [254, 254,...</td>\n",
       "      <td>(100, 100, 3)</td>\n",
       "      <td>B0002HVYD8.jpg</td>\n",
       "    </tr>\n",
       "  </tbody>\n",
       "</table>\n",
       "</div>"
      ],
      "text/plain": [
       "         ImgId                                              title  \\\n",
       "1   B00006HXWY  Write Right 98167 Screen Protector for Sony T615C   \n",
       "7   B000EIEWCU                               Inglesina Twin Swift   \n",
       "9   B000FTD1RA  DaVinci Elizabeth II Convertible Toddler Bed i...   \n",
       "12  B000BTECFE  Florida State University Accessory Cover - Mar...   \n",
       "28  B0002HVYD8            Kathe Kruse Terrycloth Baby, Blue/White   \n",
       "\n",
       "                                          description  \\\n",
       "1   We all screen. And we all need to protect thos...   \n",
       "7   Light weight double stroller that is perfect f...   \n",
       "9   This toddler bed is for your little king or qu...   \n",
       "12  Britax(R) is excited to announce the launch of...   \n",
       "28  The Kathe&#xA0;Kruse Terrycloth Baby &#xA0;has...   \n",
       "\n",
       "                   categories  \\\n",
       "1   Cell Phones & Accessories   \n",
       "7                        Baby   \n",
       "9                        Baby   \n",
       "12                       Baby   \n",
       "28                       Baby   \n",
       "\n",
       "                                                array          shape  \\\n",
       "1   [[[255, 255, 248], [254, 253, 249], [255, 254,...  (100, 100, 3)   \n",
       "7   [[[254, 254, 254], [254, 254, 254], [254, 254,...  (100, 100, 3)   \n",
       "9   [[[254, 254, 254], [254, 254, 254], [254, 254,...  (100, 100, 3)   \n",
       "12  [[[255, 249, 255], [255, 250, 255], [255, 252,...  (100, 100, 3)   \n",
       "28  [[[254, 254, 254], [254, 254, 254], [254, 254,...  (100, 100, 3)   \n",
       "\n",
       "    ImgId_filepath  \n",
       "1   B00006HXWY.jpg  \n",
       "7   B000EIEWCU.jpg  \n",
       "9   B000FTD1RA.jpg  \n",
       "12  B000BTECFE.jpg  \n",
       "28  B0002HVYD8.jpg  "
      ]
     },
     "execution_count": 42,
     "metadata": {},
     "output_type": "execute_result"
    }
   ],
   "source": [
    "#Next try differentiating between just 2 classes, then do transfer learning on that. Not sure how well this works...\n",
    "df_for_transfer = df[df['categories'].isin(['Cell Phones & Accessories', 'Baby'])]\n",
    "df_for_transfer.head()"
   ]
  },
  {
   "cell_type": "code",
   "execution_count": 43,
   "metadata": {},
   "outputs": [
    {
     "data": {
      "text/html": [
       "<div>\n",
       "<style scoped>\n",
       "    .dataframe tbody tr th:only-of-type {\n",
       "        vertical-align: middle;\n",
       "    }\n",
       "\n",
       "    .dataframe tbody tr th {\n",
       "        vertical-align: top;\n",
       "    }\n",
       "\n",
       "    .dataframe thead th {\n",
       "        text-align: right;\n",
       "    }\n",
       "</style>\n",
       "<table border=\"1\" class=\"dataframe\">\n",
       "  <thead>\n",
       "    <tr style=\"text-align: right;\">\n",
       "      <th></th>\n",
       "      <th>ImgId</th>\n",
       "      <th>title</th>\n",
       "      <th>description</th>\n",
       "      <th>categories</th>\n",
       "      <th>array</th>\n",
       "      <th>shape</th>\n",
       "      <th>ImgId_filepath</th>\n",
       "    </tr>\n",
       "  </thead>\n",
       "  <tbody>\n",
       "    <tr>\n",
       "      <th>0</th>\n",
       "      <td>B0007W1CNK</td>\n",
       "      <td>Cosco Soria Stroller - Nathan</td>\n",
       "      <td>The Cosco Soria Stroller combines key features...</td>\n",
       "      <td>Baby</td>\n",
       "      <td>[[[251, 251, 251], [251, 251, 251], [251, 251,...</td>\n",
       "      <td>(100, 100, 3)</td>\n",
       "      <td>B0007W1CNK.jpg</td>\n",
       "    </tr>\n",
       "    <tr>\n",
       "      <th>1</th>\n",
       "      <td>B000EE8XEM</td>\n",
       "      <td>The Rocket by Bumbleride in Cosmo</td>\n",
       "      <td>This Rocket is a sporty stroller that offers a...</td>\n",
       "      <td>Baby</td>\n",
       "      <td>[[[254, 254, 254], [254, 254, 254], [254, 254,...</td>\n",
       "      <td>(100, 100, 3)</td>\n",
       "      <td>B000EE8XEM.jpg</td>\n",
       "    </tr>\n",
       "    <tr>\n",
       "      <th>2</th>\n",
       "      <td>B000G0HF16</td>\n",
       "      <td>HALO SleepSack Big Kids Micro-Fleece Wearable ...</td>\n",
       "      <td>NaN</td>\n",
       "      <td>Baby</td>\n",
       "      <td>[[[254, 254, 254], [254, 254, 254], [254, 254,...</td>\n",
       "      <td>(100, 100, 3)</td>\n",
       "      <td>B000G0HF16.jpg</td>\n",
       "    </tr>\n",
       "    <tr>\n",
       "      <th>3</th>\n",
       "      <td>B0000A340H</td>\n",
       "      <td>JJ Cole Original Infant Bundleme, Snow</td>\n",
       "      <td>The shearling inner lining of the New Original...</td>\n",
       "      <td>Baby</td>\n",
       "      <td>[[[254, 254, 254], [254, 254, 254], [254, 254,...</td>\n",
       "      <td>(100, 100, 3)</td>\n",
       "      <td>B0000A340H.jpg</td>\n",
       "    </tr>\n",
       "    <tr>\n",
       "      <th>4</th>\n",
       "      <td>B00076Q2IG</td>\n",
       "      <td>Battery Biz Hi-Capacity B-7753 Lithium Ion Cel...</td>\n",
       "      <td>Battery for motorola v180 v220 c650 v150 and m...</td>\n",
       "      <td>Cell Phones &amp; Accessories</td>\n",
       "      <td>[[[254, 254, 254], [254, 254, 254], [254, 254,...</td>\n",
       "      <td>(100, 100, 3)</td>\n",
       "      <td>B00076Q2IG.jpg</td>\n",
       "    </tr>\n",
       "  </tbody>\n",
       "</table>\n",
       "</div>"
      ],
      "text/plain": [
       "        ImgId                                              title  \\\n",
       "0  B0007W1CNK                      Cosco Soria Stroller - Nathan   \n",
       "1  B000EE8XEM                  The Rocket by Bumbleride in Cosmo   \n",
       "2  B000G0HF16  HALO SleepSack Big Kids Micro-Fleece Wearable ...   \n",
       "3  B0000A340H             JJ Cole Original Infant Bundleme, Snow   \n",
       "4  B00076Q2IG  Battery Biz Hi-Capacity B-7753 Lithium Ion Cel...   \n",
       "\n",
       "                                         description  \\\n",
       "0  The Cosco Soria Stroller combines key features...   \n",
       "1  This Rocket is a sporty stroller that offers a...   \n",
       "2                                                NaN   \n",
       "3  The shearling inner lining of the New Original...   \n",
       "4  Battery for motorola v180 v220 c650 v150 and m...   \n",
       "\n",
       "                  categories  \\\n",
       "0                       Baby   \n",
       "1                       Baby   \n",
       "2                       Baby   \n",
       "3                       Baby   \n",
       "4  Cell Phones & Accessories   \n",
       "\n",
       "                                               array          shape  \\\n",
       "0  [[[251, 251, 251], [251, 251, 251], [251, 251,...  (100, 100, 3)   \n",
       "1  [[[254, 254, 254], [254, 254, 254], [254, 254,...  (100, 100, 3)   \n",
       "2  [[[254, 254, 254], [254, 254, 254], [254, 254,...  (100, 100, 3)   \n",
       "3  [[[254, 254, 254], [254, 254, 254], [254, 254,...  (100, 100, 3)   \n",
       "4  [[[254, 254, 254], [254, 254, 254], [254, 254,...  (100, 100, 3)   \n",
       "\n",
       "   ImgId_filepath  \n",
       "0  B0007W1CNK.jpg  \n",
       "1  B000EE8XEM.jpg  \n",
       "2  B000G0HF16.jpg  \n",
       "3  B0000A340H.jpg  \n",
       "4  B00076Q2IG.jpg  "
      ]
     },
     "execution_count": 43,
     "metadata": {},
     "output_type": "execute_result"
    }
   ],
   "source": [
    "df_for_transfer = df_for_transfer.sample(frac=1).reset_index(drop = True)\n",
    "df_for_transfer.head()"
   ]
  },
  {
   "cell_type": "code",
   "execution_count": 18,
   "metadata": {},
   "outputs": [],
   "source": [
    "#Binary classification might make it easier\n",
    "import keras\n",
    "from keras import Input\n",
    "\n",
    "inputs = keras.Input(shape=(100, 100, 3))\n",
    "x = base_model(inputs)\n",
    "x = keras.layers.GlobalAveragePooling2D()(x)\n",
    "outputs = keras.layers.Dense(2)(x)\n",
    "model3 = keras.Model(inputs, outputs)"
   ]
  },
  {
   "cell_type": "code",
   "execution_count": 19,
   "metadata": {},
   "outputs": [
    {
     "name": "stdout",
     "output_type": "stream",
     "text": [
      "Model: \"model_3\"\n",
      "_________________________________________________________________\n",
      "Layer (type)                 Output Shape              Param #   \n",
      "=================================================================\n",
      "input_7 (InputLayer)         (None, 100, 100, 3)       0         \n",
      "_________________________________________________________________\n",
      "vgg16 (Model)                (None, 3, 3, 512)         14714688  \n",
      "_________________________________________________________________\n",
      "global_average_pooling2d_3 ( (None, 512)               0         \n",
      "_________________________________________________________________\n",
      "dense_3 (Dense)              (None, 2)                 1026      \n",
      "=================================================================\n",
      "Total params: 14,715,714\n",
      "Trainable params: 1,026\n",
      "Non-trainable params: 14,714,688\n",
      "_________________________________________________________________\n"
     ]
    }
   ],
   "source": [
    "model3.summary()"
   ]
  },
  {
   "cell_type": "code",
   "execution_count": 20,
   "metadata": {},
   "outputs": [],
   "source": [
    "model3.compile(optimizer='adam', loss=keras.losses.BinaryCrossentropy(from_logits=True), metrics=[keras.metrics.BinaryAccuracy()])"
   ]
  },
  {
   "cell_type": "code",
   "execution_count": null,
   "metadata": {},
   "outputs": [],
   "source": [
    "from sklearn.model_selection import train_test_split\n",
    "from sklearn.preprocessing import LabelEncoder\n",
    "X = list(df_for_transfer['array'])\n",
    "le2 = LabelEncoder()\n",
    "le2.fit(df_for_transfer['categories'])\n",
    "y = list(le2.transform(df_for_transfer['categories']))\n",
    "\n",
    "\n",
    "X_train, X_test, y_train, y_test = train_test_split(X, y, test_size=0.3, random_state=42)\n",
    "X_train = np.array(X_train)/255\n",
    "X_test = np.array(X_test)/255\n",
    "y_train = keras.utils.to_categorical(y_train, 2)\n",
    "y_test = keras.utils.to_categorical(y_test, 2)"
   ]
  },
  {
   "cell_type": "code",
   "execution_count": null,
   "metadata": {},
   "outputs": [],
   "source": [
    "model3.fit(X_train[0:500], y_train[0:500], steps_per_epoch = 12, validation_data = (X_test[0:100], y_test[0:100]), validation_steps = 4, epochs = 10, verbose = 2)"
   ]
  },
  {
   "cell_type": "code",
   "execution_count": 41,
   "metadata": {},
   "outputs": [
    {
     "data": {
      "text/plain": [
       "(2477, 7)"
      ]
     },
     "execution_count": 41,
     "metadata": {},
     "output_type": "execute_result"
    }
   ],
   "source": [
    "df_for_transfer.shape"
   ]
  },
  {
   "cell_type": "code",
   "execution_count": 92,
   "metadata": {},
   "outputs": [],
   "source": [
    "def predict_custom(df):\n",
    "    plt.imshow(df['array'])\n",
    "    image = preprocess_input(df['array'].reshape(1, 100, 100, 3))\n",
    "    prediction = model3.predict(image)\n",
    "    predicted = list(le2.classes_)[np.argmax(prediction)]\n",
    "    actual = df['categories']\n",
    "    #print('Predicted: ', predicted)\n",
    "    #print('Actual: ', df['title'], '\\nCategory: ', actual)\n",
    "    return(predicted == actual)"
   ]
  },
  {
   "cell_type": "code",
   "execution_count": 93,
   "metadata": {},
   "outputs": [
    {
     "data": {
      "text/plain": [
       "True"
      ]
     },
     "execution_count": 93,
     "metadata": {},
     "output_type": "execute_result"
    },
    {
     "data": {
      "image/png": "[encoded data removed]",
      "text/plain": [
       "<Figure size 432x288 with 1 Axes>"
      ]
     },
     "metadata": {
      "needs_background": "light"
     },
     "output_type": "display_data"
    }
   ],
   "source": [
    "randint = np.random.randint(len(df_for_transfer))\n",
    "predict_custom(df_for_transfer.iloc[randint])"
   ]
  },
  {
   "cell_type": "code",
   "execution_count": 94,
   "metadata": {},
   "outputs": [
    {
     "data": {
      "text/plain": [
       "20"
      ]
     },
     "execution_count": 94,
     "metadata": {},
     "output_type": "execute_result"
    },
    {
     "data": {
      "image/png": "[encoded data removed]",
      "text/plain": [
       "<Figure size 432x288 with 1 Axes>"
      ]
     },
     "metadata": {
      "needs_background": "light"
     },
     "output_type": "display_data"
    }
   ],
   "source": [
    "correct = 0\n",
    "for _ in range(100):\n",
    "    randint = np.random.randint(len(df_for_transfer))\n",
    "    if predict_custom(df_for_transfer.iloc[randint]):\n",
    "        correct += 1\n",
    "correct"
   ]
  },
  {
   "cell_type": "code",
   "execution_count": 78,
   "metadata": {},
   "outputs": [
    {
     "data": {
      "text/plain": [
       "77"
      ]
     },
     "execution_count": 78,
     "metadata": {},
     "output_type": "execute_result"
    }
   ],
   "source": [
    "#Testing transfer learning with 500 images, no augmentation resulted in testing accuracy of ~80%"
   ]
  },
  {
   "cell_type": "code",
   "execution_count": 1,
   "metadata": {},
   "outputs": [
    {
     "data": {
      "text/plain": [
       "'2.4.1'"
      ]
     },
     "execution_count": 1,
     "metadata": {},
     "output_type": "execute_result"
    }
   ],
   "source": [
    "import tensorflow as tf\n",
    "tf.__version__"
   ]
  },
  {
   "cell_type": "code",
   "execution_count": 104,
   "metadata": {},
   "outputs": [],
   "source": [
    "#Image augmentation\n",
    "new_model = tf.keras.models.load_model('custom_trained.h5')\n",
    "\n",
    "def predict_custom2(df, model):\n",
    "    plt.imshow(df['array'])\n",
    "    image = df['array'].reshape(1, 100, 100, 3)\n",
    "    prediction = model.predict(image)\n",
    "    predicted = list(le.classes_)[np.argmax(prediction)]\n",
    "    actual = df['categories']\n",
    "    #print('Predicted: ', predicted)\n",
    "    #print('Actual: ', df['title'], '\\nCategory: ', actual)\n",
    "    return(predicted == actual)"
   ]
  },
  {
   "cell_type": "code",
   "execution_count": 100,
   "metadata": {},
   "outputs": [
    {
     "name": "stdout",
     "output_type": "stream",
     "text": [
      "Predicted:  Patio, Lawn & Garden\n",
      "Actual:  Fellowes 48129 Standard 16/17 IN Glare Filter Traditional Tint \n",
      "Category:  Electronics\n"
     ]
    },
    {
     "data": {
      "text/plain": [
       "False"
      ]
     },
     "execution_count": 100,
     "metadata": {},
     "output_type": "execute_result"
    },
    {
     "data": {
      "image/png": "[encoded data removed]",
      "text/plain": [
       "<Figure size 432x288 with 1 Axes>"
      ]
     },
     "metadata": {
      "needs_background": "light"
     },
     "output_type": "display_data"
    }
   ],
   "source": [
    "randint = np.random.randint(len(df))\n",
    "predict_custom2(df.iloc[randint], new_model)"
   ]
  },
  {
   "cell_type": "code",
   "execution_count": 112,
   "metadata": {},
   "outputs": [
    {
     "data": {
      "text/plain": [
       "44"
      ]
     },
     "execution_count": 112,
     "metadata": {},
     "output_type": "execute_result"
    },
    {
     "data": {
      "image/png": "[encoded data removed]",
      "text/plain": [
       "<Figure size 432x288 with 1 Axes>"
      ]
     },
     "metadata": {
      "needs_background": "light"
     },
     "output_type": "display_data"
    }
   ],
   "source": [
    "correct = 0\n",
    "for _ in range(500):\n",
    "    randint = np.random.randint(len(df))\n",
    "    if predict_custom2(df.iloc[randint], new_model): correct +=1\n",
    "correct"
   ]
  },
  {
   "cell_type": "markdown",
   "metadata": {},
   "source": [
    "## Image Augmentation"
   ]
  },
  {
   "cell_type": "code",
   "execution_count": 114,
   "metadata": {},
   "outputs": [],
   "source": [
    "from tensorflow.keras.preprocessing.image import ImageDataGenerator\n",
    "datagen = ImageDataGenerator(samplewise_center=True, rotation_range=10, zoom_range=0.1,width_shift_range=0.1, height_shift_range=0.1, horizontal_flip=True, vertical_flip=False)"
   ]
  },
  {
   "cell_type": "code",
   "execution_count": null,
   "metadata": {},
   "outputs": [],
   "source": []
  }
 ],
 "metadata": {
  "kernelspec": {
   "display_name": "Python 3",
   "language": "python",
   "name": "python3"
  },
  "language_info": {
   "codemirror_mode": {
    "name": "ipython",
    "version": 3
   },
   "file_extension": ".py",
   "mimetype": "text/x-python",
   "name": "python",
   "nbconvert_exporter": "python",
   "pygments_lexer": "ipython3",
   "version": "3.7.6"
  }
 },
 "nbformat": 4,
 "nbformat_minor": 4
}
