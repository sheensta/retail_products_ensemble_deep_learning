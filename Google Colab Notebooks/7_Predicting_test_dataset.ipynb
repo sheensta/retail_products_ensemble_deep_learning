{
  "nbformat": 4,
  "nbformat_minor": 0,
  "metadata": {
    "colab": {
      "name": "Predicting test dataset.ipynb",
      "provenance": [],
      "collapsed_sections": [],
      "machine_shape": "hm",
      "mount_file_id": "1a-cyxVHdqJtSGXjiXys3W9gD8LpbegEf",
      "authorship_tag": "ABX9TyNZiGnMrCsNsc/2SKoCNwtZ",
      "include_colab_link": true
    },
    "kernelspec": {
      "name": "python3",
      "display_name": "Python 3"
    },
    "accelerator": "GPU"
  },
  "cells": [
    {
      "cell_type": "markdown",
      "metadata": {
        "id": "view-in-github",
        "colab_type": "text"
      },
      "source": [
        "<a href=\"https://colab.research.google.com/github/sheensta/retail_products_ensemble_deep_learning/blob/main/Predicting_test_dataset.ipynb\" target=\"_parent\"><img src=\"https://colab.research.google.com/assets/colab-badge.svg\" alt=\"Open In Colab\"/></a>"
      ]
    },
    {
      "cell_type": "code",
      "metadata": {
        "id": "ngFLJr_TG8AN"
      },
      "source": [
        "import numpy as np\n",
        "import pandas as pd\n",
        "import os\n",
        "import matplotlib.pyplot as plt\n",
        "import matplotlib.image as mpimg\n",
        "\n",
        "from sklearn.preprocessing import LabelEncoder\n",
        "\n",
        "import joblib\n",
        "import keras\n",
        "from keras.models import load_model\n",
        "from keras.preprocessing.text import Tokenizer\n",
        "from keras.preprocessing.sequence import pad_sequences\n",
        "\n",
        "from spacy.lang.en.stop_words import STOP_WORDS\n",
        "from gensim.models import word2vec\n",
        "import nltk\n",
        "import regex as re"
      ],
      "execution_count": null,
      "outputs": []
    },
    {
      "cell_type": "markdown",
      "metadata": {
        "id": "7EeYDocqEhHd"
      },
      "source": [
        "Reading Test Image Data"
      ]
    },
    {
      "cell_type": "code",
      "metadata": {
        "id": "5AgXQFC68sUm"
      },
      "source": [
        "df_test = pd.read_csv('/content/drive/MyDrive/Colab Notebooks/test.csv')\n",
        "test_path = '/content/drive/MyDrive/Colab Notebooks/test'\n",
        "df_train = pd.read_csv('/content/drive/MyDrive/Colab Notebooks/df_NLP.csv')\n",
        "os.chdir(test_path)"
      ],
      "execution_count": null,
      "outputs": []
    },
    {
      "cell_type": "code",
      "metadata": {
        "id": "ocAPRktF-HWF",
        "colab": {
          "base_uri": "https://localhost:8080/",
          "height": 136
        },
        "outputId": "80cfcd1b-f4ba-44f6-ddc1-70b84edbca9c"
      },
      "source": [
        "#Save and resize images (not needed after loading)\n",
        "'''\n",
        "def create_img_dict(files_list):\n",
        "  imgid_list = []\n",
        "  imgs_list = []\n",
        "  for i in range(len(files_list)):\n",
        "    imgid_list.append(files_list[i][:-4])\n",
        "    imgs_list.append(mpimg.imread(files_list[i]))\n",
        "  dict_img = dict(zip(imgid_list, imgs_list))\n",
        "  return dict_img\n",
        "#convert test images to array\n",
        "files_list = os.listdir(test_path)\n",
        "dict_img = create_img_dict(files_list)\n",
        "df_img = pd.DataFrame({'ImgId': dict_img.keys(), 'array': dict_img.values()})\n",
        "df_img['shape'] = [x.shape for x in list(dict_img.values())]\n",
        "df_img.to_csv('/content/drive/MyDrive/Colab Notebooks/df_img_arrays.csv', index = False)\n",
        "df_test_merged = df_test.merge(df_img, on = 'ImgId', how='outer')\n",
        "np.save('/content/drive/MyDrive/Colab Notebooks/df_np_img_arrays.npy', df_test_merged)\n",
        "'''"
      ],
      "execution_count": null,
      "outputs": [
        {
          "output_type": "execute_result",
          "data": {
            "application/vnd.google.colaboratory.intrinsic+json": {
              "type": "string"
            },
            "text/plain": [
              "\"\\ndef create_img_dict(files_list):\\n  imgid_list = []\\n  imgs_list = []\\n  for i in range(len(files_list)):\\n    imgid_list.append(files_list[i][:-4])\\n    imgs_list.append(mpimg.imread(files_list[i]))\\n  dict_img = dict(zip(imgid_list, imgs_list))\\n  return dict_img\\n#convert test images to array\\nfiles_list = os.listdir(test_path)\\ndict_img = create_img_dict(files_list)\\ndf_img = pd.DataFrame({'ImgId': dict_img.keys(), 'array': dict_img.values()})\\ndf_img['shape'] = [x.shape for x in list(dict_img.values())]\\ndf_img.to_csv('/content/drive/MyDrive/Colab Notebooks/df_img_arrays.csv', index = False)\\ndf_test_merged = df_test.merge(df_img, on = 'ImgId', how='outer')\\nnp.save('/content/drive/MyDrive/Colab Notebooks/df_np_img_arrays.npy', df_test_merged)\\n\""
            ]
          },
          "metadata": {
            "tags": []
          },
          "execution_count": 610
        }
      ]
    },
    {
      "cell_type": "code",
      "metadata": {
        "id": "h23qDlfqxC5V"
      },
      "source": [
        "df_test_merged = pd.DataFrame(np.load('/content/drive/MyDrive/Colab Notebooks/df_np_img_arrays.npy', allow_pickle=True))\n",
        "df_test_merged.columns = ['ImgId', 'title', 'description', 'array', 'shape']\n",
        "df_test_merged.index = df_test_merged['ImgId']"
      ],
      "execution_count": null,
      "outputs": []
    },
    {
      "cell_type": "code",
      "metadata": {
        "colab": {
          "base_uri": "https://localhost:8080/"
        },
        "id": "cHx64CEhyMl-",
        "outputId": "281cb2ce-6ffd-4838-c61b-d5f644ffa493"
      },
      "source": [
        "#Splitting the dataset by rows with only text, both image and text, and images only\n",
        "df_text_only = df_test_merged.loc[(df_test_merged['shape']==(100,100)) | (pd.isnull(df_test_merged['shape']))]\n",
        "df_img_text = df_test_merged.loc[(df_test_merged['shape']==(100,100,3)) & (pd.notnull(df_test_merged['description']))]\n",
        "df_img_only = df_test_merged.loc[(pd.isnull(df_test_merged['description'])) & (pd.isnull(df_test_merged['description'])) & (df_test_merged['shape']==(100,100,3))]\n",
        "\n",
        "#checking if missing any observations\n",
        "len(df_text_only) + len(df_img_text) + len(df_img_only) == len(df_test_merged)"
      ],
      "execution_count": null,
      "outputs": [
        {
          "output_type": "execute_result",
          "data": {
            "text/plain": [
              "True"
            ]
          },
          "metadata": {
            "tags": []
          },
          "execution_count": 612
        }
      ]
    },
    {
      "cell_type": "markdown",
      "metadata": {
        "id": "0wr7WPQIEj17"
      },
      "source": [
        "Reading Test Text Data"
      ]
    },
    {
      "cell_type": "code",
      "metadata": {
        "id": "Wup-Q0LPCDQz"
      },
      "source": [
        "#Data Preprocessing\n",
        "stopwords = list(STOP_WORDS)\n",
        "other_stopwords = ['nbsp', 'x']\n",
        "stopwords = stopwords + other_stopwords\n",
        "space_pattern = '\\s+'\n",
        "non_text = '[^\\w]'\n",
        "num_pattern = '\\d'\n",
        "\n",
        "def remove_stopwords(tokens):\n",
        "    return [t for t in tokens if t not in stopwords]\n",
        "\n",
        "def preprocess(text_string):\n",
        "    text_string = str(text_string)\n",
        "    text_string = text_string.lower().strip()\n",
        "    text_string = \" \".join(remove_stopwords(text_string.split()))\n",
        "    text_string = re.sub(space_pattern, ' ', text_string)\n",
        "    text_string = re.sub(num_pattern, '', text_string)\n",
        "    text_string = re.sub(non_text,' ',text_string)\n",
        "    text_string = re.sub('^oz{1}','ounce',text_string)\n",
        "    text_string = re.sub('^s{1}','small',text_string)\n",
        "    text_string = re.sub('^m{1}','medium',text_string)\n",
        "    text_string = re.sub('^l{1}','large',text_string)\n",
        "    return text_string\n",
        "\n",
        "def clean_df(df, colname):\n",
        "  clean_list = []\n",
        "  for i in range(len(df[colname])):\n",
        "    cleaned_string = preprocess(df[colname].iloc[i])\n",
        "    clean_list.append(cleaned_string)\n",
        "  return clean_list"
      ],
      "execution_count": null,
      "outputs": []
    },
    {
      "cell_type": "code",
      "metadata": {
        "colab": {
          "base_uri": "https://localhost:8080/"
        },
        "id": "Bfjrfwm4EnTJ",
        "outputId": "badafaef-3345-4fa0-8d7a-3c38bb1bd6d5"
      },
      "source": [
        "df_text_only['description'] = df_text_only['description'].astype(str)\n",
        "df_img_text['description'] = df_img_text['description'].astype(str)\n",
        "df_train['description_clean'] = df_train['description_clean'].astype(str)\n",
        "\n",
        "df_text_only['description_clean'] = clean_df(df_text_only, 'description')\n",
        "df_img_text['description_clean'] = clean_df(df_img_text, 'description')\n",
        "\n",
        "corpus = pd.concat([df_text_only['description_clean'], df_img_text['description_clean'], df_train['description_clean']]) "
      ],
      "execution_count": null,
      "outputs": [
        {
          "output_type": "stream",
          "text": [
            "/usr/local/lib/python3.7/dist-packages/ipykernel_launcher.py:1: SettingWithCopyWarning: \n",
            "A value is trying to be set on a copy of a slice from a DataFrame.\n",
            "Try using .loc[row_indexer,col_indexer] = value instead\n",
            "\n",
            "See the caveats in the documentation: https://pandas.pydata.org/pandas-docs/stable/user_guide/indexing.html#returning-a-view-versus-a-copy\n",
            "  \"\"\"Entry point for launching an IPython kernel.\n",
            "/usr/local/lib/python3.7/dist-packages/ipykernel_launcher.py:2: SettingWithCopyWarning: \n",
            "A value is trying to be set on a copy of a slice from a DataFrame.\n",
            "Try using .loc[row_indexer,col_indexer] = value instead\n",
            "\n",
            "See the caveats in the documentation: https://pandas.pydata.org/pandas-docs/stable/user_guide/indexing.html#returning-a-view-versus-a-copy\n",
            "  \n",
            "/usr/local/lib/python3.7/dist-packages/ipykernel_launcher.py:5: SettingWithCopyWarning: \n",
            "A value is trying to be set on a copy of a slice from a DataFrame.\n",
            "Try using .loc[row_indexer,col_indexer] = value instead\n",
            "\n",
            "See the caveats in the documentation: https://pandas.pydata.org/pandas-docs/stable/user_guide/indexing.html#returning-a-view-versus-a-copy\n",
            "  \"\"\"\n",
            "/usr/local/lib/python3.7/dist-packages/ipykernel_launcher.py:6: SettingWithCopyWarning: \n",
            "A value is trying to be set on a copy of a slice from a DataFrame.\n",
            "Try using .loc[row_indexer,col_indexer] = value instead\n",
            "\n",
            "See the caveats in the documentation: https://pandas.pydata.org/pandas-docs/stable/user_guide/indexing.html#returning-a-view-versus-a-copy\n",
            "  \n"
          ],
          "name": "stderr"
        }
      ]
    },
    {
      "cell_type": "code",
      "metadata": {
        "colab": {
          "base_uri": "https://localhost:8080/"
        },
        "id": "fay79_aoE8Sk",
        "outputId": "b4c2cb3c-7191-4b99-942b-6811db70ce0f"
      },
      "source": [
        "'''\n",
        "feature_size = 100    # Word vector dimensionality  \n",
        "window_context = 30          # Context window size                                                                                    \n",
        "min_word_count = 1   # Minimum word count                        \n",
        "sample = 1e-3   # Downsample setting for frequent words\n",
        "\n",
        "wpt = nltk.WordPunctTokenizer()\n",
        "tokenized_corpus = [wpt.tokenize(document) for document in corpus]\n",
        "\n",
        "w2v_model = word2vec.Word2Vec(tokenized_corpus, size=feature_size, \n",
        "                          window=window_context, min_count=min_word_count,\n",
        "                          sample=sample, iter=50)\n",
        "\n",
        "def average_word_vectors(words, model, vocabulary, num_features):\n",
        "    \n",
        "    feature_vector = np.zeros((num_features,),dtype=\"float64\")\n",
        "    nwords = 0.\n",
        "    \n",
        "    for word in words:\n",
        "        if word in vocabulary: \n",
        "            nwords = nwords + 1.\n",
        "            feature_vector = np.add(feature_vector, model[word])\n",
        "    \n",
        "    if nwords:\n",
        "        feature_vector = np.divide(feature_vector, nwords)\n",
        "        \n",
        "    return feature_vector\n",
        "\n",
        "def averaged_word_vectorizer(corpus, model, num_features):\n",
        "    vocabulary = set(model.wv.index2word)\n",
        "    features = [average_word_vectors(tokenized_sentence, model, vocabulary, num_features)\n",
        "                    for tokenized_sentence in corpus]\n",
        "    return np.array(features)\n",
        "\n",
        "w2v_feature_array = averaged_word_vectorizer(corpus=tokenized_corpus, model=w2v_model,\n",
        "                                             num_features=feature_size)\n",
        "'''\n",
        "#pd.DataFrame(w2v_feature_array).to_csv('/content/drive/MyDrive/models/full_models/FULL_w2v_feature_array.csv')\n",
        "#len(w2v_feature_array) == len(df_text_only) + len(df_img_text) + len(df_train)\n",
        "#w2v_feature_array = pd.DataFrame(w2v_feature_array)\n",
        "#w2v_feature_array.index = corpus.index"
      ],
      "execution_count": null,
      "outputs": [
        {
          "output_type": "stream",
          "text": [
            "/usr/local/lib/python3.7/dist-packages/ipykernel_launcher.py:21: DeprecationWarning: Call to deprecated `__getitem__` (Method will be removed in 4.0.0, use self.wv.__getitem__() instead).\n"
          ],
          "name": "stderr"
        }
      ]
    },
    {
      "cell_type": "code",
      "metadata": {
        "id": "K4SGLYGqoqXK"
      },
      "source": [
        "w2v_feature_array = pd.read_csv('/content/drive/MyDrive/models/full_models/FULL_w2v_feature_array.csv')\n",
        "w2v_feature_array = w2v_feature_array.iloc[:,1:]\n",
        "w2v_feature_array.index = corpus.index"
      ],
      "execution_count": null,
      "outputs": []
    },
    {
      "cell_type": "markdown",
      "metadata": {
        "id": "nOlZomg-G347"
      },
      "source": [
        "Predicting test data"
      ]
    },
    {
      "cell_type": "code",
      "metadata": {
        "id": "SVEygYQOG2g0"
      },
      "source": [
        "#RF and XGB inputs:\n",
        "X_w2v_text_only = w2v_feature_array.iloc[:len(df_text_only)]\n",
        "X_w2v_img_text = w2v_feature_array.iloc[len(df_text_only):len(df_img_text)+len(df_text_only)]\n",
        "\n",
        "#NLP DL inputs:\n",
        "tokenizer = Tokenizer(num_words=5000)\n",
        "tokenizer.fit_on_texts(corpus)\n",
        "#vocab_size = len(tokenizer.word_index) + 1\n",
        "\n",
        "X_nlp_dl_text_only = list(df_text_only['description_clean'])\n",
        "X_nlp_dl_img_text = list(df_img_text['description_clean'])\n",
        "\n",
        "X_nlp_dl_text_only = tokenizer.texts_to_sequences(X_nlp_dl_text_only)\n",
        "X_nlp_dl_img_text = tokenizer.texts_to_sequences(X_nlp_dl_img_text)\n",
        "\n",
        "maxlen = 250\n",
        "X_nlp_dl_text_only = pad_sequences(X_nlp_dl_text_only, padding='post', maxlen=maxlen)\n",
        "X_nlp_dl_img_text = pad_sequences(X_nlp_dl_img_text, padding='post', maxlen=maxlen)\n",
        "\n",
        "#Image inputs:\n",
        "X_img_only = np.array(list(df_img_only['array']))\n",
        "X_img_text = np.array(list(df_img_text['array']))"
      ],
      "execution_count": null,
      "outputs": []
    },
    {
      "cell_type": "code",
      "metadata": {
        "colab": {
          "base_uri": "https://localhost:8080/",
          "height": 52
        },
        "id": "RHniYdr8sr1o",
        "outputId": "fc1a5286-c174-4d0a-f759-d3dc83439f4a"
      },
      "source": [
        "#train RF model on full training data\n",
        "'''\n",
        "from sklearn.ensemble import RandomForestClassifier\n",
        "\n",
        "rf = RandomForestClassifier()\n",
        "X_train = w2v_feature_array[len(df_img_text)+len(df_text_only):]\n",
        "y = df_train['categories']\n",
        "rf.fit(X_train, y)\n",
        "'''"
      ],
      "execution_count": null,
      "outputs": [
        {
          "output_type": "execute_result",
          "data": {
            "application/vnd.google.colaboratory.intrinsic+json": {
              "type": "string"
            },
            "text/plain": [
              "\"\\nfrom sklearn.ensemble import RandomForestClassifier\\n\\nrf = RandomForestClassifier()\\nX_train = w2v_feature_array[len(df_img_text)+len(df_text_only):]\\ny = df_train['categories']\\nrf.fit(X_train, y)\\n\""
            ]
          },
          "metadata": {
            "tags": []
          },
          "execution_count": 622
        }
      ]
    },
    {
      "cell_type": "code",
      "metadata": {
        "colab": {
          "base_uri": "https://localhost:8080/"
        },
        "id": "oMBTUvqLvbT3",
        "outputId": "1af2b12e-6d80-4d3f-8975-cdc4a31d0615"
      },
      "source": [
        "#train XGB model on full training data\n",
        "from xgboost import XGBClassifier\n",
        "\n",
        "xgb = XGBClassifier(objective = 'multiclass:softmax')\n",
        "xgb.fit(X_train, y)"
      ],
      "execution_count": null,
      "outputs": [
        {
          "output_type": "execute_result",
          "data": {
            "text/plain": [
              "XGBClassifier(base_score=0.5, booster='gbtree', colsample_bylevel=1,\n",
              "              colsample_bynode=1, colsample_bytree=1, gamma=0,\n",
              "              learning_rate=0.1, max_delta_step=0, max_depth=3,\n",
              "              min_child_weight=1, missing=None, n_estimators=100, n_jobs=1,\n",
              "              nthread=None, objective='multi:softprob', random_state=0,\n",
              "              reg_alpha=0, reg_lambda=1, scale_pos_weight=1, seed=None,\n",
              "              silent=None, subsample=1, verbosity=1)"
            ]
          },
          "metadata": {
            "tags": []
          },
          "execution_count": 526
        }
      ]
    },
    {
      "cell_type": "code",
      "metadata": {
        "colab": {
          "base_uri": "https://localhost:8080/"
        },
        "id": "pC4LzhYVw-vu",
        "outputId": "b90262a5-9b38-4fee-811f-dffe074930cb"
      },
      "source": [
        "joblib.dump(xgb, '/content/drive/MyDrive/models/full_models/FULL_NLP_xgb2.pkl')\n",
        "joblib.dump(rf, '/content/drive/MyDrive/models/full_models/FULL_NLP_rf2.pkl')"
      ],
      "execution_count": null,
      "outputs": [
        {
          "output_type": "execute_result",
          "data": {
            "text/plain": [
              "['/content/drive/MyDrive/models/full_models/FULL_NLP_rf2.pkl']"
            ]
          },
          "metadata": {
            "tags": []
          },
          "execution_count": 527
        }
      ]
    },
    {
      "cell_type": "code",
      "metadata": {
        "id": "j4CF7zJiLILV"
      },
      "source": [
        "FULL_NLP1 = load_model('/content/drive/MyDrive/models/full_models/FULL_NLP1.h5')\n",
        "FULL_NLP_CNN = load_model('/content/drive/MyDrive/models/full_models/FULL_NLP_CNN.h5')\n",
        "FULL_NLP_rf = joblib.load('/content/drive/MyDrive/models/full_models/FULL_NLP_rf2.pkl')\n",
        "FULL_NLP_xgb = joblib.load('/content/drive/MyDrive/models/full_models/FULL_NLP_xgb2.pkl')\n",
        "#FULL_resnet = load_model('/content/drive/MyDrive/models/full_models/FULL_resnet.h5')\n",
        "FULL_resnet = load_model('/content/drive/MyDrive/models/full_models/FULL_resnet2.h5')"
      ],
      "execution_count": null,
      "outputs": []
    },
    {
      "cell_type": "code",
      "metadata": {
        "colab": {
          "base_uri": "https://localhost:8080/"
        },
        "id": "b3YAkekvENXp",
        "outputId": "c5e6f003-f73c-4fb6-8101-dda5d3cd7bd2"
      },
      "source": [
        "FULL_NLP_xgb"
      ],
      "execution_count": null,
      "outputs": [
        {
          "output_type": "execute_result",
          "data": {
            "text/plain": [
              "XGBClassifier(base_score=0.5, booster='gbtree', colsample_bylevel=1,\n",
              "              colsample_bynode=1, colsample_bytree=1, gamma=0,\n",
              "              learning_rate=0.1, max_delta_step=0, max_depth=3,\n",
              "              min_child_weight=1, missing=nan, n_estimators=100, n_jobs=1,\n",
              "              nthread=None, objective='multi:softprob', random_state=0,\n",
              "              reg_alpha=0, reg_lambda=1, scale_pos_weight=1, seed=None,\n",
              "              silent=None, subsample=1, verbosity=1)"
            ]
          },
          "metadata": {
            "tags": []
          },
          "execution_count": 623
        }
      ]
    },
    {
      "cell_type": "code",
      "metadata": {
        "id": "RRpLhwDFHiPC"
      },
      "source": [
        "#XGB_features = ['f0', 'f1', 'f2', 'f3', 'f4', 'f5', 'f6', 'f7', 'f8', 'f9', 'f10', 'f11', 'f12', 'f13', 'f14', 'f15', 'f16', 'f17', 'f18', 'f19', 'f20', 'f21', 'f22', 'f23', 'f24', 'f25', 'f26', 'f27', 'f28', 'f29', 'f30', 'f31', 'f32', 'f33', 'f34', 'f35', 'f36', 'f37', 'f38', 'f39', 'f40', 'f41', 'f42', 'f43', 'f44', 'f45', 'f46', 'f47', 'f48', 'f49', 'f50', 'f51', 'f52', 'f53', 'f54', 'f55', 'f56', 'f57', 'f58', 'f59', 'f60', 'f61', 'f62', 'f63', 'f64', 'f65', 'f66', 'f67', 'f68', 'f69', 'f70', 'f71', 'f72', 'f73', 'f74', 'f75', 'f76', 'f77', 'f78', 'f79', 'f80', 'f81', 'f82', 'f83', 'f84', 'f85', 'f86', 'f87', 'f88', 'f89', 'f90', 'f91', 'f92', 'f93', 'f94', 'f95', 'f96', 'f97', 'f98', 'f99']\n",
        "XGB_features = w2v_feature_array.columns\n",
        "X_w2v_text_only_xgb = X_w2v_text_only\n",
        "X_w2v_text_only_xgb.columns = XGB_features\n",
        "X_w2v_img_text_xgb = X_w2v_img_text\n",
        "X_w2v_img_text.columns = XGB_features"
      ],
      "execution_count": null,
      "outputs": []
    },
    {
      "cell_type": "code",
      "metadata": {
        "id": "1UVF4liBLq8L"
      },
      "source": [
        "#NLP Classic models\n",
        "\n",
        "#Text only\n",
        "y_NLP_rf_text_only = FULL_NLP_rf.predict_proba(X_w2v_text_only)\n",
        "y_NLP_xgb_text_only = FULL_NLP_xgb.predict_proba(X_w2v_text_only)\n",
        "\n",
        "#Text and images\n",
        "y_NLP_rf_img_text = FULL_NLP_rf.predict_proba(X_w2v_img_text)\n",
        "y_NLP_xgb_img_text = FULL_NLP_xgb.predict_proba(X_w2v_img_text)"
      ],
      "execution_count": null,
      "outputs": []
    },
    {
      "cell_type": "code",
      "metadata": {
        "id": "ZSS4oSftIMFC"
      },
      "source": [
        "#NLP DL models\n",
        "\n",
        "#Text only\n",
        "y_NLP_1_text_only = FULL_NLP1.predict(X_nlp_dl_text_only)\n",
        "y_NLP_CNN_text_only = FULL_NLP_CNN.predict(X_nlp_dl_text_only)\n",
        "\n",
        "#Text and images\n",
        "y_NLP_1_img_text = FULL_NLP1.predict(X_nlp_dl_img_text)\n",
        "y_NLP_CNN_img_text = FULL_NLP_CNN.predict(X_nlp_dl_img_text)"
      ],
      "execution_count": null,
      "outputs": []
    },
    {
      "cell_type": "code",
      "metadata": {
        "id": "htD1odiZHLM5"
      },
      "source": [
        "#Image model\n",
        "\n",
        "#Image only\n",
        "y_resnet_img_only = FULL_resnet.predict(X_img_only) \n",
        "\n",
        "#Text and images\n",
        "y_resnet_img_text = FULL_resnet.predict(X_img_text)"
      ],
      "execution_count": null,
      "outputs": []
    },
    {
      "cell_type": "code",
      "metadata": {
        "id": "kP_0WX1nMjwJ"
      },
      "source": [
        "#decode predictions\n",
        "def max_prediction(prediction):\n",
        "  predictions_list = []\n",
        "  for i in range(len(prediction)):\n",
        "    predictions_list.append(np.argmax(prediction[i]))\n",
        "  return predictions_list\n",
        "\n",
        "def ensemble_voting(list_predictions):\n",
        "  preds_list_mode = [max_prediction(x) for x in list_predictions]\n",
        "  mode_array = stats.mode(np.array(preds_list_mode))\n",
        "  return mode_array"
      ],
      "execution_count": null,
      "outputs": []
    },
    {
      "cell_type": "code",
      "metadata": {
        "id": "8k7hu_3RM7Fg"
      },
      "source": [
        "#Ensemble modeling based on average for containing image and texts\n",
        "\n",
        "#image text\n",
        "preds_list_avg_image_text = [y_NLP_1_img_text + y_NLP_CNN_img_text + y_NLP_rf_img_text + y_NLP_xgb_img_text + y_resnet_img_text]\n",
        "labels_predict_mean_img_text = sum(preds_list_avg_image_text)/5\n",
        "\n",
        "#text only\n",
        "preds_list_avg_text_only = [y_NLP_1_text_only + y_NLP_CNN_text_only + y_NLP_rf_text_only + y_NLP_xgb_text_only]\n",
        "labels_predict_mean_text_only = sum(preds_list_avg_text_only)/4\n",
        "\n",
        "#img only - no ensemble as there is only one model"
      ],
      "execution_count": null,
      "outputs": []
    },
    {
      "cell_type": "code",
      "metadata": {
        "id": "IK24IFZqNEjT"
      },
      "source": [
        "#getting final results\n",
        "\n",
        "labels_image_text = max_prediction(labels_predict_mean_img_text)\n",
        "labels_text_only = max_prediction(labels_predict_mean_text_only)\n",
        "labels_image_only = max_prediction(y_resnet_img_only)"
      ],
      "execution_count": null,
      "outputs": []
    },
    {
      "cell_type": "code",
      "metadata": {
        "id": "oGyS1pSCoeKq"
      },
      "source": [
        "#Re-coding the results (manually)\n",
        "\n",
        "previous_labels_list = ['All Beauty', 'All Electronics', 'Appliances',\n",
        "       'Arts, Crafts & Sewing', 'Automotive', 'Baby', 'Baby Products',\n",
        "       'Beauty', 'Cell Phones & Accessories', 'Clothing, Shoes & Jewelry',\n",
        "       'Electronics', 'Grocery & Gourmet Food', 'Health & Personal Care',\n",
        "       'Industrial & Scientific', 'Musical Instruments',\n",
        "       'Office Products', 'Patio, Lawn & Garden', 'Pet Supplies',\n",
        "       'Sports & Outdoors', 'Tools & Home Improvement', 'Toys & Games']\n",
        "numerical_labels = [0, 1, 2, 3, 4, 5, 6, 7, 8, 9, 10, 11, 12, 13, 14, 15, 16, 17, 18, 19, 20]\n",
        "\n",
        "di1 = dict(zip(numerical_labels, previous_labels_list))\n",
        "\n",
        "di2 = {'Electronics':\t0,\n",
        "'Sports & Outdoors':\t1,\n",
        "'Cell Phones & Accessories':\t2,\n",
        "'Automotive':\t3,\n",
        "'Toys & Games':\t4,\n",
        "'Tools & Home Improvement':\t5,\n",
        "'Health & Personal Care':\t6,\n",
        "'Beauty':\t7,\n",
        "'Grocery & Gourmet Food':\t8,\n",
        "'Office Products':\t9,\n",
        "'Arts, Crafts & Sewing':\t10,\n",
        "'Pet Supplies':\t11,\n",
        "'Patio, Lawn & Garden':\t12,\n",
        "'Clothing, Shoes & Jewelry':\t13,\n",
        "'Baby':\t14,\n",
        "'Musical Instruments':\t15,\n",
        "'Industrial & Scientific':\t16,\n",
        "'Baby Products':\t17,\n",
        "'Appliances':\t18,\n",
        "'All Beauty':\t19,\n",
        "'All Electronics':\t20}"
      ],
      "execution_count": null,
      "outputs": []
    },
    {
      "cell_type": "code",
      "metadata": {
        "colab": {
          "base_uri": "https://localhost:8080/"
        },
        "id": "q1AUjr0OQnTV",
        "outputId": "51da8f05-97e7-4ed6-9a57-d89b7e6eed77"
      },
      "source": [
        "#Creating the submission.csv\n",
        "df_text_only['pred_labels'] = labels_text_only\n",
        "df_text_only.replace({'pred_labels':di1}, inplace=True)"
      ],
      "execution_count": null,
      "outputs": [
        {
          "output_type": "stream",
          "text": [
            "/usr/local/lib/python3.7/dist-packages/ipykernel_launcher.py:2: SettingWithCopyWarning: \n",
            "A value is trying to be set on a copy of a slice from a DataFrame.\n",
            "Try using .loc[row_indexer,col_indexer] = value instead\n",
            "\n",
            "See the caveats in the documentation: https://pandas.pydata.org/pandas-docs/stable/user_guide/indexing.html#returning-a-view-versus-a-copy\n",
            "  \n",
            "/usr/local/lib/python3.7/dist-packages/pandas/core/indexing.py:1743: SettingWithCopyWarning: \n",
            "A value is trying to be set on a copy of a slice from a DataFrame.\n",
            "Try using .loc[row_indexer,col_indexer] = value instead\n",
            "\n",
            "See the caveats in the documentation: https://pandas.pydata.org/pandas-docs/stable/user_guide/indexing.html#returning-a-view-versus-a-copy\n",
            "  isetter(ilocs[0], value)\n"
          ],
          "name": "stderr"
        }
      ]
    },
    {
      "cell_type": "code",
      "metadata": {
        "colab": {
          "base_uri": "https://localhost:8080/"
        },
        "id": "Sr3EMVR4Sc3g",
        "outputId": "45e566f7-e89e-4f59-c519-d8384058adf9"
      },
      "source": [
        "randint = np.random.randint(len(df_text_only))\n",
        "print(df_text_only['title'].iloc[randint])\n",
        "print(df_text_only['description_clean'].iloc[randint])\n",
        "print(df_text_only['description'].iloc[randint])\n",
        "print(df_text_only['pred_labels'].iloc[randint])\n",
        "#plt.imshow(df_img_text['array'].iloc[randint])"
      ],
      "execution_count": null,
      "outputs": [
        {
          "output_type": "stream",
          "text": [
            "Asian brocade fabric purse with chinese knot - gold\n",
            "handy purses snap closure traditional chinese brocade fabrics  featuring intricately embroidered designs  pagodas  plum blossoms  bamboo variety oriental themes adorn hand sewn purses  fun colorful touch asian exotic  stylish gifts women ages \n",
            "These handy purses with snap closure are made from traditional Chinese brocade fabrics, featuring intricately embroidered designs.  Pagodas, plum blossoms, bamboo and a variety of other Oriental themes adorn these hand sewn purses.  Fun and colorful with a touch of the Asian exotic, they are stylish gifts for women of all ages.\n",
            "Clothing, Shoes & Jewelry\n"
          ],
          "name": "stdout"
        }
      ]
    },
    {
      "cell_type": "code",
      "metadata": {
        "colab": {
          "base_uri": "https://localhost:8080/"
        },
        "id": "45iINgMNfwla",
        "outputId": "4a16a1f9-4431-47b0-948f-e8be7761b4b4"
      },
      "source": [
        "df_img_text['pred_labels'] = labels_image_text\n",
        "df_img_text.replace({'pred_labels':di1}, inplace=True)"
      ],
      "execution_count": null,
      "outputs": [
        {
          "output_type": "stream",
          "text": [
            "/usr/local/lib/python3.7/dist-packages/ipykernel_launcher.py:1: SettingWithCopyWarning: \n",
            "A value is trying to be set on a copy of a slice from a DataFrame.\n",
            "Try using .loc[row_indexer,col_indexer] = value instead\n",
            "\n",
            "See the caveats in the documentation: https://pandas.pydata.org/pandas-docs/stable/user_guide/indexing.html#returning-a-view-versus-a-copy\n",
            "  \"\"\"Entry point for launching an IPython kernel.\n",
            "/usr/local/lib/python3.7/dist-packages/pandas/core/indexing.py:1743: SettingWithCopyWarning: \n",
            "A value is trying to be set on a copy of a slice from a DataFrame.\n",
            "Try using .loc[row_indexer,col_indexer] = value instead\n",
            "\n",
            "See the caveats in the documentation: https://pandas.pydata.org/pandas-docs/stable/user_guide/indexing.html#returning-a-view-versus-a-copy\n",
            "  isetter(ilocs[0], value)\n"
          ],
          "name": "stderr"
        }
      ]
    },
    {
      "cell_type": "code",
      "metadata": {
        "colab": {
          "base_uri": "https://localhost:8080/",
          "height": 372
        },
        "id": "Fx6cxjW20bpA",
        "outputId": "6472f584-d1a0-42c8-b7d1-21daf958d7c3"
      },
      "source": [
        "#Getting examples of data \n",
        "randint = np.random.randint(len(df_img_text))\n",
        "print(df_img_text['title'].iloc[randint])\n",
        "print(df_img_text['description_clean'].iloc[randint])\n",
        "print(df_img_text['description'].iloc[randint])\n",
        "print(df_img_text['pred_labels'].iloc[randint])\n",
        "plt.imshow(df_img_text['array'].iloc[randint])"
      ],
      "execution_count": null,
      "outputs": [
        {
          "output_type": "stream",
          "text": [
            "Prince RD-2575-T4-EDA1 Directional Control Valve, Logsplitter, 4 Ways, 3 Positions, 3 Position Detent, Cast Iron, 3000 psi, Lever Handle, 20 gpm, In/Out: 3/4&quot; NPTF, Work 1/2&quot; NPTF\n",
            "economical monoblock construction high tensile strength gray cast iron  hard chrome plated spool  adjustable ball spring relief   psi  psi   open center closed center conversion available models  use system flows  gpm  use system pressures  psi  max design test pressure  psi  exposed environments  mount  spool vertical handle end down \n",
            "Economical monoblock construction of high tensile strength gray cast iron. Hard chrome plated spool. Adjustable ball spring relief (1000 PSI to 3000 PSI). Open center to closed center conversion available on some models. For use with system flows to 20 GPM. For use with system pressures to 3000 PSI. Max design and test pressure 3000 PSI. In exposed environments, do not mount. with spool vertical and handle end down.\n",
            "Industrial & Scientific\n"
          ],
          "name": "stdout"
        },
        {
          "output_type": "execute_result",
          "data": {
            "text/plain": [
              "<matplotlib.image.AxesImage at 0x7f90f6313e90>"
            ]
          },
          "metadata": {
            "tags": []
          },
          "execution_count": 659
        },
        {
          "output_type": "display_data",
          "data": {
            "image/png": "[encoded data removed]",
            "text/plain": [
              "<Figure size 432x288 with 1 Axes>"
            ]
          },
          "metadata": {
            "tags": [],
            "needs_background": "light"
          }
        }
      ]
    },
    {
      "cell_type": "code",
      "metadata": {
        "colab": {
          "base_uri": "https://localhost:8080/"
        },
        "id": "KNlmkbpI09qk",
        "outputId": "3dab5674-0943-430e-8d11-b660a847ec79"
      },
      "source": [
        "df_img_only['pred_labels'] = labels_image_only\n",
        "df_img_only.replace({'pred_labels':di1}, inplace=True)"
      ],
      "execution_count": null,
      "outputs": [
        {
          "output_type": "stream",
          "text": [
            "/usr/local/lib/python3.7/dist-packages/ipykernel_launcher.py:1: SettingWithCopyWarning: \n",
            "A value is trying to be set on a copy of a slice from a DataFrame.\n",
            "Try using .loc[row_indexer,col_indexer] = value instead\n",
            "\n",
            "See the caveats in the documentation: https://pandas.pydata.org/pandas-docs/stable/user_guide/indexing.html#returning-a-view-versus-a-copy\n",
            "  \"\"\"Entry point for launching an IPython kernel.\n",
            "/usr/local/lib/python3.7/dist-packages/pandas/core/indexing.py:1743: SettingWithCopyWarning: \n",
            "A value is trying to be set on a copy of a slice from a DataFrame.\n",
            "Try using .loc[row_indexer,col_indexer] = value instead\n",
            "\n",
            "See the caveats in the documentation: https://pandas.pydata.org/pandas-docs/stable/user_guide/indexing.html#returning-a-view-versus-a-copy\n",
            "  isetter(ilocs[0], value)\n"
          ],
          "name": "stderr"
        }
      ]
    },
    {
      "cell_type": "code",
      "metadata": {
        "colab": {
          "base_uri": "https://localhost:8080/",
          "height": 318
        },
        "id": "XkzfHYDm090b",
        "outputId": "43df0860-bf4c-4497-cd0c-14b97d27e941"
      },
      "source": [
        "randint = np.random.randint(len(df_img_only))\n",
        "print(df_img_only['title'].iloc[randint])\n",
        "#print(df_img_text['description_clean'].iloc[randint])\n",
        "#print(df_img_text['description'].iloc[randint])\n",
        "\n",
        "print(df_img_text['pred_labels'].iloc[randint])\n",
        "plt.imshow(df_img_only['array'].iloc[randint])"
      ],
      "execution_count": null,
      "outputs": [
        {
          "output_type": "stream",
          "text": [
            "Fiskars 7854 X25 28-Inch Splitting Axe\n",
            "All Beauty\n"
          ],
          "name": "stdout"
        },
        {
          "output_type": "execute_result",
          "data": {
            "text/plain": [
              "<matplotlib.image.AxesImage at 0x7f90f62ebed0>"
            ]
          },
          "metadata": {
            "tags": []
          },
          "execution_count": 669
        },
        {
          "output_type": "display_data",
          "data": {
            "image/png": "[encoded data removed]",
            "text/plain": [
              "<Figure size 432x288 with 1 Axes>"
            ]
          },
          "metadata": {
            "tags": [],
            "needs_background": "light"
          }
        }
      ]
    },
    {
      "cell_type": "code",
      "metadata": {
        "id": "mAIKPlGv1JSP",
        "colab": {
          "base_uri": "https://localhost:8080/",
          "height": 431
        },
        "outputId": "078a36af-4cf1-4a3f-af4f-05b93bdbd9fa"
      },
      "source": [
        "#Prepare df for submission\n",
        "df_submission = pd.concat([df_text_only, df_img_only, df_img_text])\n",
        "df_submission = df_submission[['ImgId','pred_labels']]\n",
        "df_submission.replace({'pred_labels':di2}, inplace=True)\n",
        "df_submission.columns = ['ImgId', 'category']\n",
        "df_submission"
      ],
      "execution_count": null,
      "outputs": [
        {
          "output_type": "execute_result",
          "data": {
            "text/html": [
              "<div>\n",
              "<style scoped>\n",
              "    .dataframe tbody tr th:only-of-type {\n",
              "        vertical-align: middle;\n",
              "    }\n",
              "\n",
              "    .dataframe tbody tr th {\n",
              "        vertical-align: top;\n",
              "    }\n",
              "\n",
              "    .dataframe thead th {\n",
              "        text-align: right;\n",
              "    }\n",
              "</style>\n",
              "<table border=\"1\" class=\"dataframe\">\n",
              "  <thead>\n",
              "    <tr style=\"text-align: right;\">\n",
              "      <th></th>\n",
              "      <th>ImgId</th>\n",
              "      <th>category</th>\n",
              "    </tr>\n",
              "    <tr>\n",
              "      <th>ImgId</th>\n",
              "      <th></th>\n",
              "      <th></th>\n",
              "    </tr>\n",
              "  </thead>\n",
              "  <tbody>\n",
              "    <tr>\n",
              "      <th>B0006IK25E</th>\n",
              "      <td>B0006IK25E</td>\n",
              "      <td>10</td>\n",
              "    </tr>\n",
              "    <tr>\n",
              "      <th>B000GBRO16</th>\n",
              "      <td>B000GBRO16</td>\n",
              "      <td>10</td>\n",
              "    </tr>\n",
              "    <tr>\n",
              "      <th>B000H6OZGW</th>\n",
              "      <td>B000H6OZGW</td>\n",
              "      <td>10</td>\n",
              "    </tr>\n",
              "    <tr>\n",
              "      <th>B000BR28KC</th>\n",
              "      <td>B000BR28KC</td>\n",
              "      <td>10</td>\n",
              "    </tr>\n",
              "    <tr>\n",
              "      <th>B0006IK27M</th>\n",
              "      <td>B0006IK27M</td>\n",
              "      <td>10</td>\n",
              "    </tr>\n",
              "    <tr>\n",
              "      <th>...</th>\n",
              "      <td>...</td>\n",
              "      <td>...</td>\n",
              "    </tr>\n",
              "    <tr>\n",
              "      <th>B00000JDGO</th>\n",
              "      <td>B00000JDGO</td>\n",
              "      <td>0</td>\n",
              "    </tr>\n",
              "    <tr>\n",
              "      <th>B00BE5DDQI</th>\n",
              "      <td>B00BE5DDQI</td>\n",
              "      <td>1</td>\n",
              "    </tr>\n",
              "    <tr>\n",
              "      <th>B00001SIGU</th>\n",
              "      <td>B00001SIGU</td>\n",
              "      <td>0</td>\n",
              "    </tr>\n",
              "    <tr>\n",
              "      <th>B000182DTM</th>\n",
              "      <td>B000182DTM</td>\n",
              "      <td>3</td>\n",
              "    </tr>\n",
              "    <tr>\n",
              "      <th>B00009RUCI</th>\n",
              "      <td>B00009RUCI</td>\n",
              "      <td>1</td>\n",
              "    </tr>\n",
              "  </tbody>\n",
              "</table>\n",
              "<p>10596 rows × 2 columns</p>\n",
              "</div>"
            ],
            "text/plain": [
              "                 ImgId  category\n",
              "ImgId                           \n",
              "B0006IK25E  B0006IK25E        10\n",
              "B000GBRO16  B000GBRO16        10\n",
              "B000H6OZGW  B000H6OZGW        10\n",
              "B000BR28KC  B000BR28KC        10\n",
              "B0006IK27M  B0006IK27M        10\n",
              "...                ...       ...\n",
              "B00000JDGO  B00000JDGO         0\n",
              "B00BE5DDQI  B00BE5DDQI         1\n",
              "B00001SIGU  B00001SIGU         0\n",
              "B000182DTM  B000182DTM         3\n",
              "B00009RUCI  B00009RUCI         1\n",
              "\n",
              "[10596 rows x 2 columns]"
            ]
          },
          "metadata": {
            "tags": []
          },
          "execution_count": 681
        }
      ]
    },
    {
      "cell_type": "code",
      "metadata": {
        "colab": {
          "base_uri": "https://localhost:8080/",
          "height": 431
        },
        "id": "xFsdwFXCJCll",
        "outputId": "70bec033-af90-487b-ce3a-345b1165f0bb"
      },
      "source": [
        "image_filters = os.listdir(test_path)\n",
        "image_filters = [x[:-4] for x in image_filters]\n",
        "\n",
        "df_submission_filtered = df_submission[df_submission['ImgId'].isin(image_filters)]\n",
        "df_submission_filtered"
      ],
      "execution_count": null,
      "outputs": [
        {
          "output_type": "execute_result",
          "data": {
            "text/html": [
              "<div>\n",
              "<style scoped>\n",
              "    .dataframe tbody tr th:only-of-type {\n",
              "        vertical-align: middle;\n",
              "    }\n",
              "\n",
              "    .dataframe tbody tr th {\n",
              "        vertical-align: top;\n",
              "    }\n",
              "\n",
              "    .dataframe thead th {\n",
              "        text-align: right;\n",
              "    }\n",
              "</style>\n",
              "<table border=\"1\" class=\"dataframe\">\n",
              "  <thead>\n",
              "    <tr style=\"text-align: right;\">\n",
              "      <th></th>\n",
              "      <th>ImgId</th>\n",
              "      <th>category</th>\n",
              "    </tr>\n",
              "    <tr>\n",
              "      <th>ImgId</th>\n",
              "      <th></th>\n",
              "      <th></th>\n",
              "    </tr>\n",
              "  </thead>\n",
              "  <tbody>\n",
              "    <tr>\n",
              "      <th>B0052E5MM0</th>\n",
              "      <td>B0052E5MM0</td>\n",
              "      <td>18</td>\n",
              "    </tr>\n",
              "    <tr>\n",
              "      <th>B000SCYYQG</th>\n",
              "      <td>B000SCYYQG</td>\n",
              "      <td>12</td>\n",
              "    </tr>\n",
              "    <tr>\n",
              "      <th>B0000223EH</th>\n",
              "      <td>B0000223EH</td>\n",
              "      <td>5</td>\n",
              "    </tr>\n",
              "    <tr>\n",
              "      <th>B00004WCI3</th>\n",
              "      <td>B00004WCI3</td>\n",
              "      <td>5</td>\n",
              "    </tr>\n",
              "    <tr>\n",
              "      <th>B0006I3L8O</th>\n",
              "      <td>B0006I3L8O</td>\n",
              "      <td>2</td>\n",
              "    </tr>\n",
              "    <tr>\n",
              "      <th>...</th>\n",
              "      <td>...</td>\n",
              "      <td>...</td>\n",
              "    </tr>\n",
              "    <tr>\n",
              "      <th>B00000JDGO</th>\n",
              "      <td>B00000JDGO</td>\n",
              "      <td>0</td>\n",
              "    </tr>\n",
              "    <tr>\n",
              "      <th>B00BE5DDQI</th>\n",
              "      <td>B00BE5DDQI</td>\n",
              "      <td>1</td>\n",
              "    </tr>\n",
              "    <tr>\n",
              "      <th>B00001SIGU</th>\n",
              "      <td>B00001SIGU</td>\n",
              "      <td>0</td>\n",
              "    </tr>\n",
              "    <tr>\n",
              "      <th>B000182DTM</th>\n",
              "      <td>B000182DTM</td>\n",
              "      <td>3</td>\n",
              "    </tr>\n",
              "    <tr>\n",
              "      <th>B00009RUCI</th>\n",
              "      <td>B00009RUCI</td>\n",
              "      <td>1</td>\n",
              "    </tr>\n",
              "  </tbody>\n",
              "</table>\n",
              "<p>6367 rows × 2 columns</p>\n",
              "</div>"
            ],
            "text/plain": [
              "                 ImgId  category\n",
              "ImgId                           \n",
              "B0052E5MM0  B0052E5MM0        18\n",
              "B000SCYYQG  B000SCYYQG        12\n",
              "B0000223EH  B0000223EH         5\n",
              "B00004WCI3  B00004WCI3         5\n",
              "B0006I3L8O  B0006I3L8O         2\n",
              "...                ...       ...\n",
              "B00000JDGO  B00000JDGO         0\n",
              "B00BE5DDQI  B00BE5DDQI         1\n",
              "B00001SIGU  B00001SIGU         0\n",
              "B000182DTM  B000182DTM         3\n",
              "B00009RUCI  B00009RUCI         1\n",
              "\n",
              "[6367 rows x 2 columns]"
            ]
          },
          "metadata": {
            "tags": []
          },
          "execution_count": 698
        }
      ]
    },
    {
      "cell_type": "code",
      "metadata": {
        "id": "JlK1UPRIHN8C"
      },
      "source": [
        "#final submission\n",
        "df_submission_filtered.to_csv('/content/drive/MyDrive/Colab Notebooks/kaggle_retail_submission.csv', index = False)"
      ],
      "execution_count": null,
      "outputs": []
    }
  ]
}