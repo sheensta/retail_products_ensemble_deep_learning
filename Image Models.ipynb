{
  "nbformat": 4,
  "nbformat_minor": 0,
  "metadata": {
    "colab": {
      "name": "Code for all image models.ipynb",
      "provenance": [],
      "authorship_tag": "ABX9TyOGLot3/dhAZ2US488lG1mR",
      "include_colab_link": true
    },
    "kernelspec": {
      "name": "python3",
      "display_name": "Python 3"
    }
  },
  "cells": [
    {
      "cell_type": "markdown",
      "metadata": {
        "id": "view-in-github",
        "colab_type": "text"
      },
      "source": [
        "<a href=\"https://colab.research.google.com/github/sheensta/retail_products_ensemble_deep_learning/blob/main/Code_for_all_image_models.ipynb\" target=\"_parent\"><img src=\"https://colab.research.google.com/assets/colab-badge.svg\" alt=\"Open In Colab\"/></a>"
      ]
    },
    {
      "cell_type": "code",
      "metadata": {
        "id": "mIV1buEEgeql"
      },
      "source": [
        "import numpy as np\n",
        "import pandas as pd\n",
        "import os\n",
        "import matplotlib.pyplot as plt\n",
        "from sklearn.model_selection import train_test_split\n",
        "from sklearn.preprocessing import LabelEncoder\n",
        "import keras\n",
        "from keras.models import Sequential\n",
        "from keras.layers import(Dense, Conv2D, MaxPool2D, Flatten, Dropout, BatchNormalization)\n",
        "from keras.preprocessing.image import ImageDataGenerator\n",
        "\n",
        "#df = pd.read_csv('/content/drive/MyDrive/Colab Notebooks/df_clean.csv')\n",
        "#df['array'] = list(np.load('/content/drive/MyDrive/Colab Notebooks/np_img_array.npy'))"
      ],
      "execution_count": null,
      "outputs": []
    },
    {
      "cell_type": "markdown",
      "metadata": {
        "id": "xYhVMclrgvvh"
      },
      "source": [
        "Model architecture 1"
      ]
    },
    {
      "cell_type": "code",
      "metadata": {
        "id": "ZqzEdLCqgoye"
      },
      "source": [
        "X = list(df['array'])\n",
        "le = LabelEncoder()\n",
        "le.fit(df['categories'])\n",
        "y = list(le.transform(df['categories']))\n",
        "X_train, X_test, y_train, y_test = train_test_split(X, y, test_size=0.3, random_state=42)\n",
        "X_train = np.array(X_train)\n",
        "X_test = np.array(X_test)\n",
        "num_classes = 21\n",
        "y_train = keras.utils.to_categorical(y_train, num_classes)\n",
        "y_test = keras.utils.to_categorical(y_test, num_classes)\n",
        "\n",
        "#Train our own model\n",
        "model = Sequential() \n",
        "model.add(Conv2D(75, (3, 3), strides=1, padding=\"same\", activation=\"relu\", input_shape=(100, 100, 3))) \n",
        "model.add(BatchNormalization()) \n",
        "model.add(MaxPool2D((2, 2), strides=2, padding=\"same\")) \n",
        "model.add(Conv2D(50, (3, 3), strides=1, padding=\"same\", activation=\"relu\")) \n",
        "model.add(Dropout(0.2)) \n",
        "model.add(BatchNormalization()) \n",
        "model.add(MaxPool2D((2, 2), strides=2, padding=\"same\")) \n",
        "model.add(Conv2D(25, (3, 3), strides=1, padding=\"same\", activation=\"relu\")) \n",
        "model.add(BatchNormalization()) \n",
        "model.add(MaxPool2D((2, 2), strides=2, padding=\"same\")) \n",
        "model.add(Flatten()) \n",
        "model.add(Dense(units=512, activation=\"relu\")) \n",
        "model.add(Dropout(0.3)) \n",
        "model.add(Dense(units=num_classes, activation=\"softmax\"))\n",
        "model.compile(loss='categorical_crossentropy', metrics=['accuracy'], optimizer='adam')\n",
        "\n",
        "augs_gen = ImageDataGenerator(\n",
        "        featurewise_center=False,  \n",
        "        samplewise_center=False, \n",
        "        featurewise_std_normalization=False,  \n",
        "        samplewise_std_normalization=False,  \n",
        "        zca_whitening=False,  \n",
        "        rotation_range=10,  \n",
        "        zoom_range = 0.1, \n",
        "        width_shift_range=0.2,  \n",
        "        height_shift_range=0.2, \n",
        "        horizontal_flip=True,  \n",
        "        vertical_flip=False) \n",
        "\n",
        "augs_gen.fit(X_train)\n",
        "history = model.fit(augs_gen.flow(X_train,y_train,batch_size=128),validation_data  = (X_test,y_test), steps_per_epoch  = 100,epochs = 15,verbose = 1)"
      ],
      "execution_count": null,
      "outputs": []
    },
    {
      "cell_type": "markdown",
      "metadata": {
        "id": "1QT-ZH6OhRdR"
      },
      "source": [
        "Model architecture 2"
      ]
    },
    {
      "cell_type": "code",
      "metadata": {
        "id": "CYMW1bWqgo0i"
      },
      "source": [
        "## Data Augmentation\n",
        "from keras import layers\n",
        "data_augmentation = keras.Sequential(\n",
        "    [\n",
        "        layers.experimental.preprocessing.RandomFlip(\"horizontal\"),\n",
        "        layers.experimental.preprocessing.RandomRotation(0.1),\n",
        "        layers.experimental.preprocessing.RandomHeight(0.1),\n",
        "        layers.experimental.preprocessing.RandomWidth(0.1),\n",
        "        layers.experimental.preprocessing.RandomZoom(0.1)\n",
        "    ]\n",
        ")\n",
        "\n",
        "def make_model(input_shape, num_classes):\n",
        "    inputs = keras.Input(shape=input_shape)\n",
        "    # Image augmentation block\n",
        "    x = data_augmentation(inputs)\n",
        "\n",
        "    # Entry block\n",
        "    x = layers.experimental.preprocessing.Rescaling(1.0 / 255)(x)\n",
        "    x = layers.Conv2D(32, 3, strides=2, padding=\"same\")(x)\n",
        "    x = layers.BatchNormalization()(x)\n",
        "    x = layers.Activation(\"relu\")(x)\n",
        "\n",
        "    x = layers.Conv2D(64, 3, padding=\"same\")(x)\n",
        "    x = layers.BatchNormalization()(x)\n",
        "    x = layers.Activation(\"relu\")(x)\n",
        "\n",
        "    previous_block_activation = x  # Set aside residual\n",
        "\n",
        "    for size in [128, 256, 512, 1024]:\n",
        "        x = layers.Activation(\"relu\")(x)\n",
        "        x = layers.SeparableConv2D(size, 3, padding=\"same\")(x)\n",
        "        x = layers.BatchNormalization()(x)\n",
        "\n",
        "        x = layers.Activation(\"relu\")(x)\n",
        "        x = layers.SeparableConv2D(size, 3, padding=\"same\")(x)\n",
        "        x = layers.BatchNormalization()(x)\n",
        "\n",
        "        x = layers.MaxPooling2D(3, strides=2, padding=\"same\")(x)\n",
        "\n",
        "        # Project residual\n",
        "        residual = layers.Conv2D(size, 1, strides=2, padding=\"same\")(\n",
        "            previous_block_activation\n",
        "        )\n",
        "        x = layers.add([x, residual])  # Add back residual\n",
        "        previous_block_activation = x  # Set aside next residual\n",
        "\n",
        "    x = layers.SeparableConv2D(1024, 3, padding=\"same\")(x)\n",
        "    x = layers.BatchNormalization()(x)\n",
        "    x = layers.Activation(\"relu\")(x)\n",
        "\n",
        "    x = layers.GlobalAveragePooling2D()(x)\n",
        "    if num_classes == 2:\n",
        "        activation = \"sigmoid\"\n",
        "        units = 1\n",
        "    else:\n",
        "        activation = \"softmax\"\n",
        "        units = num_classes\n",
        "\n",
        "    x = layers.Dropout(0.3)(x)\n",
        "    outputs = layers.Dense(units, activation=activation)(x)\n",
        "    return keras.Model(inputs, outputs)\n",
        "\n",
        "\n",
        "model = make_model(input_shape=(100,100,3), num_classes=21)\n",
        "model.compile(\n",
        "    optimizer='adam',\n",
        "    loss=\"categorical_crossentropy\",\n",
        "    metrics=[\"accuracy\"],\n",
        ")\n",
        "\n",
        "history = model.fit(X_train, y_train, validation_data = (X_test, y_test), batch_size = 32,epochs = 15, verbose = 1)"
      ],
      "execution_count": null,
      "outputs": []
    },
    {
      "cell_type": "markdown",
      "metadata": {
        "id": "V1RAZT45htLv"
      },
      "source": [
        "Transfer learning VGG16"
      ]
    },
    {
      "cell_type": "code",
      "metadata": {
        "id": "66lTqdV3go2j"
      },
      "source": [
        "#VGG16 transfer\n",
        "from keras.applications.vgg16 import VGG16,preprocess_input\n",
        "\n",
        "X = list(df['array'])\n",
        "le = LabelEncoder()\n",
        "le.fit(df['categories'])\n",
        "y = list(le.transform(df['categories']))\n",
        "X_train, X_test, y_train, y_test = train_test_split(X, y, test_size=0.3, random_state=42)\n",
        "X_train = preprocess_input(np.array(X_train))\n",
        "X_test = preprocess_input(np.array(X_test))\n",
        "num_classes = 21\n",
        "y_train = keras.utils.to_categorical(y_train, num_classes)\n",
        "y_test = keras.utils.to_categorical(y_test, num_classes)\n",
        "\n",
        "model.compile(\n",
        "    loss='categorical_crossentropy',\n",
        "    optimizer='adam',\n",
        "    metrics=['accuracy']\n",
        ")\n",
        "\n",
        "augs_gen = ImageDataGenerator(\n",
        "        featurewise_center=False,  \n",
        "        samplewise_center=False, \n",
        "        featurewise_std_normalization=False,  \n",
        "        samplewise_std_normalization=False,  \n",
        "        zca_whitening=False,  \n",
        "        rotation_range=10,  \n",
        "        zoom_range = 0.1, \n",
        "        width_shift_range=0.2,  \n",
        "        height_shift_range=0.2, \n",
        "        horizontal_flip=True,  \n",
        "        vertical_flip=False) \n",
        "\n",
        "augs_gen.fit(X_train)\n",
        "\n",
        "base_model = keras.applications.VGG16(include_top=False,\n",
        "                  input_shape = (100,100,3),\n",
        "                  weights = 'imagenet')\n",
        "\n",
        "for layer in base_model.layers:\n",
        "    layer.trainable = False\n",
        "\n",
        "\n",
        "model = Sequential()\n",
        "model.add(base_model)\n",
        "model.add(GlobalAveragePooling2D())\n",
        "model.add(Dropout(0.3))\n",
        "model.add(Dense(21,activation='softmax'))\n",
        "\n",
        "augs_gen = ImageDataGenerator(\n",
        "        featurewise_center=False,  \n",
        "        samplewise_center=False, \n",
        "        featurewise_std_normalization=False,  \n",
        "        samplewise_std_normalization=False,  \n",
        "        zca_whitening=False,  \n",
        "        rotation_range=10,  \n",
        "        zoom_range = 0.1, \n",
        "        width_shift_range=0.2,  \n",
        "        height_shift_range=0.2, \n",
        "        horizontal_flip=True,  \n",
        "        vertical_flip=False) \n",
        "\n",
        "augs_gen.fit(X_train)\n",
        "history = model.fit(augs_gen.flow(X_train,y_train,batch_size=128),validation_data  = (X_test,y_test), steps_per_epoch  = 100,epochs = 15,verbose = 1)"
      ],
      "execution_count": null,
      "outputs": []
    },
    {
      "cell_type": "markdown",
      "metadata": {
        "id": "vh24U6myhtOC"
      },
      "source": [
        "Transfer learning ResNet50"
      ]
    },
    {
      "cell_type": "code",
      "metadata": {
        "id": "cc1IG6PJgo7o"
      },
      "source": [
        "from keras.applications.resnet50 import preprocess_input\n",
        "from keras.applications.resnet50 import ResNet50\n",
        "\n",
        "X = list(df['array'])\n",
        "le = LabelEncoder()\n",
        "le.fit(df['categories'])\n",
        "y = list(le.transform(df['categories']))\n",
        "X_train, X_test, y_train, y_test = train_test_split(X, y, test_size=0.3, random_state=42)\n",
        "X_train = preprocess_input(np.array(X_train))\n",
        "X_test = preprocess_input(np.array(X_test))\n",
        "num_classes = 21\n",
        "y_train = keras.utils.to_categorical(y_train, num_classes)\n",
        "y_test = keras.utils.to_categorical(y_test, num_classes)\n",
        "\n",
        "base_model = ResNet50(include_top=False,\n",
        "                  input_shape = (100,100,3),\n",
        "                  weights = 'imagenet')\n",
        "\n",
        "for layer in base_model.layers:\n",
        "    layer.trainable = False\n",
        "\n",
        "model = Sequential()\n",
        "model.add(base_model)\n",
        "model.add(GlobalAveragePooling2D())\n",
        "model.add(Dropout(0.3))\n",
        "model.add(Dense(21,activation='softmax'))\n",
        "\n",
        "augs_gen = ImageDataGenerator(\n",
        "        featurewise_center=False,  \n",
        "        samplewise_center=False, \n",
        "        featurewise_std_normalization=False,  \n",
        "        samplewise_std_normalization=False,  \n",
        "        zca_whitening=False,  \n",
        "        rotation_range=10,  \n",
        "        zoom_range = 0.1, \n",
        "        width_shift_range=0.2,  \n",
        "        height_shift_range=0.2, \n",
        "        horizontal_flip=True,  \n",
        "        vertical_flip=False) \n",
        "\n",
        "augs_gen.fit(X_train)\n",
        "history = model.fit(augs_gen.flow(X_train,y_train,batch_size=128),validation_data  = (X_test,y_test), steps_per_epoch  = 100,epochs = 15,verbose = 1)"
      ],
      "execution_count": null,
      "outputs": []
    }
  ]
}
