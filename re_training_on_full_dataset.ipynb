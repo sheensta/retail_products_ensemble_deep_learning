{
  "nbformat": 4,
  "nbformat_minor": 0,
  "metadata": {
    "colab": {
      "name": "re-training on full dataset.ipynb",
      "provenance": [],
      "collapsed_sections": [],
      "machine_shape": "hm",
      "mount_file_id": "1BdeMmFWvZwaa1xnx07KSHqjtuH3-hIRN",
      "authorship_tag": "ABX9TyPnlxyUNB2wdBZedVxwxO44",
      "include_colab_link": true
    },
    "kernelspec": {
      "name": "python3",
      "display_name": "Python 3"
    },
    "accelerator": "GPU"
  },
  "cells": [
    {
      "cell_type": "markdown",
      "metadata": {
        "id": "view-in-github",
        "colab_type": "text"
      },
      "source": [
        "<a href=\"https://colab.research.google.com/github/sheensta/retail_products_ensemble_deep_learning/blob/main/re_training_on_full_dataset.ipynb\" target=\"_parent\"><img src=\"https://colab.research.google.com/assets/colab-badge.svg\" alt=\"Open In Colab\"/></a>"
      ]
    },
    {
      "cell_type": "code",
      "metadata": {
        "id": "z5EKP9spRyUO"
      },
      "source": [
        "#Required models (from model_evaluations.ipnyb): \n",
        "#y_NLP1 + y_CNN + y_preds_rf + y_resnet + y_preds_XGB\n",
        "#y_NLP1, y_CNN, y_preds_rf, y_resnet\n",
        "#Image models: resnet transfer learning\n",
        "#NLP models: simple NLP, CNN, random forest, XGB"
      ],
      "execution_count": null,
      "outputs": []
    },
    {
      "cell_type": "code",
      "metadata": {
        "id": "YXvtqO32TJWp"
      },
      "source": [
        "import numpy as np\n",
        "import pandas as pd\n",
        "\n",
        "from sklearn.preprocessing import LabelEncoder\n",
        "from sklearn.ensemble import RandomForestClassifier\n",
        "from sklearn.model_selection import KFold, GridSearchCV\n",
        "\n",
        "import xgboost as xgb\n",
        "from xgboost import XGBClassifier\n",
        "\n",
        "import keras\n",
        "from keras.utils import to_categorical\n",
        "from keras.models import Sequential\n",
        "from keras.layers import(GlobalMaxPooling1D, Conv1D, Embedding, Dense, Conv2D, MaxPool2D, Flatten, Dropout, BatchNormalization, GlobalAveragePooling2D)\n",
        "from keras.preprocessing.image import ImageDataGenerator\n",
        "from keras.preprocessing.text import Tokenizer\n",
        "from keras.preprocessing.sequence import pad_sequences\n",
        "from keras.applications.resnet50 import preprocess_input\n",
        "from keras.applications.resnet50 import ResNet50\n",
        "\n",
        "from gensim.models import word2vec\n",
        "import nltk\n",
        "\n",
        "import joblib"
      ],
      "execution_count": null,
      "outputs": []
    },
    {
      "cell_type": "code",
      "metadata": {
        "id": "mloGWaJ-Tgj8"
      },
      "source": [
        "#Image data\n",
        "df = pd.read_csv('/content/drive/MyDrive/Colab Notebooks/df_clean.csv')\n",
        "df['array'] = list(np.load('/content/drive/MyDrive/Colab Notebooks/np_img_array.npy'))"
      ],
      "execution_count": null,
      "outputs": []
    },
    {
      "cell_type": "code",
      "metadata": {
        "id": "CZhYQJO6TTlm",
        "colab": {
          "base_uri": "https://localhost:8080/"
        },
        "outputId": "92bb13d4-2f8d-4629-b34c-615b20c3c634"
      },
      "source": [
        "#Resnet_transfer\n",
        "\n",
        "X = preprocess_input(np.array(list(df['array'])))\n",
        "le = LabelEncoder()\n",
        "le.fit(df['categories'])\n",
        "y = list(le.transform(df['categories']))\n",
        "num_classes = 21\n",
        "y = keras.utils.to_categorical(y, num_classes)\n",
        "\n",
        "base_model = ResNet50(include_top=False,\n",
        "                  input_shape = (100,100,3),\n",
        "                  weights = 'imagenet')\n",
        "\n",
        "for layer in base_model.layers:\n",
        "    layer.trainable = False\n",
        "\n",
        "model = Sequential()\n",
        "model.add(base_model)\n",
        "model.add(GlobalAveragePooling2D())\n",
        "model.add(Dropout(0.3))\n",
        "model.add(Dense(21,activation='softmax'))\n",
        "model.compile(loss='categorical_crossentropy', metrics=['accuracy'], optimizer='adam')\n",
        "\n",
        "augs_gen = ImageDataGenerator(\n",
        "        featurewise_center=False,  \n",
        "        samplewise_center=False, \n",
        "        featurewise_std_normalization=False,  \n",
        "        samplewise_std_normalization=False,  \n",
        "        zca_whitening=False,  \n",
        "        rotation_range=10,  \n",
        "        zoom_range = 0.1, \n",
        "        width_shift_range=0.2,  \n",
        "        height_shift_range=0.2, \n",
        "        horizontal_flip=True,  \n",
        "        vertical_flip=False) \n",
        "\n",
        "augs_gen.fit(X)\n",
        "\n",
        "history = model.fit(augs_gen.flow(X,y,batch_size=128), steps_per_epoch  = 402, epochs = 10,verbose = 1)\n",
        "model.save('/content/drive/MyDrive/models/full_models/FULL_resnet2.h5')"
      ],
      "execution_count": null,
      "outputs": [
        {
          "output_type": "stream",
          "text": [
            "Epoch 1/10\n",
            "402/402 [==============================] - 136s 292ms/step - loss: 3.0967 - accuracy: 0.2038\n",
            "Epoch 2/10\n",
            "402/402 [==============================] - 118s 293ms/step - loss: 2.3494 - accuracy: 0.3242\n",
            "Epoch 3/10\n",
            "402/402 [==============================] - 118s 293ms/step - loss: 2.2097 - accuracy: 0.3529\n",
            "Epoch 4/10\n",
            "402/402 [==============================] - 118s 292ms/step - loss: 2.1933 - accuracy: 0.3533\n",
            "Epoch 5/10\n",
            "402/402 [==============================] - 118s 293ms/step - loss: 2.1471 - accuracy: 0.3645\n",
            "Epoch 6/10\n",
            "402/402 [==============================] - 118s 293ms/step - loss: 2.1547 - accuracy: 0.3657\n",
            "Epoch 7/10\n",
            "402/402 [==============================] - 117s 290ms/step - loss: 2.1325 - accuracy: 0.3700\n",
            "Epoch 8/10\n",
            "402/402 [==============================] - 117s 290ms/step - loss: 2.1440 - accuracy: 0.3736\n",
            "Epoch 9/10\n",
            "402/402 [==============================] - 117s 292ms/step - loss: 2.1310 - accuracy: 0.3738\n",
            "Epoch 10/10\n",
            "402/402 [==============================] - 118s 293ms/step - loss: 2.1189 - accuracy: 0.3777\n"
          ],
          "name": "stdout"
        }
      ]
    },
    {
      "cell_type": "code",
      "metadata": {
        "id": "mVxFDspxVLKx"
      },
      "source": [
        "#NLP data_DL\n",
        "df = pd.read_csv('/content/drive/MyDrive/Colab Notebooks/df_NLP.csv')\n",
        "df['description_clean'] = df['description_clean'].astype(str)\n",
        "corpus = df['description_clean']"
      ],
      "execution_count": null,
      "outputs": []
    },
    {
      "cell_type": "code",
      "metadata": {
        "colab": {
          "base_uri": "https://localhost:8080/"
        },
        "id": "kg3O1aGLUtP8",
        "outputId": "304bb3bd-543a-458a-e717-c3a0aec3c965"
      },
      "source": [
        "#Simple NLP\n",
        "X = list(df['description_clean'])\n",
        "\n",
        "tokenizer = Tokenizer(num_words=5000)\n",
        "tokenizer.fit_on_texts(corpus)\n",
        "\n",
        "X = tokenizer.texts_to_sequences(X)\n",
        "\n",
        "vocab_size = len(tokenizer.word_index) + 1 \n",
        "\n",
        "maxlen = 250\n",
        "X = pad_sequences(X, padding='post', maxlen=maxlen)\n",
        "# define the model\n",
        "model = Sequential()\n",
        "model.add(Embedding(vocab_size, 100, input_length=maxlen))\n",
        "model.add(Flatten())\n",
        "model.add(Dense(21, activation='softmax'))\n",
        "# compile the model\n",
        "model.compile(optimizer='adam', loss='categorical_crossentropy', metrics=['accuracy'])\n",
        "history = model.fit(X, y, batch_size=128, epochs=6, verbose=1)\n",
        "model.save('/content/drive/MyDrive/models/full_models/FULL_NLP1.h5')"
      ],
      "execution_count": null,
      "outputs": [
        {
          "output_type": "stream",
          "text": [
            "Epoch 1/6\n",
            "402/402 [==============================] - 22s 54ms/step - loss: 2.5156 - accuracy: 0.2849\n",
            "Epoch 2/6\n",
            "402/402 [==============================] - 22s 54ms/step - loss: 0.9286 - accuracy: 0.7459\n",
            "Epoch 3/6\n",
            "402/402 [==============================] - 22s 54ms/step - loss: 0.6275 - accuracy: 0.8325\n",
            "Epoch 4/6\n",
            "402/402 [==============================] - 21s 53ms/step - loss: 0.4618 - accuracy: 0.8825\n",
            "Epoch 5/6\n",
            "402/402 [==============================] - 21s 53ms/step - loss: 0.3622 - accuracy: 0.9111\n",
            "Epoch 6/6\n",
            "402/402 [==============================] - 21s 53ms/step - loss: 0.2806 - accuracy: 0.9339\n"
          ],
          "name": "stdout"
        }
      ]
    },
    {
      "cell_type": "code",
      "metadata": {
        "colab": {
          "base_uri": "https://localhost:8080/"
        },
        "id": "_FxMRU2bWZsP",
        "outputId": "ec161e75-b938-4529-d106-3dc71fee6a0c"
      },
      "source": [
        "#CNN NLP\n",
        "model = Sequential()\n",
        "model.add(Embedding(vocab_size, 100, input_length=maxlen))\n",
        "model.add(Conv1D(128, 5, activation='relu'))\n",
        "model.add(GlobalMaxPooling1D())\n",
        "model.add(Dense(21, activation='softmax'))\n",
        "model.compile(optimizer='adam', loss='categorical_crossentropy', metrics=['accuracy'])\n",
        "history = model.fit(X, y, batch_size=128, epochs=6, verbose=1)\n",
        "model.save('/content/drive/MyDrive/models/full_models/FULL_NLP_CNN.h5')"
      ],
      "execution_count": null,
      "outputs": [
        {
          "output_type": "stream",
          "text": [
            "Epoch 1/6\n",
            "402/402 [==============================] - 26s 55ms/step - loss: 2.5132 - accuracy: 0.3076\n",
            "Epoch 2/6\n",
            "402/402 [==============================] - 22s 55ms/step - loss: 0.9403 - accuracy: 0.7206\n",
            "Epoch 3/6\n",
            "402/402 [==============================] - 22s 55ms/step - loss: 0.6626 - accuracy: 0.8069\n",
            "Epoch 4/6\n",
            "402/402 [==============================] - 22s 55ms/step - loss: 0.4895 - accuracy: 0.8633\n",
            "Epoch 5/6\n",
            "402/402 [==============================] - 22s 55ms/step - loss: 0.3670 - accuracy: 0.9051\n",
            "Epoch 6/6\n",
            "402/402 [==============================] - 22s 54ms/step - loss: 0.2721 - accuracy: 0.9325\n"
          ],
          "name": "stdout"
        }
      ]
    },
    {
      "cell_type": "code",
      "metadata": {
        "colab": {
          "base_uri": "https://localhost:8080/"
        },
        "id": "8YUCOEz-WydP",
        "outputId": "c7ba7650-ea2b-4404-823b-c41bee9951de"
      },
      "source": [
        "#NLP data_RF/XGB\n",
        "feature_size = 100    # Word vector dimensionality  \n",
        "window_context = 30          # Context window size                                                                                    \n",
        "min_word_count = 1   # Minimum word count                        \n",
        "sample = 1e-3   # Downsample setting for frequent words\n",
        "\n",
        "wpt = nltk.WordPunctTokenizer()\n",
        "tokenized_corpus = [wpt.tokenize(document) for document in corpus]\n",
        "\n",
        "w2v_model = word2vec.Word2Vec(tokenized_corpus, size=feature_size, \n",
        "                          window=window_context, min_count=min_word_count,\n",
        "                          sample=sample, iter=50)\n",
        "\n",
        "def average_word_vectors(words, model, vocabulary, num_features):\n",
        "    \n",
        "    feature_vector = np.zeros((num_features,),dtype=\"float64\")\n",
        "    nwords = 0.\n",
        "    \n",
        "    for word in words:\n",
        "        if word in vocabulary: \n",
        "            nwords = nwords + 1.\n",
        "            feature_vector = np.add(feature_vector, model[word])\n",
        "    \n",
        "    if nwords:\n",
        "        feature_vector = np.divide(feature_vector, nwords)\n",
        "        \n",
        "    return feature_vector\n",
        "\n",
        "def averaged_word_vectorizer(corpus, model, num_features):\n",
        "    vocabulary = set(model.wv.index2word)\n",
        "    features = [average_word_vectors(tokenized_sentence, model, vocabulary, num_features)\n",
        "                    for tokenized_sentence in corpus]\n",
        "    return np.array(features)\n",
        "\n",
        "w2v_feature_array = averaged_word_vectorizer(corpus=tokenized_corpus, model=w2v_model,\n",
        "                                             num_features=feature_size)\n",
        "\n",
        "X = w2v_feature_array\n",
        "#le = LabelEncoder()\n",
        "#le.fit(df['categories'])\n",
        "#y = list(le.transform(df['categories']))"
      ],
      "execution_count": null,
      "outputs": [
        {
          "output_type": "stream",
          "text": [
            "/usr/local/lib/python3.7/dist-packages/ipykernel_launcher.py:22: DeprecationWarning: Call to deprecated `__getitem__` (Method will be removed in 4.0.0, use self.wv.__getitem__() instead).\n"
          ],
          "name": "stderr"
        }
      ]
    },
    {
      "cell_type": "code",
      "metadata": {
        "colab": {
          "base_uri": "https://localhost:8080/"
        },
        "id": "ezCPZF0YZHdC",
        "outputId": "4e93fe69-5b16-484c-8bd5-6188ada83cec"
      },
      "source": [
        "param_grid = [{}]\n",
        "rf = GridSearchCV(RandomForestClassifier(), \n",
        "                           param_grid,\n",
        "                           cv=KFold(n_splits=10, \n",
        "                                              random_state=42).split(X, y), \n",
        "                           verbose=1)\n",
        "rf.fit(X, y)\n",
        "joblib.dump(rf.best_estimator_, '/content/drive/MyDrive/models/full_models/FULL_NLP_rf.pkl')"
      ],
      "execution_count": null,
      "outputs": [
        {
          "output_type": "stream",
          "text": [
            "/usr/local/lib/python3.7/dist-packages/sklearn/model_selection/_split.py:296: FutureWarning: Setting a random_state has no effect since shuffle is False. This will raise an error in 0.24. You should leave random_state to its default (None), or set shuffle=True.\n",
            "  FutureWarning\n",
            "[Parallel(n_jobs=1)]: Using backend SequentialBackend with 1 concurrent workers.\n"
          ],
          "name": "stderr"
        },
        {
          "output_type": "stream",
          "text": [
            "Fitting 10 folds for each of 1 candidates, totalling 10 fits\n"
          ],
          "name": "stdout"
        },
        {
          "output_type": "stream",
          "text": [
            "[Parallel(n_jobs=1)]: Done  10 out of  10 | elapsed: 10.7min finished\n"
          ],
          "name": "stderr"
        },
        {
          "output_type": "execute_result",
          "data": {
            "text/plain": [
              "['/content/drive/MyDrive/models/full_models/FULL_NLP_rf.pkl']"
            ]
          },
          "metadata": {
            "tags": []
          },
          "execution_count": 22
        }
      ]
    },
    {
      "cell_type": "code",
      "metadata": {
        "colab": {
          "base_uri": "https://localhost:8080/"
        },
        "id": "t_Zfbgc9Zlns",
        "outputId": "0a6e7c21-e42c-4bf9-df99-0c13ed149845"
      },
      "source": [
        "xgb = XGBClassifier(objective = 'multiclass:softmax')\n",
        "\n",
        "param_grid = [{}]\n",
        "clf_xgb = GridSearchCV(xgb, \n",
        "                           param_grid,\n",
        "                           cv=KFold(n_splits=10, \n",
        "                                              random_state=42).split(X, y), \n",
        "                           verbose=1)\n",
        "clf_xgb.fit(X, y)\n",
        "joblib.dump(clf_xgb.best_estimator_, '/content/drive/MyDrive/models/full_models/FULL_NLP_xgb.pkl')"
      ],
      "execution_count": null,
      "outputs": [
        {
          "output_type": "stream",
          "text": [
            "/usr/local/lib/python3.7/dist-packages/sklearn/model_selection/_split.py:296: FutureWarning: Setting a random_state has no effect since shuffle is False. This will raise an error in 0.24. You should leave random_state to its default (None), or set shuffle=True.\n",
            "  FutureWarning\n",
            "[Parallel(n_jobs=1)]: Using backend SequentialBackend with 1 concurrent workers.\n"
          ],
          "name": "stderr"
        },
        {
          "output_type": "stream",
          "text": [
            "Fitting 10 folds for each of 1 candidates, totalling 10 fits\n"
          ],
          "name": "stdout"
        },
        {
          "output_type": "stream",
          "text": [
            "[Parallel(n_jobs=1)]: Done  10 out of  10 | elapsed: 127.6min finished\n"
          ],
          "name": "stderr"
        },
        {
          "output_type": "execute_result",
          "data": {
            "text/plain": [
              "['/content/drive/MyDrive/models/full_models/FULL_NLP_xgb.pkl']"
            ]
          },
          "metadata": {
            "tags": []
          },
          "execution_count": 23
        }
      ]
    }
  ]
}